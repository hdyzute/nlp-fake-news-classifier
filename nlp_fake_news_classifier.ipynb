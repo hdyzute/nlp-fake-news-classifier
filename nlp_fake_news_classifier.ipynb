{
  "nbformat": 4,
  "nbformat_minor": 0,
  "metadata": {
    "colab": {
      "provenance": [],
      "collapsed_sections": [
        "N2e9nxpvHLkF",
        "GWBkBALA3Qif",
        "mFKXN3Rq3TiD",
        "8ELJhIlZ3YGZ",
        "_HtDsZkBGpAo",
        "qh988dA9XLwm",
        "uCfviJ9RGrqY",
        "aMOMNs5zVh8D",
        "AHgBKeU-GvR9",
        "ohHSKmOeG9Fg"
      ]
    },
    "kernelspec": {
      "name": "python3",
      "display_name": "Python 3"
    },
    "language_info": {
      "name": "python"
    },
    "widgets": {
      "application/vnd.jupyter.widget-state+json": {
        "de47780800954ada9362077b473b6baf": {
          "model_module": "@jupyter-widgets/controls",
          "model_name": "HBoxModel",
          "model_module_version": "1.5.0",
          "state": {
            "_dom_classes": [],
            "_model_module": "@jupyter-widgets/controls",
            "_model_module_version": "1.5.0",
            "_model_name": "HBoxModel",
            "_view_count": null,
            "_view_module": "@jupyter-widgets/controls",
            "_view_module_version": "1.5.0",
            "_view_name": "HBoxView",
            "box_style": "",
            "children": [
              "IPY_MODEL_ddc84ab54f734b3e902c17793680af2a",
              "IPY_MODEL_a8d664018330424985870792e568be45",
              "IPY_MODEL_20d9372de75c44d9b92d3281c36424d4"
            ],
            "layout": "IPY_MODEL_63987ed9aab74d6888f2b7ae40ba4be0"
          }
        },
        "ddc84ab54f734b3e902c17793680af2a": {
          "model_module": "@jupyter-widgets/controls",
          "model_name": "HTMLModel",
          "model_module_version": "1.5.0",
          "state": {
            "_dom_classes": [],
            "_model_module": "@jupyter-widgets/controls",
            "_model_module_version": "1.5.0",
            "_model_name": "HTMLModel",
            "_view_count": null,
            "_view_module": "@jupyter-widgets/controls",
            "_view_module_version": "1.5.0",
            "_view_name": "HTMLView",
            "description": "",
            "description_tooltip": null,
            "layout": "IPY_MODEL_fcccd831bd854570811bd8c261eae7fa",
            "placeholder": "​",
            "style": "IPY_MODEL_4d48af4920824dc3830304a2f9a30e36",
            "value": "model.safetensors: 100%"
          }
        },
        "a8d664018330424985870792e568be45": {
          "model_module": "@jupyter-widgets/controls",
          "model_name": "FloatProgressModel",
          "model_module_version": "1.5.0",
          "state": {
            "_dom_classes": [],
            "_model_module": "@jupyter-widgets/controls",
            "_model_module_version": "1.5.0",
            "_model_name": "FloatProgressModel",
            "_view_count": null,
            "_view_module": "@jupyter-widgets/controls",
            "_view_module_version": "1.5.0",
            "_view_name": "ProgressView",
            "bar_style": "success",
            "description": "",
            "description_tooltip": null,
            "layout": "IPY_MODEL_bba7a78a007f4c6b96baf9f4506cb33e",
            "max": 440449768,
            "min": 0,
            "orientation": "horizontal",
            "style": "IPY_MODEL_550d9114dc0b467884eef0cf3dd9f96b",
            "value": 440449768
          }
        },
        "20d9372de75c44d9b92d3281c36424d4": {
          "model_module": "@jupyter-widgets/controls",
          "model_name": "HTMLModel",
          "model_module_version": "1.5.0",
          "state": {
            "_dom_classes": [],
            "_model_module": "@jupyter-widgets/controls",
            "_model_module_version": "1.5.0",
            "_model_name": "HTMLModel",
            "_view_count": null,
            "_view_module": "@jupyter-widgets/controls",
            "_view_module_version": "1.5.0",
            "_view_name": "HTMLView",
            "description": "",
            "description_tooltip": null,
            "layout": "IPY_MODEL_90a880c8408340b69217e565b7b5bb51",
            "placeholder": "​",
            "style": "IPY_MODEL_28fa755bda54435eb4339ad7781582b5",
            "value": " 440M/440M [00:08&lt;00:00, 80.5MB/s]"
          }
        },
        "63987ed9aab74d6888f2b7ae40ba4be0": {
          "model_module": "@jupyter-widgets/base",
          "model_name": "LayoutModel",
          "model_module_version": "1.2.0",
          "state": {
            "_model_module": "@jupyter-widgets/base",
            "_model_module_version": "1.2.0",
            "_model_name": "LayoutModel",
            "_view_count": null,
            "_view_module": "@jupyter-widgets/base",
            "_view_module_version": "1.2.0",
            "_view_name": "LayoutView",
            "align_content": null,
            "align_items": null,
            "align_self": null,
            "border": null,
            "bottom": null,
            "display": null,
            "flex": null,
            "flex_flow": null,
            "grid_area": null,
            "grid_auto_columns": null,
            "grid_auto_flow": null,
            "grid_auto_rows": null,
            "grid_column": null,
            "grid_gap": null,
            "grid_row": null,
            "grid_template_areas": null,
            "grid_template_columns": null,
            "grid_template_rows": null,
            "height": null,
            "justify_content": null,
            "justify_items": null,
            "left": null,
            "margin": null,
            "max_height": null,
            "max_width": null,
            "min_height": null,
            "min_width": null,
            "object_fit": null,
            "object_position": null,
            "order": null,
            "overflow": null,
            "overflow_x": null,
            "overflow_y": null,
            "padding": null,
            "right": null,
            "top": null,
            "visibility": null,
            "width": null
          }
        },
        "fcccd831bd854570811bd8c261eae7fa": {
          "model_module": "@jupyter-widgets/base",
          "model_name": "LayoutModel",
          "model_module_version": "1.2.0",
          "state": {
            "_model_module": "@jupyter-widgets/base",
            "_model_module_version": "1.2.0",
            "_model_name": "LayoutModel",
            "_view_count": null,
            "_view_module": "@jupyter-widgets/base",
            "_view_module_version": "1.2.0",
            "_view_name": "LayoutView",
            "align_content": null,
            "align_items": null,
            "align_self": null,
            "border": null,
            "bottom": null,
            "display": null,
            "flex": null,
            "flex_flow": null,
            "grid_area": null,
            "grid_auto_columns": null,
            "grid_auto_flow": null,
            "grid_auto_rows": null,
            "grid_column": null,
            "grid_gap": null,
            "grid_row": null,
            "grid_template_areas": null,
            "grid_template_columns": null,
            "grid_template_rows": null,
            "height": null,
            "justify_content": null,
            "justify_items": null,
            "left": null,
            "margin": null,
            "max_height": null,
            "max_width": null,
            "min_height": null,
            "min_width": null,
            "object_fit": null,
            "object_position": null,
            "order": null,
            "overflow": null,
            "overflow_x": null,
            "overflow_y": null,
            "padding": null,
            "right": null,
            "top": null,
            "visibility": null,
            "width": null
          }
        },
        "4d48af4920824dc3830304a2f9a30e36": {
          "model_module": "@jupyter-widgets/controls",
          "model_name": "DescriptionStyleModel",
          "model_module_version": "1.5.0",
          "state": {
            "_model_module": "@jupyter-widgets/controls",
            "_model_module_version": "1.5.0",
            "_model_name": "DescriptionStyleModel",
            "_view_count": null,
            "_view_module": "@jupyter-widgets/base",
            "_view_module_version": "1.2.0",
            "_view_name": "StyleView",
            "description_width": ""
          }
        },
        "bba7a78a007f4c6b96baf9f4506cb33e": {
          "model_module": "@jupyter-widgets/base",
          "model_name": "LayoutModel",
          "model_module_version": "1.2.0",
          "state": {
            "_model_module": "@jupyter-widgets/base",
            "_model_module_version": "1.2.0",
            "_model_name": "LayoutModel",
            "_view_count": null,
            "_view_module": "@jupyter-widgets/base",
            "_view_module_version": "1.2.0",
            "_view_name": "LayoutView",
            "align_content": null,
            "align_items": null,
            "align_self": null,
            "border": null,
            "bottom": null,
            "display": null,
            "flex": null,
            "flex_flow": null,
            "grid_area": null,
            "grid_auto_columns": null,
            "grid_auto_flow": null,
            "grid_auto_rows": null,
            "grid_column": null,
            "grid_gap": null,
            "grid_row": null,
            "grid_template_areas": null,
            "grid_template_columns": null,
            "grid_template_rows": null,
            "height": null,
            "justify_content": null,
            "justify_items": null,
            "left": null,
            "margin": null,
            "max_height": null,
            "max_width": null,
            "min_height": null,
            "min_width": null,
            "object_fit": null,
            "object_position": null,
            "order": null,
            "overflow": null,
            "overflow_x": null,
            "overflow_y": null,
            "padding": null,
            "right": null,
            "top": null,
            "visibility": null,
            "width": null
          }
        },
        "550d9114dc0b467884eef0cf3dd9f96b": {
          "model_module": "@jupyter-widgets/controls",
          "model_name": "ProgressStyleModel",
          "model_module_version": "1.5.0",
          "state": {
            "_model_module": "@jupyter-widgets/controls",
            "_model_module_version": "1.5.0",
            "_model_name": "ProgressStyleModel",
            "_view_count": null,
            "_view_module": "@jupyter-widgets/base",
            "_view_module_version": "1.2.0",
            "_view_name": "StyleView",
            "bar_color": null,
            "description_width": ""
          }
        },
        "90a880c8408340b69217e565b7b5bb51": {
          "model_module": "@jupyter-widgets/base",
          "model_name": "LayoutModel",
          "model_module_version": "1.2.0",
          "state": {
            "_model_module": "@jupyter-widgets/base",
            "_model_module_version": "1.2.0",
            "_model_name": "LayoutModel",
            "_view_count": null,
            "_view_module": "@jupyter-widgets/base",
            "_view_module_version": "1.2.0",
            "_view_name": "LayoutView",
            "align_content": null,
            "align_items": null,
            "align_self": null,
            "border": null,
            "bottom": null,
            "display": null,
            "flex": null,
            "flex_flow": null,
            "grid_area": null,
            "grid_auto_columns": null,
            "grid_auto_flow": null,
            "grid_auto_rows": null,
            "grid_column": null,
            "grid_gap": null,
            "grid_row": null,
            "grid_template_areas": null,
            "grid_template_columns": null,
            "grid_template_rows": null,
            "height": null,
            "justify_content": null,
            "justify_items": null,
            "left": null,
            "margin": null,
            "max_height": null,
            "max_width": null,
            "min_height": null,
            "min_width": null,
            "object_fit": null,
            "object_position": null,
            "order": null,
            "overflow": null,
            "overflow_x": null,
            "overflow_y": null,
            "padding": null,
            "right": null,
            "top": null,
            "visibility": null,
            "width": null
          }
        },
        "28fa755bda54435eb4339ad7781582b5": {
          "model_module": "@jupyter-widgets/controls",
          "model_name": "DescriptionStyleModel",
          "model_module_version": "1.5.0",
          "state": {
            "_model_module": "@jupyter-widgets/controls",
            "_model_module_version": "1.5.0",
            "_model_name": "DescriptionStyleModel",
            "_view_count": null,
            "_view_module": "@jupyter-widgets/base",
            "_view_module_version": "1.2.0",
            "_view_name": "StyleView",
            "description_width": ""
          }
        },
        "71f17f8994a04ad18b4e088ec4f48fb9": {
          "model_module": "@jupyter-widgets/controls",
          "model_name": "HBoxModel",
          "model_module_version": "1.5.0",
          "state": {
            "_dom_classes": [],
            "_model_module": "@jupyter-widgets/controls",
            "_model_module_version": "1.5.0",
            "_model_name": "HBoxModel",
            "_view_count": null,
            "_view_module": "@jupyter-widgets/controls",
            "_view_module_version": "1.5.0",
            "_view_name": "HBoxView",
            "box_style": "",
            "children": [
              "IPY_MODEL_f7d6bbaf451c4971b5096bb72c477148",
              "IPY_MODEL_94c5cf8c65ae48f89f5e5c5a20e93901",
              "IPY_MODEL_e3a4774ce29f4243b46d0caac4b5b548"
            ],
            "layout": "IPY_MODEL_8feb5d0def764d7b99adefe0169bd682"
          }
        },
        "f7d6bbaf451c4971b5096bb72c477148": {
          "model_module": "@jupyter-widgets/controls",
          "model_name": "HTMLModel",
          "model_module_version": "1.5.0",
          "state": {
            "_dom_classes": [],
            "_model_module": "@jupyter-widgets/controls",
            "_model_module_version": "1.5.0",
            "_model_name": "HTMLModel",
            "_view_count": null,
            "_view_module": "@jupyter-widgets/controls",
            "_view_module_version": "1.5.0",
            "_view_name": "HTMLView",
            "description": "",
            "description_tooltip": null,
            "layout": "IPY_MODEL_ea901f0d46c643bea5a059e466eaf2c0",
            "placeholder": "​",
            "style": "IPY_MODEL_cc0e277aab344c02b20e7a12bc4066af",
            "value": "Training: 100%"
          }
        },
        "94c5cf8c65ae48f89f5e5c5a20e93901": {
          "model_module": "@jupyter-widgets/controls",
          "model_name": "FloatProgressModel",
          "model_module_version": "1.5.0",
          "state": {
            "_dom_classes": [],
            "_model_module": "@jupyter-widgets/controls",
            "_model_module_version": "1.5.0",
            "_model_name": "FloatProgressModel",
            "_view_count": null,
            "_view_module": "@jupyter-widgets/controls",
            "_view_module_version": "1.5.0",
            "_view_name": "ProgressView",
            "bar_style": "success",
            "description": "",
            "description_tooltip": null,
            "layout": "IPY_MODEL_c150adf353c74fe59692ffc2ae51d0cd",
            "max": 3927,
            "min": 0,
            "orientation": "horizontal",
            "style": "IPY_MODEL_7bd9f5241a644b33b80a2e87094da442",
            "value": 3927
          }
        },
        "e3a4774ce29f4243b46d0caac4b5b548": {
          "model_module": "@jupyter-widgets/controls",
          "model_name": "HTMLModel",
          "model_module_version": "1.5.0",
          "state": {
            "_dom_classes": [],
            "_model_module": "@jupyter-widgets/controls",
            "_model_module_version": "1.5.0",
            "_model_name": "HTMLModel",
            "_view_count": null,
            "_view_module": "@jupyter-widgets/controls",
            "_view_module_version": "1.5.0",
            "_view_name": "HTMLView",
            "description": "",
            "description_tooltip": null,
            "layout": "IPY_MODEL_ee68630fad9f47ed81b63db95df0cebd",
            "placeholder": "​",
            "style": "IPY_MODEL_001bbe4a350344358568c088bb805478",
            "value": " 3927/3927 [23:29&lt;00:00,  2.84it/s, loss=0.0024, acc=0.9439]"
          }
        },
        "8feb5d0def764d7b99adefe0169bd682": {
          "model_module": "@jupyter-widgets/base",
          "model_name": "LayoutModel",
          "model_module_version": "1.2.0",
          "state": {
            "_model_module": "@jupyter-widgets/base",
            "_model_module_version": "1.2.0",
            "_model_name": "LayoutModel",
            "_view_count": null,
            "_view_module": "@jupyter-widgets/base",
            "_view_module_version": "1.2.0",
            "_view_name": "LayoutView",
            "align_content": null,
            "align_items": null,
            "align_self": null,
            "border": null,
            "bottom": null,
            "display": null,
            "flex": null,
            "flex_flow": null,
            "grid_area": null,
            "grid_auto_columns": null,
            "grid_auto_flow": null,
            "grid_auto_rows": null,
            "grid_column": null,
            "grid_gap": null,
            "grid_row": null,
            "grid_template_areas": null,
            "grid_template_columns": null,
            "grid_template_rows": null,
            "height": null,
            "justify_content": null,
            "justify_items": null,
            "left": null,
            "margin": null,
            "max_height": null,
            "max_width": null,
            "min_height": null,
            "min_width": null,
            "object_fit": null,
            "object_position": null,
            "order": null,
            "overflow": null,
            "overflow_x": null,
            "overflow_y": null,
            "padding": null,
            "right": null,
            "top": null,
            "visibility": null,
            "width": null
          }
        },
        "ea901f0d46c643bea5a059e466eaf2c0": {
          "model_module": "@jupyter-widgets/base",
          "model_name": "LayoutModel",
          "model_module_version": "1.2.0",
          "state": {
            "_model_module": "@jupyter-widgets/base",
            "_model_module_version": "1.2.0",
            "_model_name": "LayoutModel",
            "_view_count": null,
            "_view_module": "@jupyter-widgets/base",
            "_view_module_version": "1.2.0",
            "_view_name": "LayoutView",
            "align_content": null,
            "align_items": null,
            "align_self": null,
            "border": null,
            "bottom": null,
            "display": null,
            "flex": null,
            "flex_flow": null,
            "grid_area": null,
            "grid_auto_columns": null,
            "grid_auto_flow": null,
            "grid_auto_rows": null,
            "grid_column": null,
            "grid_gap": null,
            "grid_row": null,
            "grid_template_areas": null,
            "grid_template_columns": null,
            "grid_template_rows": null,
            "height": null,
            "justify_content": null,
            "justify_items": null,
            "left": null,
            "margin": null,
            "max_height": null,
            "max_width": null,
            "min_height": null,
            "min_width": null,
            "object_fit": null,
            "object_position": null,
            "order": null,
            "overflow": null,
            "overflow_x": null,
            "overflow_y": null,
            "padding": null,
            "right": null,
            "top": null,
            "visibility": null,
            "width": null
          }
        },
        "cc0e277aab344c02b20e7a12bc4066af": {
          "model_module": "@jupyter-widgets/controls",
          "model_name": "DescriptionStyleModel",
          "model_module_version": "1.5.0",
          "state": {
            "_model_module": "@jupyter-widgets/controls",
            "_model_module_version": "1.5.0",
            "_model_name": "DescriptionStyleModel",
            "_view_count": null,
            "_view_module": "@jupyter-widgets/base",
            "_view_module_version": "1.2.0",
            "_view_name": "StyleView",
            "description_width": ""
          }
        },
        "c150adf353c74fe59692ffc2ae51d0cd": {
          "model_module": "@jupyter-widgets/base",
          "model_name": "LayoutModel",
          "model_module_version": "1.2.0",
          "state": {
            "_model_module": "@jupyter-widgets/base",
            "_model_module_version": "1.2.0",
            "_model_name": "LayoutModel",
            "_view_count": null,
            "_view_module": "@jupyter-widgets/base",
            "_view_module_version": "1.2.0",
            "_view_name": "LayoutView",
            "align_content": null,
            "align_items": null,
            "align_self": null,
            "border": null,
            "bottom": null,
            "display": null,
            "flex": null,
            "flex_flow": null,
            "grid_area": null,
            "grid_auto_columns": null,
            "grid_auto_flow": null,
            "grid_auto_rows": null,
            "grid_column": null,
            "grid_gap": null,
            "grid_row": null,
            "grid_template_areas": null,
            "grid_template_columns": null,
            "grid_template_rows": null,
            "height": null,
            "justify_content": null,
            "justify_items": null,
            "left": null,
            "margin": null,
            "max_height": null,
            "max_width": null,
            "min_height": null,
            "min_width": null,
            "object_fit": null,
            "object_position": null,
            "order": null,
            "overflow": null,
            "overflow_x": null,
            "overflow_y": null,
            "padding": null,
            "right": null,
            "top": null,
            "visibility": null,
            "width": null
          }
        },
        "7bd9f5241a644b33b80a2e87094da442": {
          "model_module": "@jupyter-widgets/controls",
          "model_name": "ProgressStyleModel",
          "model_module_version": "1.5.0",
          "state": {
            "_model_module": "@jupyter-widgets/controls",
            "_model_module_version": "1.5.0",
            "_model_name": "ProgressStyleModel",
            "_view_count": null,
            "_view_module": "@jupyter-widgets/base",
            "_view_module_version": "1.2.0",
            "_view_name": "StyleView",
            "bar_color": null,
            "description_width": ""
          }
        },
        "ee68630fad9f47ed81b63db95df0cebd": {
          "model_module": "@jupyter-widgets/base",
          "model_name": "LayoutModel",
          "model_module_version": "1.2.0",
          "state": {
            "_model_module": "@jupyter-widgets/base",
            "_model_module_version": "1.2.0",
            "_model_name": "LayoutModel",
            "_view_count": null,
            "_view_module": "@jupyter-widgets/base",
            "_view_module_version": "1.2.0",
            "_view_name": "LayoutView",
            "align_content": null,
            "align_items": null,
            "align_self": null,
            "border": null,
            "bottom": null,
            "display": null,
            "flex": null,
            "flex_flow": null,
            "grid_area": null,
            "grid_auto_columns": null,
            "grid_auto_flow": null,
            "grid_auto_rows": null,
            "grid_column": null,
            "grid_gap": null,
            "grid_row": null,
            "grid_template_areas": null,
            "grid_template_columns": null,
            "grid_template_rows": null,
            "height": null,
            "justify_content": null,
            "justify_items": null,
            "left": null,
            "margin": null,
            "max_height": null,
            "max_width": null,
            "min_height": null,
            "min_width": null,
            "object_fit": null,
            "object_position": null,
            "order": null,
            "overflow": null,
            "overflow_x": null,
            "overflow_y": null,
            "padding": null,
            "right": null,
            "top": null,
            "visibility": null,
            "width": null
          }
        },
        "001bbe4a350344358568c088bb805478": {
          "model_module": "@jupyter-widgets/controls",
          "model_name": "DescriptionStyleModel",
          "model_module_version": "1.5.0",
          "state": {
            "_model_module": "@jupyter-widgets/controls",
            "_model_module_version": "1.5.0",
            "_model_name": "DescriptionStyleModel",
            "_view_count": null,
            "_view_module": "@jupyter-widgets/base",
            "_view_module_version": "1.2.0",
            "_view_name": "StyleView",
            "description_width": ""
          }
        },
        "9dcf5a2df097416f8fb83d65e63bdfd6": {
          "model_module": "@jupyter-widgets/controls",
          "model_name": "HBoxModel",
          "model_module_version": "1.5.0",
          "state": {
            "_dom_classes": [],
            "_model_module": "@jupyter-widgets/controls",
            "_model_module_version": "1.5.0",
            "_model_name": "HBoxModel",
            "_view_count": null,
            "_view_module": "@jupyter-widgets/controls",
            "_view_module_version": "1.5.0",
            "_view_name": "HBoxView",
            "box_style": "",
            "children": [
              "IPY_MODEL_eebdf1fcfa204e5fa0c47ddf8d920e05",
              "IPY_MODEL_564dda889e2345c7ac7c86b5e6246ac4",
              "IPY_MODEL_23fbdb08629b4cc4805b82a4ac5e0fe0"
            ],
            "layout": "IPY_MODEL_e0b8f0daf9c04a8892cee05534ef3713"
          }
        },
        "eebdf1fcfa204e5fa0c47ddf8d920e05": {
          "model_module": "@jupyter-widgets/controls",
          "model_name": "HTMLModel",
          "model_module_version": "1.5.0",
          "state": {
            "_dom_classes": [],
            "_model_module": "@jupyter-widgets/controls",
            "_model_module_version": "1.5.0",
            "_model_name": "HTMLModel",
            "_view_count": null,
            "_view_module": "@jupyter-widgets/controls",
            "_view_module_version": "1.5.0",
            "_view_name": "HTMLView",
            "description": "",
            "description_tooltip": null,
            "layout": "IPY_MODEL_065d39a7a2f44f93956aee81eac8b720",
            "placeholder": "​",
            "style": "IPY_MODEL_7ccd39eb70ad4ca9936e4a88b5b6cd43",
            "value": "Evaluating: 100%"
          }
        },
        "564dda889e2345c7ac7c86b5e6246ac4": {
          "model_module": "@jupyter-widgets/controls",
          "model_name": "FloatProgressModel",
          "model_module_version": "1.5.0",
          "state": {
            "_dom_classes": [],
            "_model_module": "@jupyter-widgets/controls",
            "_model_module_version": "1.5.0",
            "_model_name": "FloatProgressModel",
            "_view_count": null,
            "_view_module": "@jupyter-widgets/controls",
            "_view_module_version": "1.5.0",
            "_view_name": "ProgressView",
            "bar_style": "success",
            "description": "",
            "description_tooltip": null,
            "layout": "IPY_MODEL_1ef2e6c4135d4049bbb6abafedb22c10",
            "max": 491,
            "min": 0,
            "orientation": "horizontal",
            "style": "IPY_MODEL_57a8a75258c9413baf74dd79f8ff98d8",
            "value": 491
          }
        },
        "23fbdb08629b4cc4805b82a4ac5e0fe0": {
          "model_module": "@jupyter-widgets/controls",
          "model_name": "HTMLModel",
          "model_module_version": "1.5.0",
          "state": {
            "_dom_classes": [],
            "_model_module": "@jupyter-widgets/controls",
            "_model_module_version": "1.5.0",
            "_model_name": "HTMLModel",
            "_view_count": null,
            "_view_module": "@jupyter-widgets/controls",
            "_view_module_version": "1.5.0",
            "_view_name": "HTMLView",
            "description": "",
            "description_tooltip": null,
            "layout": "IPY_MODEL_e1a4498b401e4d0db124400280da7110",
            "placeholder": "​",
            "style": "IPY_MODEL_3c2138d2bc964216a9bf9d0d70774ac0",
            "value": " 491/491 [00:56&lt;00:00,  8.80it/s]"
          }
        },
        "e0b8f0daf9c04a8892cee05534ef3713": {
          "model_module": "@jupyter-widgets/base",
          "model_name": "LayoutModel",
          "model_module_version": "1.2.0",
          "state": {
            "_model_module": "@jupyter-widgets/base",
            "_model_module_version": "1.2.0",
            "_model_name": "LayoutModel",
            "_view_count": null,
            "_view_module": "@jupyter-widgets/base",
            "_view_module_version": "1.2.0",
            "_view_name": "LayoutView",
            "align_content": null,
            "align_items": null,
            "align_self": null,
            "border": null,
            "bottom": null,
            "display": null,
            "flex": null,
            "flex_flow": null,
            "grid_area": null,
            "grid_auto_columns": null,
            "grid_auto_flow": null,
            "grid_auto_rows": null,
            "grid_column": null,
            "grid_gap": null,
            "grid_row": null,
            "grid_template_areas": null,
            "grid_template_columns": null,
            "grid_template_rows": null,
            "height": null,
            "justify_content": null,
            "justify_items": null,
            "left": null,
            "margin": null,
            "max_height": null,
            "max_width": null,
            "min_height": null,
            "min_width": null,
            "object_fit": null,
            "object_position": null,
            "order": null,
            "overflow": null,
            "overflow_x": null,
            "overflow_y": null,
            "padding": null,
            "right": null,
            "top": null,
            "visibility": null,
            "width": null
          }
        },
        "065d39a7a2f44f93956aee81eac8b720": {
          "model_module": "@jupyter-widgets/base",
          "model_name": "LayoutModel",
          "model_module_version": "1.2.0",
          "state": {
            "_model_module": "@jupyter-widgets/base",
            "_model_module_version": "1.2.0",
            "_model_name": "LayoutModel",
            "_view_count": null,
            "_view_module": "@jupyter-widgets/base",
            "_view_module_version": "1.2.0",
            "_view_name": "LayoutView",
            "align_content": null,
            "align_items": null,
            "align_self": null,
            "border": null,
            "bottom": null,
            "display": null,
            "flex": null,
            "flex_flow": null,
            "grid_area": null,
            "grid_auto_columns": null,
            "grid_auto_flow": null,
            "grid_auto_rows": null,
            "grid_column": null,
            "grid_gap": null,
            "grid_row": null,
            "grid_template_areas": null,
            "grid_template_columns": null,
            "grid_template_rows": null,
            "height": null,
            "justify_content": null,
            "justify_items": null,
            "left": null,
            "margin": null,
            "max_height": null,
            "max_width": null,
            "min_height": null,
            "min_width": null,
            "object_fit": null,
            "object_position": null,
            "order": null,
            "overflow": null,
            "overflow_x": null,
            "overflow_y": null,
            "padding": null,
            "right": null,
            "top": null,
            "visibility": null,
            "width": null
          }
        },
        "7ccd39eb70ad4ca9936e4a88b5b6cd43": {
          "model_module": "@jupyter-widgets/controls",
          "model_name": "DescriptionStyleModel",
          "model_module_version": "1.5.0",
          "state": {
            "_model_module": "@jupyter-widgets/controls",
            "_model_module_version": "1.5.0",
            "_model_name": "DescriptionStyleModel",
            "_view_count": null,
            "_view_module": "@jupyter-widgets/base",
            "_view_module_version": "1.2.0",
            "_view_name": "StyleView",
            "description_width": ""
          }
        },
        "1ef2e6c4135d4049bbb6abafedb22c10": {
          "model_module": "@jupyter-widgets/base",
          "model_name": "LayoutModel",
          "model_module_version": "1.2.0",
          "state": {
            "_model_module": "@jupyter-widgets/base",
            "_model_module_version": "1.2.0",
            "_model_name": "LayoutModel",
            "_view_count": null,
            "_view_module": "@jupyter-widgets/base",
            "_view_module_version": "1.2.0",
            "_view_name": "LayoutView",
            "align_content": null,
            "align_items": null,
            "align_self": null,
            "border": null,
            "bottom": null,
            "display": null,
            "flex": null,
            "flex_flow": null,
            "grid_area": null,
            "grid_auto_columns": null,
            "grid_auto_flow": null,
            "grid_auto_rows": null,
            "grid_column": null,
            "grid_gap": null,
            "grid_row": null,
            "grid_template_areas": null,
            "grid_template_columns": null,
            "grid_template_rows": null,
            "height": null,
            "justify_content": null,
            "justify_items": null,
            "left": null,
            "margin": null,
            "max_height": null,
            "max_width": null,
            "min_height": null,
            "min_width": null,
            "object_fit": null,
            "object_position": null,
            "order": null,
            "overflow": null,
            "overflow_x": null,
            "overflow_y": null,
            "padding": null,
            "right": null,
            "top": null,
            "visibility": null,
            "width": null
          }
        },
        "57a8a75258c9413baf74dd79f8ff98d8": {
          "model_module": "@jupyter-widgets/controls",
          "model_name": "ProgressStyleModel",
          "model_module_version": "1.5.0",
          "state": {
            "_model_module": "@jupyter-widgets/controls",
            "_model_module_version": "1.5.0",
            "_model_name": "ProgressStyleModel",
            "_view_count": null,
            "_view_module": "@jupyter-widgets/base",
            "_view_module_version": "1.2.0",
            "_view_name": "StyleView",
            "bar_color": null,
            "description_width": ""
          }
        },
        "e1a4498b401e4d0db124400280da7110": {
          "model_module": "@jupyter-widgets/base",
          "model_name": "LayoutModel",
          "model_module_version": "1.2.0",
          "state": {
            "_model_module": "@jupyter-widgets/base",
            "_model_module_version": "1.2.0",
            "_model_name": "LayoutModel",
            "_view_count": null,
            "_view_module": "@jupyter-widgets/base",
            "_view_module_version": "1.2.0",
            "_view_name": "LayoutView",
            "align_content": null,
            "align_items": null,
            "align_self": null,
            "border": null,
            "bottom": null,
            "display": null,
            "flex": null,
            "flex_flow": null,
            "grid_area": null,
            "grid_auto_columns": null,
            "grid_auto_flow": null,
            "grid_auto_rows": null,
            "grid_column": null,
            "grid_gap": null,
            "grid_row": null,
            "grid_template_areas": null,
            "grid_template_columns": null,
            "grid_template_rows": null,
            "height": null,
            "justify_content": null,
            "justify_items": null,
            "left": null,
            "margin": null,
            "max_height": null,
            "max_width": null,
            "min_height": null,
            "min_width": null,
            "object_fit": null,
            "object_position": null,
            "order": null,
            "overflow": null,
            "overflow_x": null,
            "overflow_y": null,
            "padding": null,
            "right": null,
            "top": null,
            "visibility": null,
            "width": null
          }
        },
        "3c2138d2bc964216a9bf9d0d70774ac0": {
          "model_module": "@jupyter-widgets/controls",
          "model_name": "DescriptionStyleModel",
          "model_module_version": "1.5.0",
          "state": {
            "_model_module": "@jupyter-widgets/controls",
            "_model_module_version": "1.5.0",
            "_model_name": "DescriptionStyleModel",
            "_view_count": null,
            "_view_module": "@jupyter-widgets/base",
            "_view_module_version": "1.2.0",
            "_view_name": "StyleView",
            "description_width": ""
          }
        },
        "a169dd7bad8e4f388b9e8d2ff516667a": {
          "model_module": "@jupyter-widgets/controls",
          "model_name": "HBoxModel",
          "model_module_version": "1.5.0",
          "state": {
            "_dom_classes": [],
            "_model_module": "@jupyter-widgets/controls",
            "_model_module_version": "1.5.0",
            "_model_name": "HBoxModel",
            "_view_count": null,
            "_view_module": "@jupyter-widgets/controls",
            "_view_module_version": "1.5.0",
            "_view_name": "HBoxView",
            "box_style": "",
            "children": [
              "IPY_MODEL_a29349151a6c4160be902b83eec4cf23",
              "IPY_MODEL_2bbe089c7d2d4c9d997be8a2f5bb4335",
              "IPY_MODEL_4ebd0de173fc4050bedfa17957f23a4d"
            ],
            "layout": "IPY_MODEL_4a488ccd80c74e56bd2f7dc066865753"
          }
        },
        "a29349151a6c4160be902b83eec4cf23": {
          "model_module": "@jupyter-widgets/controls",
          "model_name": "HTMLModel",
          "model_module_version": "1.5.0",
          "state": {
            "_dom_classes": [],
            "_model_module": "@jupyter-widgets/controls",
            "_model_module_version": "1.5.0",
            "_model_name": "HTMLModel",
            "_view_count": null,
            "_view_module": "@jupyter-widgets/controls",
            "_view_module_version": "1.5.0",
            "_view_name": "HTMLView",
            "description": "",
            "description_tooltip": null,
            "layout": "IPY_MODEL_2b28ce8def5a41ae83bc529fd6021a85",
            "placeholder": "​",
            "style": "IPY_MODEL_f96a12bf8a5c48f4a024f42bb076e308",
            "value": "Training: 100%"
          }
        },
        "2bbe089c7d2d4c9d997be8a2f5bb4335": {
          "model_module": "@jupyter-widgets/controls",
          "model_name": "FloatProgressModel",
          "model_module_version": "1.5.0",
          "state": {
            "_dom_classes": [],
            "_model_module": "@jupyter-widgets/controls",
            "_model_module_version": "1.5.0",
            "_model_name": "FloatProgressModel",
            "_view_count": null,
            "_view_module": "@jupyter-widgets/controls",
            "_view_module_version": "1.5.0",
            "_view_name": "ProgressView",
            "bar_style": "success",
            "description": "",
            "description_tooltip": null,
            "layout": "IPY_MODEL_acab1f8c05784818bdccbc1ceb99380e",
            "max": 3927,
            "min": 0,
            "orientation": "horizontal",
            "style": "IPY_MODEL_ebe150379c14479eb58e5c7aba316be4",
            "value": 3927
          }
        },
        "4ebd0de173fc4050bedfa17957f23a4d": {
          "model_module": "@jupyter-widgets/controls",
          "model_name": "HTMLModel",
          "model_module_version": "1.5.0",
          "state": {
            "_dom_classes": [],
            "_model_module": "@jupyter-widgets/controls",
            "_model_module_version": "1.5.0",
            "_model_name": "HTMLModel",
            "_view_count": null,
            "_view_module": "@jupyter-widgets/controls",
            "_view_module_version": "1.5.0",
            "_view_name": "HTMLView",
            "description": "",
            "description_tooltip": null,
            "layout": "IPY_MODEL_310f59202d4644d2bf00e28411d2b7b5",
            "placeholder": "​",
            "style": "IPY_MODEL_c87a10f47b944d148aa7c417d1aeee7c",
            "value": " 3927/3927 [23:34&lt;00:00,  2.85it/s, loss=0.0308, acc=0.9807]"
          }
        },
        "4a488ccd80c74e56bd2f7dc066865753": {
          "model_module": "@jupyter-widgets/base",
          "model_name": "LayoutModel",
          "model_module_version": "1.2.0",
          "state": {
            "_model_module": "@jupyter-widgets/base",
            "_model_module_version": "1.2.0",
            "_model_name": "LayoutModel",
            "_view_count": null,
            "_view_module": "@jupyter-widgets/base",
            "_view_module_version": "1.2.0",
            "_view_name": "LayoutView",
            "align_content": null,
            "align_items": null,
            "align_self": null,
            "border": null,
            "bottom": null,
            "display": null,
            "flex": null,
            "flex_flow": null,
            "grid_area": null,
            "grid_auto_columns": null,
            "grid_auto_flow": null,
            "grid_auto_rows": null,
            "grid_column": null,
            "grid_gap": null,
            "grid_row": null,
            "grid_template_areas": null,
            "grid_template_columns": null,
            "grid_template_rows": null,
            "height": null,
            "justify_content": null,
            "justify_items": null,
            "left": null,
            "margin": null,
            "max_height": null,
            "max_width": null,
            "min_height": null,
            "min_width": null,
            "object_fit": null,
            "object_position": null,
            "order": null,
            "overflow": null,
            "overflow_x": null,
            "overflow_y": null,
            "padding": null,
            "right": null,
            "top": null,
            "visibility": null,
            "width": null
          }
        },
        "2b28ce8def5a41ae83bc529fd6021a85": {
          "model_module": "@jupyter-widgets/base",
          "model_name": "LayoutModel",
          "model_module_version": "1.2.0",
          "state": {
            "_model_module": "@jupyter-widgets/base",
            "_model_module_version": "1.2.0",
            "_model_name": "LayoutModel",
            "_view_count": null,
            "_view_module": "@jupyter-widgets/base",
            "_view_module_version": "1.2.0",
            "_view_name": "LayoutView",
            "align_content": null,
            "align_items": null,
            "align_self": null,
            "border": null,
            "bottom": null,
            "display": null,
            "flex": null,
            "flex_flow": null,
            "grid_area": null,
            "grid_auto_columns": null,
            "grid_auto_flow": null,
            "grid_auto_rows": null,
            "grid_column": null,
            "grid_gap": null,
            "grid_row": null,
            "grid_template_areas": null,
            "grid_template_columns": null,
            "grid_template_rows": null,
            "height": null,
            "justify_content": null,
            "justify_items": null,
            "left": null,
            "margin": null,
            "max_height": null,
            "max_width": null,
            "min_height": null,
            "min_width": null,
            "object_fit": null,
            "object_position": null,
            "order": null,
            "overflow": null,
            "overflow_x": null,
            "overflow_y": null,
            "padding": null,
            "right": null,
            "top": null,
            "visibility": null,
            "width": null
          }
        },
        "f96a12bf8a5c48f4a024f42bb076e308": {
          "model_module": "@jupyter-widgets/controls",
          "model_name": "DescriptionStyleModel",
          "model_module_version": "1.5.0",
          "state": {
            "_model_module": "@jupyter-widgets/controls",
            "_model_module_version": "1.5.0",
            "_model_name": "DescriptionStyleModel",
            "_view_count": null,
            "_view_module": "@jupyter-widgets/base",
            "_view_module_version": "1.2.0",
            "_view_name": "StyleView",
            "description_width": ""
          }
        },
        "acab1f8c05784818bdccbc1ceb99380e": {
          "model_module": "@jupyter-widgets/base",
          "model_name": "LayoutModel",
          "model_module_version": "1.2.0",
          "state": {
            "_model_module": "@jupyter-widgets/base",
            "_model_module_version": "1.2.0",
            "_model_name": "LayoutModel",
            "_view_count": null,
            "_view_module": "@jupyter-widgets/base",
            "_view_module_version": "1.2.0",
            "_view_name": "LayoutView",
            "align_content": null,
            "align_items": null,
            "align_self": null,
            "border": null,
            "bottom": null,
            "display": null,
            "flex": null,
            "flex_flow": null,
            "grid_area": null,
            "grid_auto_columns": null,
            "grid_auto_flow": null,
            "grid_auto_rows": null,
            "grid_column": null,
            "grid_gap": null,
            "grid_row": null,
            "grid_template_areas": null,
            "grid_template_columns": null,
            "grid_template_rows": null,
            "height": null,
            "justify_content": null,
            "justify_items": null,
            "left": null,
            "margin": null,
            "max_height": null,
            "max_width": null,
            "min_height": null,
            "min_width": null,
            "object_fit": null,
            "object_position": null,
            "order": null,
            "overflow": null,
            "overflow_x": null,
            "overflow_y": null,
            "padding": null,
            "right": null,
            "top": null,
            "visibility": null,
            "width": null
          }
        },
        "ebe150379c14479eb58e5c7aba316be4": {
          "model_module": "@jupyter-widgets/controls",
          "model_name": "ProgressStyleModel",
          "model_module_version": "1.5.0",
          "state": {
            "_model_module": "@jupyter-widgets/controls",
            "_model_module_version": "1.5.0",
            "_model_name": "ProgressStyleModel",
            "_view_count": null,
            "_view_module": "@jupyter-widgets/base",
            "_view_module_version": "1.2.0",
            "_view_name": "StyleView",
            "bar_color": null,
            "description_width": ""
          }
        },
        "310f59202d4644d2bf00e28411d2b7b5": {
          "model_module": "@jupyter-widgets/base",
          "model_name": "LayoutModel",
          "model_module_version": "1.2.0",
          "state": {
            "_model_module": "@jupyter-widgets/base",
            "_model_module_version": "1.2.0",
            "_model_name": "LayoutModel",
            "_view_count": null,
            "_view_module": "@jupyter-widgets/base",
            "_view_module_version": "1.2.0",
            "_view_name": "LayoutView",
            "align_content": null,
            "align_items": null,
            "align_self": null,
            "border": null,
            "bottom": null,
            "display": null,
            "flex": null,
            "flex_flow": null,
            "grid_area": null,
            "grid_auto_columns": null,
            "grid_auto_flow": null,
            "grid_auto_rows": null,
            "grid_column": null,
            "grid_gap": null,
            "grid_row": null,
            "grid_template_areas": null,
            "grid_template_columns": null,
            "grid_template_rows": null,
            "height": null,
            "justify_content": null,
            "justify_items": null,
            "left": null,
            "margin": null,
            "max_height": null,
            "max_width": null,
            "min_height": null,
            "min_width": null,
            "object_fit": null,
            "object_position": null,
            "order": null,
            "overflow": null,
            "overflow_x": null,
            "overflow_y": null,
            "padding": null,
            "right": null,
            "top": null,
            "visibility": null,
            "width": null
          }
        },
        "c87a10f47b944d148aa7c417d1aeee7c": {
          "model_module": "@jupyter-widgets/controls",
          "model_name": "DescriptionStyleModel",
          "model_module_version": "1.5.0",
          "state": {
            "_model_module": "@jupyter-widgets/controls",
            "_model_module_version": "1.5.0",
            "_model_name": "DescriptionStyleModel",
            "_view_count": null,
            "_view_module": "@jupyter-widgets/base",
            "_view_module_version": "1.2.0",
            "_view_name": "StyleView",
            "description_width": ""
          }
        },
        "787495f9c73d4d58921c19f52457ea54": {
          "model_module": "@jupyter-widgets/controls",
          "model_name": "HBoxModel",
          "model_module_version": "1.5.0",
          "state": {
            "_dom_classes": [],
            "_model_module": "@jupyter-widgets/controls",
            "_model_module_version": "1.5.0",
            "_model_name": "HBoxModel",
            "_view_count": null,
            "_view_module": "@jupyter-widgets/controls",
            "_view_module_version": "1.5.0",
            "_view_name": "HBoxView",
            "box_style": "",
            "children": [
              "IPY_MODEL_d8b75ff879584153a79700dd90d98925",
              "IPY_MODEL_4e9f779ebf2c4d6a8f9ce377df4dea20",
              "IPY_MODEL_310d2288c4a9445a9d597d7f4251e8c9"
            ],
            "layout": "IPY_MODEL_f832f41a05e74e6d985a9e7d19e6f8b2"
          }
        },
        "d8b75ff879584153a79700dd90d98925": {
          "model_module": "@jupyter-widgets/controls",
          "model_name": "HTMLModel",
          "model_module_version": "1.5.0",
          "state": {
            "_dom_classes": [],
            "_model_module": "@jupyter-widgets/controls",
            "_model_module_version": "1.5.0",
            "_model_name": "HTMLModel",
            "_view_count": null,
            "_view_module": "@jupyter-widgets/controls",
            "_view_module_version": "1.5.0",
            "_view_name": "HTMLView",
            "description": "",
            "description_tooltip": null,
            "layout": "IPY_MODEL_697bdec8ee734542b5a02c95a4ebdbd4",
            "placeholder": "​",
            "style": "IPY_MODEL_35039980c1a54e7cb196dbe0c277fb7e",
            "value": "Evaluating: 100%"
          }
        },
        "4e9f779ebf2c4d6a8f9ce377df4dea20": {
          "model_module": "@jupyter-widgets/controls",
          "model_name": "FloatProgressModel",
          "model_module_version": "1.5.0",
          "state": {
            "_dom_classes": [],
            "_model_module": "@jupyter-widgets/controls",
            "_model_module_version": "1.5.0",
            "_model_name": "FloatProgressModel",
            "_view_count": null,
            "_view_module": "@jupyter-widgets/controls",
            "_view_module_version": "1.5.0",
            "_view_name": "ProgressView",
            "bar_style": "success",
            "description": "",
            "description_tooltip": null,
            "layout": "IPY_MODEL_1987151b032446beb1f13ce34151e685",
            "max": 491,
            "min": 0,
            "orientation": "horizontal",
            "style": "IPY_MODEL_22b76f6e390d4a1c997ffe8f7f70ad6c",
            "value": 491
          }
        },
        "310d2288c4a9445a9d597d7f4251e8c9": {
          "model_module": "@jupyter-widgets/controls",
          "model_name": "HTMLModel",
          "model_module_version": "1.5.0",
          "state": {
            "_dom_classes": [],
            "_model_module": "@jupyter-widgets/controls",
            "_model_module_version": "1.5.0",
            "_model_name": "HTMLModel",
            "_view_count": null,
            "_view_module": "@jupyter-widgets/controls",
            "_view_module_version": "1.5.0",
            "_view_name": "HTMLView",
            "description": "",
            "description_tooltip": null,
            "layout": "IPY_MODEL_70f156361a0049d391ed502b6dc93c5b",
            "placeholder": "​",
            "style": "IPY_MODEL_d0abbc74c4df45e0867914a16a133de1",
            "value": " 491/491 [00:56&lt;00:00,  8.91it/s]"
          }
        },
        "f832f41a05e74e6d985a9e7d19e6f8b2": {
          "model_module": "@jupyter-widgets/base",
          "model_name": "LayoutModel",
          "model_module_version": "1.2.0",
          "state": {
            "_model_module": "@jupyter-widgets/base",
            "_model_module_version": "1.2.0",
            "_model_name": "LayoutModel",
            "_view_count": null,
            "_view_module": "@jupyter-widgets/base",
            "_view_module_version": "1.2.0",
            "_view_name": "LayoutView",
            "align_content": null,
            "align_items": null,
            "align_self": null,
            "border": null,
            "bottom": null,
            "display": null,
            "flex": null,
            "flex_flow": null,
            "grid_area": null,
            "grid_auto_columns": null,
            "grid_auto_flow": null,
            "grid_auto_rows": null,
            "grid_column": null,
            "grid_gap": null,
            "grid_row": null,
            "grid_template_areas": null,
            "grid_template_columns": null,
            "grid_template_rows": null,
            "height": null,
            "justify_content": null,
            "justify_items": null,
            "left": null,
            "margin": null,
            "max_height": null,
            "max_width": null,
            "min_height": null,
            "min_width": null,
            "object_fit": null,
            "object_position": null,
            "order": null,
            "overflow": null,
            "overflow_x": null,
            "overflow_y": null,
            "padding": null,
            "right": null,
            "top": null,
            "visibility": null,
            "width": null
          }
        },
        "697bdec8ee734542b5a02c95a4ebdbd4": {
          "model_module": "@jupyter-widgets/base",
          "model_name": "LayoutModel",
          "model_module_version": "1.2.0",
          "state": {
            "_model_module": "@jupyter-widgets/base",
            "_model_module_version": "1.2.0",
            "_model_name": "LayoutModel",
            "_view_count": null,
            "_view_module": "@jupyter-widgets/base",
            "_view_module_version": "1.2.0",
            "_view_name": "LayoutView",
            "align_content": null,
            "align_items": null,
            "align_self": null,
            "border": null,
            "bottom": null,
            "display": null,
            "flex": null,
            "flex_flow": null,
            "grid_area": null,
            "grid_auto_columns": null,
            "grid_auto_flow": null,
            "grid_auto_rows": null,
            "grid_column": null,
            "grid_gap": null,
            "grid_row": null,
            "grid_template_areas": null,
            "grid_template_columns": null,
            "grid_template_rows": null,
            "height": null,
            "justify_content": null,
            "justify_items": null,
            "left": null,
            "margin": null,
            "max_height": null,
            "max_width": null,
            "min_height": null,
            "min_width": null,
            "object_fit": null,
            "object_position": null,
            "order": null,
            "overflow": null,
            "overflow_x": null,
            "overflow_y": null,
            "padding": null,
            "right": null,
            "top": null,
            "visibility": null,
            "width": null
          }
        },
        "35039980c1a54e7cb196dbe0c277fb7e": {
          "model_module": "@jupyter-widgets/controls",
          "model_name": "DescriptionStyleModel",
          "model_module_version": "1.5.0",
          "state": {
            "_model_module": "@jupyter-widgets/controls",
            "_model_module_version": "1.5.0",
            "_model_name": "DescriptionStyleModel",
            "_view_count": null,
            "_view_module": "@jupyter-widgets/base",
            "_view_module_version": "1.2.0",
            "_view_name": "StyleView",
            "description_width": ""
          }
        },
        "1987151b032446beb1f13ce34151e685": {
          "model_module": "@jupyter-widgets/base",
          "model_name": "LayoutModel",
          "model_module_version": "1.2.0",
          "state": {
            "_model_module": "@jupyter-widgets/base",
            "_model_module_version": "1.2.0",
            "_model_name": "LayoutModel",
            "_view_count": null,
            "_view_module": "@jupyter-widgets/base",
            "_view_module_version": "1.2.0",
            "_view_name": "LayoutView",
            "align_content": null,
            "align_items": null,
            "align_self": null,
            "border": null,
            "bottom": null,
            "display": null,
            "flex": null,
            "flex_flow": null,
            "grid_area": null,
            "grid_auto_columns": null,
            "grid_auto_flow": null,
            "grid_auto_rows": null,
            "grid_column": null,
            "grid_gap": null,
            "grid_row": null,
            "grid_template_areas": null,
            "grid_template_columns": null,
            "grid_template_rows": null,
            "height": null,
            "justify_content": null,
            "justify_items": null,
            "left": null,
            "margin": null,
            "max_height": null,
            "max_width": null,
            "min_height": null,
            "min_width": null,
            "object_fit": null,
            "object_position": null,
            "order": null,
            "overflow": null,
            "overflow_x": null,
            "overflow_y": null,
            "padding": null,
            "right": null,
            "top": null,
            "visibility": null,
            "width": null
          }
        },
        "22b76f6e390d4a1c997ffe8f7f70ad6c": {
          "model_module": "@jupyter-widgets/controls",
          "model_name": "ProgressStyleModel",
          "model_module_version": "1.5.0",
          "state": {
            "_model_module": "@jupyter-widgets/controls",
            "_model_module_version": "1.5.0",
            "_model_name": "ProgressStyleModel",
            "_view_count": null,
            "_view_module": "@jupyter-widgets/base",
            "_view_module_version": "1.2.0",
            "_view_name": "StyleView",
            "bar_color": null,
            "description_width": ""
          }
        },
        "70f156361a0049d391ed502b6dc93c5b": {
          "model_module": "@jupyter-widgets/base",
          "model_name": "LayoutModel",
          "model_module_version": "1.2.0",
          "state": {
            "_model_module": "@jupyter-widgets/base",
            "_model_module_version": "1.2.0",
            "_model_name": "LayoutModel",
            "_view_count": null,
            "_view_module": "@jupyter-widgets/base",
            "_view_module_version": "1.2.0",
            "_view_name": "LayoutView",
            "align_content": null,
            "align_items": null,
            "align_self": null,
            "border": null,
            "bottom": null,
            "display": null,
            "flex": null,
            "flex_flow": null,
            "grid_area": null,
            "grid_auto_columns": null,
            "grid_auto_flow": null,
            "grid_auto_rows": null,
            "grid_column": null,
            "grid_gap": null,
            "grid_row": null,
            "grid_template_areas": null,
            "grid_template_columns": null,
            "grid_template_rows": null,
            "height": null,
            "justify_content": null,
            "justify_items": null,
            "left": null,
            "margin": null,
            "max_height": null,
            "max_width": null,
            "min_height": null,
            "min_width": null,
            "object_fit": null,
            "object_position": null,
            "order": null,
            "overflow": null,
            "overflow_x": null,
            "overflow_y": null,
            "padding": null,
            "right": null,
            "top": null,
            "visibility": null,
            "width": null
          }
        },
        "d0abbc74c4df45e0867914a16a133de1": {
          "model_module": "@jupyter-widgets/controls",
          "model_name": "DescriptionStyleModel",
          "model_module_version": "1.5.0",
          "state": {
            "_model_module": "@jupyter-widgets/controls",
            "_model_module_version": "1.5.0",
            "_model_name": "DescriptionStyleModel",
            "_view_count": null,
            "_view_module": "@jupyter-widgets/base",
            "_view_module_version": "1.2.0",
            "_view_name": "StyleView",
            "description_width": ""
          }
        },
        "a65ebe0173674560b022be286dbed3f8": {
          "model_module": "@jupyter-widgets/controls",
          "model_name": "HBoxModel",
          "model_module_version": "1.5.0",
          "state": {
            "_dom_classes": [],
            "_model_module": "@jupyter-widgets/controls",
            "_model_module_version": "1.5.0",
            "_model_name": "HBoxModel",
            "_view_count": null,
            "_view_module": "@jupyter-widgets/controls",
            "_view_module_version": "1.5.0",
            "_view_name": "HBoxView",
            "box_style": "",
            "children": [
              "IPY_MODEL_4a03720b64144851b49e1527a9db3215",
              "IPY_MODEL_e940dfa3afa44a39a5bf1d9c45e29db8",
              "IPY_MODEL_dc0d6ddc706b4e9da0c94bc6ec80f56a"
            ],
            "layout": "IPY_MODEL_c34921cdcb8c4fae9038824286479862"
          }
        },
        "4a03720b64144851b49e1527a9db3215": {
          "model_module": "@jupyter-widgets/controls",
          "model_name": "HTMLModel",
          "model_module_version": "1.5.0",
          "state": {
            "_dom_classes": [],
            "_model_module": "@jupyter-widgets/controls",
            "_model_module_version": "1.5.0",
            "_model_name": "HTMLModel",
            "_view_count": null,
            "_view_module": "@jupyter-widgets/controls",
            "_view_module_version": "1.5.0",
            "_view_name": "HTMLView",
            "description": "",
            "description_tooltip": null,
            "layout": "IPY_MODEL_9b9398ff6fc649208f9843a0bd3adf23",
            "placeholder": "​",
            "style": "IPY_MODEL_b829777b21ef4efd9ee44ad3a4c281e8",
            "value": "Training: 100%"
          }
        },
        "e940dfa3afa44a39a5bf1d9c45e29db8": {
          "model_module": "@jupyter-widgets/controls",
          "model_name": "FloatProgressModel",
          "model_module_version": "1.5.0",
          "state": {
            "_dom_classes": [],
            "_model_module": "@jupyter-widgets/controls",
            "_model_module_version": "1.5.0",
            "_model_name": "FloatProgressModel",
            "_view_count": null,
            "_view_module": "@jupyter-widgets/controls",
            "_view_module_version": "1.5.0",
            "_view_name": "ProgressView",
            "bar_style": "success",
            "description": "",
            "description_tooltip": null,
            "layout": "IPY_MODEL_2aeb5621a2fd407dbb8fc37e100e8ca7",
            "max": 3927,
            "min": 0,
            "orientation": "horizontal",
            "style": "IPY_MODEL_0d4a1278e27649708b257135cee21792",
            "value": 3927
          }
        },
        "dc0d6ddc706b4e9da0c94bc6ec80f56a": {
          "model_module": "@jupyter-widgets/controls",
          "model_name": "HTMLModel",
          "model_module_version": "1.5.0",
          "state": {
            "_dom_classes": [],
            "_model_module": "@jupyter-widgets/controls",
            "_model_module_version": "1.5.0",
            "_model_name": "HTMLModel",
            "_view_count": null,
            "_view_module": "@jupyter-widgets/controls",
            "_view_module_version": "1.5.0",
            "_view_name": "HTMLView",
            "description": "",
            "description_tooltip": null,
            "layout": "IPY_MODEL_724a3b0de7f84eddb2d814abe4a77470",
            "placeholder": "​",
            "style": "IPY_MODEL_0e5e324c73c04916aa40e6388a055e00",
            "value": " 3927/3927 [23:33&lt;00:00,  2.82it/s, loss=0.0000, acc=0.9911]"
          }
        },
        "c34921cdcb8c4fae9038824286479862": {
          "model_module": "@jupyter-widgets/base",
          "model_name": "LayoutModel",
          "model_module_version": "1.2.0",
          "state": {
            "_model_module": "@jupyter-widgets/base",
            "_model_module_version": "1.2.0",
            "_model_name": "LayoutModel",
            "_view_count": null,
            "_view_module": "@jupyter-widgets/base",
            "_view_module_version": "1.2.0",
            "_view_name": "LayoutView",
            "align_content": null,
            "align_items": null,
            "align_self": null,
            "border": null,
            "bottom": null,
            "display": null,
            "flex": null,
            "flex_flow": null,
            "grid_area": null,
            "grid_auto_columns": null,
            "grid_auto_flow": null,
            "grid_auto_rows": null,
            "grid_column": null,
            "grid_gap": null,
            "grid_row": null,
            "grid_template_areas": null,
            "grid_template_columns": null,
            "grid_template_rows": null,
            "height": null,
            "justify_content": null,
            "justify_items": null,
            "left": null,
            "margin": null,
            "max_height": null,
            "max_width": null,
            "min_height": null,
            "min_width": null,
            "object_fit": null,
            "object_position": null,
            "order": null,
            "overflow": null,
            "overflow_x": null,
            "overflow_y": null,
            "padding": null,
            "right": null,
            "top": null,
            "visibility": null,
            "width": null
          }
        },
        "9b9398ff6fc649208f9843a0bd3adf23": {
          "model_module": "@jupyter-widgets/base",
          "model_name": "LayoutModel",
          "model_module_version": "1.2.0",
          "state": {
            "_model_module": "@jupyter-widgets/base",
            "_model_module_version": "1.2.0",
            "_model_name": "LayoutModel",
            "_view_count": null,
            "_view_module": "@jupyter-widgets/base",
            "_view_module_version": "1.2.0",
            "_view_name": "LayoutView",
            "align_content": null,
            "align_items": null,
            "align_self": null,
            "border": null,
            "bottom": null,
            "display": null,
            "flex": null,
            "flex_flow": null,
            "grid_area": null,
            "grid_auto_columns": null,
            "grid_auto_flow": null,
            "grid_auto_rows": null,
            "grid_column": null,
            "grid_gap": null,
            "grid_row": null,
            "grid_template_areas": null,
            "grid_template_columns": null,
            "grid_template_rows": null,
            "height": null,
            "justify_content": null,
            "justify_items": null,
            "left": null,
            "margin": null,
            "max_height": null,
            "max_width": null,
            "min_height": null,
            "min_width": null,
            "object_fit": null,
            "object_position": null,
            "order": null,
            "overflow": null,
            "overflow_x": null,
            "overflow_y": null,
            "padding": null,
            "right": null,
            "top": null,
            "visibility": null,
            "width": null
          }
        },
        "b829777b21ef4efd9ee44ad3a4c281e8": {
          "model_module": "@jupyter-widgets/controls",
          "model_name": "DescriptionStyleModel",
          "model_module_version": "1.5.0",
          "state": {
            "_model_module": "@jupyter-widgets/controls",
            "_model_module_version": "1.5.0",
            "_model_name": "DescriptionStyleModel",
            "_view_count": null,
            "_view_module": "@jupyter-widgets/base",
            "_view_module_version": "1.2.0",
            "_view_name": "StyleView",
            "description_width": ""
          }
        },
        "2aeb5621a2fd407dbb8fc37e100e8ca7": {
          "model_module": "@jupyter-widgets/base",
          "model_name": "LayoutModel",
          "model_module_version": "1.2.0",
          "state": {
            "_model_module": "@jupyter-widgets/base",
            "_model_module_version": "1.2.0",
            "_model_name": "LayoutModel",
            "_view_count": null,
            "_view_module": "@jupyter-widgets/base",
            "_view_module_version": "1.2.0",
            "_view_name": "LayoutView",
            "align_content": null,
            "align_items": null,
            "align_self": null,
            "border": null,
            "bottom": null,
            "display": null,
            "flex": null,
            "flex_flow": null,
            "grid_area": null,
            "grid_auto_columns": null,
            "grid_auto_flow": null,
            "grid_auto_rows": null,
            "grid_column": null,
            "grid_gap": null,
            "grid_row": null,
            "grid_template_areas": null,
            "grid_template_columns": null,
            "grid_template_rows": null,
            "height": null,
            "justify_content": null,
            "justify_items": null,
            "left": null,
            "margin": null,
            "max_height": null,
            "max_width": null,
            "min_height": null,
            "min_width": null,
            "object_fit": null,
            "object_position": null,
            "order": null,
            "overflow": null,
            "overflow_x": null,
            "overflow_y": null,
            "padding": null,
            "right": null,
            "top": null,
            "visibility": null,
            "width": null
          }
        },
        "0d4a1278e27649708b257135cee21792": {
          "model_module": "@jupyter-widgets/controls",
          "model_name": "ProgressStyleModel",
          "model_module_version": "1.5.0",
          "state": {
            "_model_module": "@jupyter-widgets/controls",
            "_model_module_version": "1.5.0",
            "_model_name": "ProgressStyleModel",
            "_view_count": null,
            "_view_module": "@jupyter-widgets/base",
            "_view_module_version": "1.2.0",
            "_view_name": "StyleView",
            "bar_color": null,
            "description_width": ""
          }
        },
        "724a3b0de7f84eddb2d814abe4a77470": {
          "model_module": "@jupyter-widgets/base",
          "model_name": "LayoutModel",
          "model_module_version": "1.2.0",
          "state": {
            "_model_module": "@jupyter-widgets/base",
            "_model_module_version": "1.2.0",
            "_model_name": "LayoutModel",
            "_view_count": null,
            "_view_module": "@jupyter-widgets/base",
            "_view_module_version": "1.2.0",
            "_view_name": "LayoutView",
            "align_content": null,
            "align_items": null,
            "align_self": null,
            "border": null,
            "bottom": null,
            "display": null,
            "flex": null,
            "flex_flow": null,
            "grid_area": null,
            "grid_auto_columns": null,
            "grid_auto_flow": null,
            "grid_auto_rows": null,
            "grid_column": null,
            "grid_gap": null,
            "grid_row": null,
            "grid_template_areas": null,
            "grid_template_columns": null,
            "grid_template_rows": null,
            "height": null,
            "justify_content": null,
            "justify_items": null,
            "left": null,
            "margin": null,
            "max_height": null,
            "max_width": null,
            "min_height": null,
            "min_width": null,
            "object_fit": null,
            "object_position": null,
            "order": null,
            "overflow": null,
            "overflow_x": null,
            "overflow_y": null,
            "padding": null,
            "right": null,
            "top": null,
            "visibility": null,
            "width": null
          }
        },
        "0e5e324c73c04916aa40e6388a055e00": {
          "model_module": "@jupyter-widgets/controls",
          "model_name": "DescriptionStyleModel",
          "model_module_version": "1.5.0",
          "state": {
            "_model_module": "@jupyter-widgets/controls",
            "_model_module_version": "1.5.0",
            "_model_name": "DescriptionStyleModel",
            "_view_count": null,
            "_view_module": "@jupyter-widgets/base",
            "_view_module_version": "1.2.0",
            "_view_name": "StyleView",
            "description_width": ""
          }
        },
        "510327f505654c96aca6bdc969920086": {
          "model_module": "@jupyter-widgets/controls",
          "model_name": "HBoxModel",
          "model_module_version": "1.5.0",
          "state": {
            "_dom_classes": [],
            "_model_module": "@jupyter-widgets/controls",
            "_model_module_version": "1.5.0",
            "_model_name": "HBoxModel",
            "_view_count": null,
            "_view_module": "@jupyter-widgets/controls",
            "_view_module_version": "1.5.0",
            "_view_name": "HBoxView",
            "box_style": "",
            "children": [
              "IPY_MODEL_a2eb41beb14c44f182fbd8db77e74b86",
              "IPY_MODEL_bbe7b7117bd54e7b966bb55750d933c1",
              "IPY_MODEL_7968c38f24d74e4a896bdc649ba6a8af"
            ],
            "layout": "IPY_MODEL_b9d8383a2de6449784bbfeb0992a56dd"
          }
        },
        "a2eb41beb14c44f182fbd8db77e74b86": {
          "model_module": "@jupyter-widgets/controls",
          "model_name": "HTMLModel",
          "model_module_version": "1.5.0",
          "state": {
            "_dom_classes": [],
            "_model_module": "@jupyter-widgets/controls",
            "_model_module_version": "1.5.0",
            "_model_name": "HTMLModel",
            "_view_count": null,
            "_view_module": "@jupyter-widgets/controls",
            "_view_module_version": "1.5.0",
            "_view_name": "HTMLView",
            "description": "",
            "description_tooltip": null,
            "layout": "IPY_MODEL_3a1697bb757a422c8037a540fc7219bd",
            "placeholder": "​",
            "style": "IPY_MODEL_9e0f7d4a6cc84234b6ef23e91829eab2",
            "value": "Evaluating: 100%"
          }
        },
        "bbe7b7117bd54e7b966bb55750d933c1": {
          "model_module": "@jupyter-widgets/controls",
          "model_name": "FloatProgressModel",
          "model_module_version": "1.5.0",
          "state": {
            "_dom_classes": [],
            "_model_module": "@jupyter-widgets/controls",
            "_model_module_version": "1.5.0",
            "_model_name": "FloatProgressModel",
            "_view_count": null,
            "_view_module": "@jupyter-widgets/controls",
            "_view_module_version": "1.5.0",
            "_view_name": "ProgressView",
            "bar_style": "success",
            "description": "",
            "description_tooltip": null,
            "layout": "IPY_MODEL_58fb77a6cfc142aaac27de623a47fffd",
            "max": 491,
            "min": 0,
            "orientation": "horizontal",
            "style": "IPY_MODEL_814bdac1b574482f866dfdae37037dea",
            "value": 491
          }
        },
        "7968c38f24d74e4a896bdc649ba6a8af": {
          "model_module": "@jupyter-widgets/controls",
          "model_name": "HTMLModel",
          "model_module_version": "1.5.0",
          "state": {
            "_dom_classes": [],
            "_model_module": "@jupyter-widgets/controls",
            "_model_module_version": "1.5.0",
            "_model_name": "HTMLModel",
            "_view_count": null,
            "_view_module": "@jupyter-widgets/controls",
            "_view_module_version": "1.5.0",
            "_view_name": "HTMLView",
            "description": "",
            "description_tooltip": null,
            "layout": "IPY_MODEL_aeeac28f91ac47eea601c64c241c1406",
            "placeholder": "​",
            "style": "IPY_MODEL_6d110959384c40d4b38a386233ff0fbc",
            "value": " 491/491 [00:56&lt;00:00,  8.88it/s]"
          }
        },
        "b9d8383a2de6449784bbfeb0992a56dd": {
          "model_module": "@jupyter-widgets/base",
          "model_name": "LayoutModel",
          "model_module_version": "1.2.0",
          "state": {
            "_model_module": "@jupyter-widgets/base",
            "_model_module_version": "1.2.0",
            "_model_name": "LayoutModel",
            "_view_count": null,
            "_view_module": "@jupyter-widgets/base",
            "_view_module_version": "1.2.0",
            "_view_name": "LayoutView",
            "align_content": null,
            "align_items": null,
            "align_self": null,
            "border": null,
            "bottom": null,
            "display": null,
            "flex": null,
            "flex_flow": null,
            "grid_area": null,
            "grid_auto_columns": null,
            "grid_auto_flow": null,
            "grid_auto_rows": null,
            "grid_column": null,
            "grid_gap": null,
            "grid_row": null,
            "grid_template_areas": null,
            "grid_template_columns": null,
            "grid_template_rows": null,
            "height": null,
            "justify_content": null,
            "justify_items": null,
            "left": null,
            "margin": null,
            "max_height": null,
            "max_width": null,
            "min_height": null,
            "min_width": null,
            "object_fit": null,
            "object_position": null,
            "order": null,
            "overflow": null,
            "overflow_x": null,
            "overflow_y": null,
            "padding": null,
            "right": null,
            "top": null,
            "visibility": null,
            "width": null
          }
        },
        "3a1697bb757a422c8037a540fc7219bd": {
          "model_module": "@jupyter-widgets/base",
          "model_name": "LayoutModel",
          "model_module_version": "1.2.0",
          "state": {
            "_model_module": "@jupyter-widgets/base",
            "_model_module_version": "1.2.0",
            "_model_name": "LayoutModel",
            "_view_count": null,
            "_view_module": "@jupyter-widgets/base",
            "_view_module_version": "1.2.0",
            "_view_name": "LayoutView",
            "align_content": null,
            "align_items": null,
            "align_self": null,
            "border": null,
            "bottom": null,
            "display": null,
            "flex": null,
            "flex_flow": null,
            "grid_area": null,
            "grid_auto_columns": null,
            "grid_auto_flow": null,
            "grid_auto_rows": null,
            "grid_column": null,
            "grid_gap": null,
            "grid_row": null,
            "grid_template_areas": null,
            "grid_template_columns": null,
            "grid_template_rows": null,
            "height": null,
            "justify_content": null,
            "justify_items": null,
            "left": null,
            "margin": null,
            "max_height": null,
            "max_width": null,
            "min_height": null,
            "min_width": null,
            "object_fit": null,
            "object_position": null,
            "order": null,
            "overflow": null,
            "overflow_x": null,
            "overflow_y": null,
            "padding": null,
            "right": null,
            "top": null,
            "visibility": null,
            "width": null
          }
        },
        "9e0f7d4a6cc84234b6ef23e91829eab2": {
          "model_module": "@jupyter-widgets/controls",
          "model_name": "DescriptionStyleModel",
          "model_module_version": "1.5.0",
          "state": {
            "_model_module": "@jupyter-widgets/controls",
            "_model_module_version": "1.5.0",
            "_model_name": "DescriptionStyleModel",
            "_view_count": null,
            "_view_module": "@jupyter-widgets/base",
            "_view_module_version": "1.2.0",
            "_view_name": "StyleView",
            "description_width": ""
          }
        },
        "58fb77a6cfc142aaac27de623a47fffd": {
          "model_module": "@jupyter-widgets/base",
          "model_name": "LayoutModel",
          "model_module_version": "1.2.0",
          "state": {
            "_model_module": "@jupyter-widgets/base",
            "_model_module_version": "1.2.0",
            "_model_name": "LayoutModel",
            "_view_count": null,
            "_view_module": "@jupyter-widgets/base",
            "_view_module_version": "1.2.0",
            "_view_name": "LayoutView",
            "align_content": null,
            "align_items": null,
            "align_self": null,
            "border": null,
            "bottom": null,
            "display": null,
            "flex": null,
            "flex_flow": null,
            "grid_area": null,
            "grid_auto_columns": null,
            "grid_auto_flow": null,
            "grid_auto_rows": null,
            "grid_column": null,
            "grid_gap": null,
            "grid_row": null,
            "grid_template_areas": null,
            "grid_template_columns": null,
            "grid_template_rows": null,
            "height": null,
            "justify_content": null,
            "justify_items": null,
            "left": null,
            "margin": null,
            "max_height": null,
            "max_width": null,
            "min_height": null,
            "min_width": null,
            "object_fit": null,
            "object_position": null,
            "order": null,
            "overflow": null,
            "overflow_x": null,
            "overflow_y": null,
            "padding": null,
            "right": null,
            "top": null,
            "visibility": null,
            "width": null
          }
        },
        "814bdac1b574482f866dfdae37037dea": {
          "model_module": "@jupyter-widgets/controls",
          "model_name": "ProgressStyleModel",
          "model_module_version": "1.5.0",
          "state": {
            "_model_module": "@jupyter-widgets/controls",
            "_model_module_version": "1.5.0",
            "_model_name": "ProgressStyleModel",
            "_view_count": null,
            "_view_module": "@jupyter-widgets/base",
            "_view_module_version": "1.2.0",
            "_view_name": "StyleView",
            "bar_color": null,
            "description_width": ""
          }
        },
        "aeeac28f91ac47eea601c64c241c1406": {
          "model_module": "@jupyter-widgets/base",
          "model_name": "LayoutModel",
          "model_module_version": "1.2.0",
          "state": {
            "_model_module": "@jupyter-widgets/base",
            "_model_module_version": "1.2.0",
            "_model_name": "LayoutModel",
            "_view_count": null,
            "_view_module": "@jupyter-widgets/base",
            "_view_module_version": "1.2.0",
            "_view_name": "LayoutView",
            "align_content": null,
            "align_items": null,
            "align_self": null,
            "border": null,
            "bottom": null,
            "display": null,
            "flex": null,
            "flex_flow": null,
            "grid_area": null,
            "grid_auto_columns": null,
            "grid_auto_flow": null,
            "grid_auto_rows": null,
            "grid_column": null,
            "grid_gap": null,
            "grid_row": null,
            "grid_template_areas": null,
            "grid_template_columns": null,
            "grid_template_rows": null,
            "height": null,
            "justify_content": null,
            "justify_items": null,
            "left": null,
            "margin": null,
            "max_height": null,
            "max_width": null,
            "min_height": null,
            "min_width": null,
            "object_fit": null,
            "object_position": null,
            "order": null,
            "overflow": null,
            "overflow_x": null,
            "overflow_y": null,
            "padding": null,
            "right": null,
            "top": null,
            "visibility": null,
            "width": null
          }
        },
        "6d110959384c40d4b38a386233ff0fbc": {
          "model_module": "@jupyter-widgets/controls",
          "model_name": "DescriptionStyleModel",
          "model_module_version": "1.5.0",
          "state": {
            "_model_module": "@jupyter-widgets/controls",
            "_model_module_version": "1.5.0",
            "_model_name": "DescriptionStyleModel",
            "_view_count": null,
            "_view_module": "@jupyter-widgets/base",
            "_view_module_version": "1.2.0",
            "_view_name": "StyleView",
            "description_width": ""
          }
        },
        "c06571b0e7e34caca8c9e0a5b63b24e1": {
          "model_module": "@jupyter-widgets/controls",
          "model_name": "HBoxModel",
          "model_module_version": "1.5.0",
          "state": {
            "_dom_classes": [],
            "_model_module": "@jupyter-widgets/controls",
            "_model_module_version": "1.5.0",
            "_model_name": "HBoxModel",
            "_view_count": null,
            "_view_module": "@jupyter-widgets/controls",
            "_view_module_version": "1.5.0",
            "_view_name": "HBoxView",
            "box_style": "",
            "children": [
              "IPY_MODEL_e4d72f898db64d069a163408e97af582",
              "IPY_MODEL_ad4be31aff6d455b9302e1c34e5f334e",
              "IPY_MODEL_6c52997ab76b4bc985df61a5a907f418"
            ],
            "layout": "IPY_MODEL_cf90fa4a78c642c799b374c6c13ff23a"
          }
        },
        "e4d72f898db64d069a163408e97af582": {
          "model_module": "@jupyter-widgets/controls",
          "model_name": "HTMLModel",
          "model_module_version": "1.5.0",
          "state": {
            "_dom_classes": [],
            "_model_module": "@jupyter-widgets/controls",
            "_model_module_version": "1.5.0",
            "_model_name": "HTMLModel",
            "_view_count": null,
            "_view_module": "@jupyter-widgets/controls",
            "_view_module_version": "1.5.0",
            "_view_name": "HTMLView",
            "description": "",
            "description_tooltip": null,
            "layout": "IPY_MODEL_933644c399a74ef29e390c1cbefcc585",
            "placeholder": "​",
            "style": "IPY_MODEL_ba305dcbed08495eb8bcdb5fb05510f0",
            "value": "Evaluating: 100%"
          }
        },
        "ad4be31aff6d455b9302e1c34e5f334e": {
          "model_module": "@jupyter-widgets/controls",
          "model_name": "FloatProgressModel",
          "model_module_version": "1.5.0",
          "state": {
            "_dom_classes": [],
            "_model_module": "@jupyter-widgets/controls",
            "_model_module_version": "1.5.0",
            "_model_name": "FloatProgressModel",
            "_view_count": null,
            "_view_module": "@jupyter-widgets/controls",
            "_view_module_version": "1.5.0",
            "_view_name": "ProgressView",
            "bar_style": "success",
            "description": "",
            "description_tooltip": null,
            "layout": "IPY_MODEL_59c741faf17f4cbe835cfeff38146b37",
            "max": 491,
            "min": 0,
            "orientation": "horizontal",
            "style": "IPY_MODEL_359c9f43a2234b6f870849c4fb09fdc5",
            "value": 491
          }
        },
        "6c52997ab76b4bc985df61a5a907f418": {
          "model_module": "@jupyter-widgets/controls",
          "model_name": "HTMLModel",
          "model_module_version": "1.5.0",
          "state": {
            "_dom_classes": [],
            "_model_module": "@jupyter-widgets/controls",
            "_model_module_version": "1.5.0",
            "_model_name": "HTMLModel",
            "_view_count": null,
            "_view_module": "@jupyter-widgets/controls",
            "_view_module_version": "1.5.0",
            "_view_name": "HTMLView",
            "description": "",
            "description_tooltip": null,
            "layout": "IPY_MODEL_5b8474ef486741d3942220dcfcfcdbab",
            "placeholder": "​",
            "style": "IPY_MODEL_15a6ed50bc5c42deb871131e00018c28",
            "value": " 491/491 [00:56&lt;00:00,  9.03it/s]"
          }
        },
        "cf90fa4a78c642c799b374c6c13ff23a": {
          "model_module": "@jupyter-widgets/base",
          "model_name": "LayoutModel",
          "model_module_version": "1.2.0",
          "state": {
            "_model_module": "@jupyter-widgets/base",
            "_model_module_version": "1.2.0",
            "_model_name": "LayoutModel",
            "_view_count": null,
            "_view_module": "@jupyter-widgets/base",
            "_view_module_version": "1.2.0",
            "_view_name": "LayoutView",
            "align_content": null,
            "align_items": null,
            "align_self": null,
            "border": null,
            "bottom": null,
            "display": null,
            "flex": null,
            "flex_flow": null,
            "grid_area": null,
            "grid_auto_columns": null,
            "grid_auto_flow": null,
            "grid_auto_rows": null,
            "grid_column": null,
            "grid_gap": null,
            "grid_row": null,
            "grid_template_areas": null,
            "grid_template_columns": null,
            "grid_template_rows": null,
            "height": null,
            "justify_content": null,
            "justify_items": null,
            "left": null,
            "margin": null,
            "max_height": null,
            "max_width": null,
            "min_height": null,
            "min_width": null,
            "object_fit": null,
            "object_position": null,
            "order": null,
            "overflow": null,
            "overflow_x": null,
            "overflow_y": null,
            "padding": null,
            "right": null,
            "top": null,
            "visibility": null,
            "width": null
          }
        },
        "933644c399a74ef29e390c1cbefcc585": {
          "model_module": "@jupyter-widgets/base",
          "model_name": "LayoutModel",
          "model_module_version": "1.2.0",
          "state": {
            "_model_module": "@jupyter-widgets/base",
            "_model_module_version": "1.2.0",
            "_model_name": "LayoutModel",
            "_view_count": null,
            "_view_module": "@jupyter-widgets/base",
            "_view_module_version": "1.2.0",
            "_view_name": "LayoutView",
            "align_content": null,
            "align_items": null,
            "align_self": null,
            "border": null,
            "bottom": null,
            "display": null,
            "flex": null,
            "flex_flow": null,
            "grid_area": null,
            "grid_auto_columns": null,
            "grid_auto_flow": null,
            "grid_auto_rows": null,
            "grid_column": null,
            "grid_gap": null,
            "grid_row": null,
            "grid_template_areas": null,
            "grid_template_columns": null,
            "grid_template_rows": null,
            "height": null,
            "justify_content": null,
            "justify_items": null,
            "left": null,
            "margin": null,
            "max_height": null,
            "max_width": null,
            "min_height": null,
            "min_width": null,
            "object_fit": null,
            "object_position": null,
            "order": null,
            "overflow": null,
            "overflow_x": null,
            "overflow_y": null,
            "padding": null,
            "right": null,
            "top": null,
            "visibility": null,
            "width": null
          }
        },
        "ba305dcbed08495eb8bcdb5fb05510f0": {
          "model_module": "@jupyter-widgets/controls",
          "model_name": "DescriptionStyleModel",
          "model_module_version": "1.5.0",
          "state": {
            "_model_module": "@jupyter-widgets/controls",
            "_model_module_version": "1.5.0",
            "_model_name": "DescriptionStyleModel",
            "_view_count": null,
            "_view_module": "@jupyter-widgets/base",
            "_view_module_version": "1.2.0",
            "_view_name": "StyleView",
            "description_width": ""
          }
        },
        "59c741faf17f4cbe835cfeff38146b37": {
          "model_module": "@jupyter-widgets/base",
          "model_name": "LayoutModel",
          "model_module_version": "1.2.0",
          "state": {
            "_model_module": "@jupyter-widgets/base",
            "_model_module_version": "1.2.0",
            "_model_name": "LayoutModel",
            "_view_count": null,
            "_view_module": "@jupyter-widgets/base",
            "_view_module_version": "1.2.0",
            "_view_name": "LayoutView",
            "align_content": null,
            "align_items": null,
            "align_self": null,
            "border": null,
            "bottom": null,
            "display": null,
            "flex": null,
            "flex_flow": null,
            "grid_area": null,
            "grid_auto_columns": null,
            "grid_auto_flow": null,
            "grid_auto_rows": null,
            "grid_column": null,
            "grid_gap": null,
            "grid_row": null,
            "grid_template_areas": null,
            "grid_template_columns": null,
            "grid_template_rows": null,
            "height": null,
            "justify_content": null,
            "justify_items": null,
            "left": null,
            "margin": null,
            "max_height": null,
            "max_width": null,
            "min_height": null,
            "min_width": null,
            "object_fit": null,
            "object_position": null,
            "order": null,
            "overflow": null,
            "overflow_x": null,
            "overflow_y": null,
            "padding": null,
            "right": null,
            "top": null,
            "visibility": null,
            "width": null
          }
        },
        "359c9f43a2234b6f870849c4fb09fdc5": {
          "model_module": "@jupyter-widgets/controls",
          "model_name": "ProgressStyleModel",
          "model_module_version": "1.5.0",
          "state": {
            "_model_module": "@jupyter-widgets/controls",
            "_model_module_version": "1.5.0",
            "_model_name": "ProgressStyleModel",
            "_view_count": null,
            "_view_module": "@jupyter-widgets/base",
            "_view_module_version": "1.2.0",
            "_view_name": "StyleView",
            "bar_color": null,
            "description_width": ""
          }
        },
        "5b8474ef486741d3942220dcfcfcdbab": {
          "model_module": "@jupyter-widgets/base",
          "model_name": "LayoutModel",
          "model_module_version": "1.2.0",
          "state": {
            "_model_module": "@jupyter-widgets/base",
            "_model_module_version": "1.2.0",
            "_model_name": "LayoutModel",
            "_view_count": null,
            "_view_module": "@jupyter-widgets/base",
            "_view_module_version": "1.2.0",
            "_view_name": "LayoutView",
            "align_content": null,
            "align_items": null,
            "align_self": null,
            "border": null,
            "bottom": null,
            "display": null,
            "flex": null,
            "flex_flow": null,
            "grid_area": null,
            "grid_auto_columns": null,
            "grid_auto_flow": null,
            "grid_auto_rows": null,
            "grid_column": null,
            "grid_gap": null,
            "grid_row": null,
            "grid_template_areas": null,
            "grid_template_columns": null,
            "grid_template_rows": null,
            "height": null,
            "justify_content": null,
            "justify_items": null,
            "left": null,
            "margin": null,
            "max_height": null,
            "max_width": null,
            "min_height": null,
            "min_width": null,
            "object_fit": null,
            "object_position": null,
            "order": null,
            "overflow": null,
            "overflow_x": null,
            "overflow_y": null,
            "padding": null,
            "right": null,
            "top": null,
            "visibility": null,
            "width": null
          }
        },
        "15a6ed50bc5c42deb871131e00018c28": {
          "model_module": "@jupyter-widgets/controls",
          "model_name": "DescriptionStyleModel",
          "model_module_version": "1.5.0",
          "state": {
            "_model_module": "@jupyter-widgets/controls",
            "_model_module_version": "1.5.0",
            "_model_name": "DescriptionStyleModel",
            "_view_count": null,
            "_view_module": "@jupyter-widgets/base",
            "_view_module_version": "1.2.0",
            "_view_name": "StyleView",
            "description_width": ""
          }
        }
      }
    }
  },
  "cells": [
    {
      "cell_type": "markdown",
      "source": [
        "# **Final Project**\n",
        "\n",
        "##**Problem stament :**     \n",
        "\n",
        "The widespread dissemination of fake news and propaganda presents serious societal risks, including the erosion of public trust, political polarization, manipulation of elections, and the spread of harmful misinformation during crises such as pandemics or conflicts. From an NLP perspective, detecting fake news is fraught with challenges. Linguistically, fake news often mimics the tone and structure of legitimate journalism, making it difficult to distinguish using surface-level features. The absence of reliable and up-to-date labeled datasets, especially across multiple languages and regions, hampers the effectiveness of supervised learning models. Additionally, the dynamic and adversarial nature of misinformation means that malicious actors constantly evolve their language and strategies to bypass detection systems. Cultural context, sarcasm, satire, and implicit bias further complicate automated analysis. Moreover, NLP models risk amplifying biases present in training data, leading to unfair classifications and potential censorship of legitimate content. These challenges underscore the need for cautious, context-aware approaches, as the failure to address them can inadvertently contribute to misinformation, rather than mitigate it.\n",
        "\n",
        "\n",
        "\n",
        "Use datasets in link : https://drive.google.com/drive/folders/1mrX3vPKhEzxG96OCPpCeh9F8m_QKCM4z?usp=sharing\n",
        "to complete requirement.\n",
        "\n",
        "## **About dataset:**\n",
        "\n",
        "* **True Articles**:\n",
        "\n",
        "  * **File**: `MisinfoSuperset_TRUE.csv`\n",
        "  * **Sources**:\n",
        "\n",
        "    * Reputable media outlets like **Reuters**, **The New York Times**, **The Washington Post**, etc.\n",
        "\n",
        "* **Fake/Misinformation/Propaganda Articles**:\n",
        "\n",
        "  * **File**: `MisinfoSuperset_FAKE.csv`\n",
        "  * **Sources**:\n",
        "\n",
        "    * **American right-wing extremist websites** (e.g., Redflag Newsdesk, Breitbart, Truth Broadcast Network)\n",
        "    * **Public dataset** from:\n",
        "\n",
        "      * Ahmed, H., Traore, I., & Saad, S. (2017): \"Detection of Online Fake News Using N-Gram Analysis and Machine Learning Techniques\" *(Springer LNCS 10618)*\n",
        "\n",
        "\n",
        "\n",
        "## **Requirement**\n",
        "\n",
        "A team consisting of three members must complete a project that involves applying the methods learned from the beginning of the course up to the present. The team is expected to follow and document the entire machine learning workflow, which includes the following steps:\n",
        "\n",
        "1. **Data Preprocessing**: Clean and prepare the dataset,etc.\n",
        "\n",
        "2. **Exploratory Data Analysis (EDA)**: Explore and visualize the data.\n",
        "\n",
        "3. **Model Building**: Select and build one or more machine learning models suitable for the problem at hand.\n",
        "\n",
        "4. **Hyperparameter set up**: Set and adjust the model's hyperparameters using appropriate methods to improve performance.\n",
        "\n",
        "5. **Model Training**: Train the model(s) on the training dataset.\n",
        "\n",
        "6. **Performance Evaluation**: Evaluate the trained model(s) using appropriate metrics (e.g., accuracy, precision, recall, F1-score, confusion matrix, etc.) and validate their performance on unseen data.\n",
        "\n",
        "7. **Conclusion**: Summarize the results, discuss the model's strengths and weaknesses, and suggest possible improvements or future work.\n",
        "\n",
        "\n",
        "\n"
      ],
      "metadata": {
        "id": "eFCzIBshcHmg"
      }
    },
    {
      "cell_type": "markdown",
      "source": [
        "#Library"
      ],
      "metadata": {
        "id": "N2e9nxpvHLkF"
      }
    },
    {
      "cell_type": "code",
      "source": [
        "import numpy as np\n",
        "import pandas as pd\n",
        "from matplotlib import pyplot as plt\n",
        "import seaborn as sns"
      ],
      "metadata": {
        "id": "hRGT2CuDHNBm"
      },
      "execution_count": null,
      "outputs": []
    },
    {
      "cell_type": "code",
      "source": [
        "import re\n",
        "import nltk\n",
        "from nltk.corpus import stopwords\n",
        "from nltk.tokenize import word_tokenize\n",
        "from nltk.stem import WordNetLemmatizer\n",
        "from sklearn.model_selection import train_test_split\n",
        "from sklearn.feature_extraction.text import TfidfVectorizer\n",
        "from transformers import AutoTokenizer\n",
        "nltk.download('punkt')\n",
        "nltk.download('stopwords')\n",
        "nltk.download('wordnet')\n",
        "nltk.download('punkt_tab')"
      ],
      "metadata": {
        "id": "LW_-saQCIMiS",
        "colab": {
          "base_uri": "https://localhost:8080/"
        },
        "outputId": "97bf3c62-cf26-4ca3-a7b3-017c6b65314d"
      },
      "execution_count": null,
      "outputs": [
        {
          "output_type": "stream",
          "name": "stderr",
          "text": [
            "[nltk_data] Downloading package punkt to /root/nltk_data...\n",
            "[nltk_data]   Unzipping tokenizers/punkt.zip.\n",
            "[nltk_data] Downloading package stopwords to /root/nltk_data...\n",
            "[nltk_data]   Unzipping corpora/stopwords.zip.\n",
            "[nltk_data] Downloading package wordnet to /root/nltk_data...\n",
            "[nltk_data] Downloading package punkt_tab to /root/nltk_data...\n",
            "[nltk_data]   Unzipping tokenizers/punkt_tab.zip.\n"
          ]
        },
        {
          "output_type": "execute_result",
          "data": {
            "text/plain": [
              "True"
            ]
          },
          "metadata": {},
          "execution_count": 2
        }
      ]
    },
    {
      "cell_type": "code",
      "source": [
        "import tensorflow as tf\n",
        "from tensorflow.keras.models import Sequential, Model\n",
        "from tensorflow.keras.layers import (\n",
        "    Embedding, Conv1D, MaxPooling1D, LSTM, Dense, Dropout,\n",
        "    Input, Concatenate, GlobalMaxPooling1D, BatchNormalization\n",
        ")\n",
        "from tensorflow.keras.preprocessing.text import Tokenizer\n",
        "from tensorflow.keras.preprocessing.sequence import pad_sequences\n",
        "from tensorflow.keras.callbacks import EarlyStopping, ReduceLROnPlateau\n",
        "from tensorflow.keras.utils import to_categorical\n",
        "from sklearn.metrics import classification_report, confusion_matrix\n",
        "import matplotlib.pyplot as plt"
      ],
      "metadata": {
        "id": "ntbKRFwUWNWM"
      },
      "execution_count": null,
      "outputs": []
    },
    {
      "cell_type": "code",
      "source": [
        "from torch.optim import AdamW\n",
        "from transformers import AutoModel, AutoTokenizer, get_linear_schedule_with_warmup\n",
        "import torch\n",
        "import torch.nn as nn\n",
        "from torch.utils.data import Dataset, DataLoader\n",
        "import torch.nn as nn\n",
        "from torch.utils.data import Dataset, DataLoader"
      ],
      "metadata": {
        "id": "ghLIYX7MGVDe"
      },
      "execution_count": null,
      "outputs": []
    },
    {
      "cell_type": "markdown",
      "source": [
        "#Load Data"
      ],
      "metadata": {
        "id": "GWBkBALA3Qif"
      }
    },
    {
      "cell_type": "code",
      "source": [
        "from google.colab import drive\n",
        "drive.mount('/content/drive')"
      ],
      "metadata": {
        "colab": {
          "base_uri": "https://localhost:8080/"
        },
        "id": "ElAxIkho3TSM",
        "outputId": "1bacccc5-d224-4208-a739-60381374b625"
      },
      "execution_count": null,
      "outputs": [
        {
          "output_type": "stream",
          "name": "stdout",
          "text": [
            "Mounted at /content/drive\n"
          ]
        }
      ]
    },
    {
      "cell_type": "code",
      "source": [
        "true_data = pd.read_csv(\"/content/drive/MyDrive/DataSet_Misinfo_TRUE.csv\")\n",
        "fake_data = pd.read_csv(\"/content/drive/MyDrive/DataSet_Misinfo_FAKE.csv\")"
      ],
      "metadata": {
        "id": "Z1VIpPJYHA1Y"
      },
      "execution_count": null,
      "outputs": []
    },
    {
      "cell_type": "markdown",
      "source": [
        "#Data Preprocessing"
      ],
      "metadata": {
        "id": "mFKXN3Rq3TiD"
      }
    },
    {
      "cell_type": "code",
      "source": [
        "true_data['label'] = 1\n",
        "fake_data['label'] = 0"
      ],
      "metadata": {
        "id": "tsOjMojo3Xha"
      },
      "execution_count": null,
      "outputs": []
    },
    {
      "cell_type": "code",
      "source": [
        "data = pd.concat([true_data, fake_data], ignore_index=True)"
      ],
      "metadata": {
        "id": "Olp9QxX-IkvL"
      },
      "execution_count": null,
      "outputs": []
    },
    {
      "cell_type": "code",
      "source": [
        "print(data.isnull().sum())"
      ],
      "metadata": {
        "colab": {
          "base_uri": "https://localhost:8080/"
        },
        "id": "AJXtDJWiI809",
        "outputId": "dde17382-30ba-42cf-c16d-376dfa6e13fc"
      },
      "execution_count": null,
      "outputs": [
        {
          "output_type": "stream",
          "name": "stdout",
          "text": [
            "Unnamed: 0     0\n",
            "text          29\n",
            "label          0\n",
            "dtype: int64\n"
          ]
        }
      ]
    },
    {
      "cell_type": "code",
      "source": [
        "data = data[data['text'].notna() & (data['text'].str.strip() != '')]"
      ],
      "metadata": {
        "id": "heHjCRnRKqvd"
      },
      "execution_count": null,
      "outputs": []
    },
    {
      "cell_type": "code",
      "source": [
        "# Làm sạch văn bản\n",
        "lemmatizer = WordNetLemmatizer()\n",
        "stop_words = set(stopwords.words('english'))\n",
        "cleaned_texts = []\n",
        "\n",
        "for text in data['text']:\n",
        "    if not isinstance(text, str):\n",
        "        cleaned_texts.append('')\n",
        "        continue\n",
        "    text = text.lower()\n",
        "    text = re.sub(r'[^a-zA-Z\\s]', '', text)\n",
        "    text = re.sub(r'\\s+', ' ', text).strip()\n",
        "    tokens = word_tokenize(text)\n",
        "    tokens = [word for word in tokens if word not in stop_words]\n",
        "    tokens = [lemmatizer.lemmatize(word) for word in tokens]\n",
        "    cleaned_texts.append(' '.join(tokens))\n",
        "\n",
        "data['cleaned_text'] = cleaned_texts\n",
        "data = data[data['cleaned_text'] != '']"
      ],
      "metadata": {
        "id": "UhaJtz4aJEgK"
      },
      "execution_count": null,
      "outputs": []
    },
    {
      "cell_type": "code",
      "source": [
        "# 3. Kiểm tra mất cân bằng lớp\n",
        "class_counts = data['label'].value_counts()\n",
        "print(\"Phân bố lớp:\")\n",
        "print(class_counts)\n",
        "\n",
        "plt.figure(figsize=(8, 6))\n",
        "sns.countplot(x='label', data=data)\n",
        "plt.title('Phân bố lớp bài báo (1: Thật, 0: Giả)')\n",
        "plt.xlabel('Nhãn')\n",
        "plt.ylabel('Số lượng')\n",
        "plt.show()"
      ],
      "metadata": {
        "colab": {
          "base_uri": "https://localhost:8080/",
          "height": 657
        },
        "id": "sY0MqWbfL9rK",
        "outputId": "b1a6832b-2eca-4d97-9140-9e6ccbc16c40"
      },
      "execution_count": null,
      "outputs": [
        {
          "output_type": "stream",
          "name": "stdout",
          "text": [
            "Phân bố lớp:\n",
            "label\n",
            "0    43594\n",
            "1    34944\n",
            "Name: count, dtype: int64\n"
          ]
        },
        {
          "output_type": "display_data",
          "data": {
            "text/plain": [
              "<Figure size 800x600 with 1 Axes>"
            ],
            "image/png": "[encoded data removed]"
          },
          "metadata": {}
        }
      ]
    },
    {
      "cell_type": "code",
      "source": [
        "# 4. Vector hóa với TF-IDF\n",
        "vectorizer = TfidfVectorizer(max_features=5000)\n",
        "X_tfidf = vectorizer.fit_transform(data['cleaned_text'])\n",
        "y = data['label'].values"
      ],
      "metadata": {
        "id": "XzY-tkthNfAk"
      },
      "execution_count": null,
      "outputs": []
    },
    {
      "cell_type": "code",
      "source": [
        "# 5. Chia dữ liệu (cho TF-IDF)\n",
        "X_temp, X_test, y_temp, y_test = train_test_split(\n",
        "    X_tfidf, y, test_size=0.1, random_state=42, stratify=y\n",
        ")\n",
        "val_size_adjusted = 0.1 / (0.8 + 0.1)\n",
        "X_train, X_val, y_train, y_val = train_test_split(\n",
        "    X_temp, y_temp, test_size=val_size_adjusted, random_state=42, stratify=y_temp\n",
        ")\n",
        "\n",
        "# In kích thước các tập\n",
        "print(\"Kích thước tập huấn luyện:\", X_train.shape)\n",
        "print(\"Kích thước tập kiểm định:\", X_val.shape)\n",
        "print(\"Kích thước tập kiểm tra:\", X_test.shape)"
      ],
      "metadata": {
        "colab": {
          "base_uri": "https://localhost:8080/"
        },
        "id": "jputCmnuOAaF",
        "outputId": "9bbfdec0-9202-4991-9161-c3c72739b436"
      },
      "execution_count": null,
      "outputs": [
        {
          "output_type": "stream",
          "name": "stdout",
          "text": [
            "Kích thước tập huấn luyện: (62830, 5000)\n",
            "Kích thước tập kiểm định: (7854, 5000)\n",
            "Kích thước tập kiểm tra: (7854, 5000)\n"
          ]
        }
      ]
    },
    {
      "cell_type": "code",
      "source": [
        "#Xử lý imbalance\n",
        "from imblearn.over_sampling import SMOTE\n",
        "smote = SMOTE(random_state=42)\n",
        "X_train_resampled, y_train_resampled = smote.fit_resample(X_train, y_train)"
      ],
      "metadata": {
        "id": "8vjVlU4BXW_e"
      },
      "execution_count": null,
      "outputs": []
    },
    {
      "cell_type": "code",
      "source": [
        "# 5. Token hóa cho BERT\n",
        "tokenizer = AutoTokenizer.from_pretrained('bert-base-uncased')\n",
        "max_length = 128\n",
        "input_ids = []\n",
        "attention_masks = []\n",
        "\n",
        "for text in data['cleaned_text']:\n",
        "    encoding = tokenizer(\n",
        "        text,\n",
        "        padding='max_length',\n",
        "        truncation=True,\n",
        "        max_length=max_length,\n",
        "        return_tensors='np'\n",
        "    )\n",
        "    input_ids.append(encoding['input_ids'][0])\n",
        "    attention_masks.append(encoding['attention_mask'][0])\n",
        "\n",
        "input_ids = np.array(input_ids)\n",
        "attention_masks = np.array(attention_masks)\n",
        "y_bert = data['label'].values"
      ],
      "metadata": {
        "id": "oyAxoLfNVdGs"
      },
      "execution_count": null,
      "outputs": []
    },
    {
      "cell_type": "markdown",
      "source": [
        "#Exploratory Data Analysis"
      ],
      "metadata": {
        "id": "8ELJhIlZ3YGZ"
      }
    },
    {
      "cell_type": "code",
      "source": [
        "data.head()"
      ],
      "metadata": {
        "colab": {
          "base_uri": "https://localhost:8080/"
        },
        "id": "MylOCbVO7Ccl",
        "outputId": "94370235-9219-466f-aabd-d86830957b2e"
      },
      "execution_count": null,
      "outputs": [
        {
          "output_type": "execute_result",
          "data": {
            "text/plain": [
              "   Unnamed: 0                                               text  label  \\\n",
              "0           0  The head of a conservative Republican faction ...      1   \n",
              "1           1  Transgender people will be allowed for the fir...      1   \n",
              "2           2  The special counsel investigation of links bet...      1   \n",
              "3           3  Trump campaign adviser George Papadopoulos tol...      1   \n",
              "4           4  President Donald Trump called on the U.S. Post...      1   \n",
              "\n",
              "                                        cleaned_text  \n",
              "0  head conservative republican faction u congres...  \n",
              "1  transgender people allowed first time enlist u...  \n",
              "2  special counsel investigation link russia pres...  \n",
              "3  trump campaign adviser george papadopoulos tol...  \n",
              "4  president donald trump called u postal service...  "
            ],
            "text/html": [
              "\n",
              "  <div id=\"df-0f885075-cae9-4a9a-8182-bb983a10367c\" class=\"colab-df-container\">\n",
              "    <div>\n",
              "<style scoped>\n",
              "    .dataframe tbody tr th:only-of-type {\n",
              "        vertical-align: middle;\n",
              "    }\n",
              "\n",
              "    .dataframe tbody tr th {\n",
              "        vertical-align: top;\n",
              "    }\n",
              "\n",
              "    .dataframe thead th {\n",
              "        text-align: right;\n",
              "    }\n",
              "</style>\n",
              "<table border=\"1\" class=\"dataframe\">\n",
              "  <thead>\n",
              "    <tr style=\"text-align: right;\">\n",
              "      <th></th>\n",
              "      <th>Unnamed: 0</th>\n",
              "      <th>text</th>\n",
              "      <th>label</th>\n",
              "      <th>cleaned_text</th>\n",
              "    </tr>\n",
              "  </thead>\n",
              "  <tbody>\n",
              "    <tr>\n",
              "      <th>0</th>\n",
              "      <td>0</td>\n",
              "      <td>The head of a conservative Republican faction ...</td>\n",
              "      <td>1</td>\n",
              "      <td>head conservative republican faction u congres...</td>\n",
              "    </tr>\n",
              "    <tr>\n",
              "      <th>1</th>\n",
              "      <td>1</td>\n",
              "      <td>Transgender people will be allowed for the fir...</td>\n",
              "      <td>1</td>\n",
              "      <td>transgender people allowed first time enlist u...</td>\n",
              "    </tr>\n",
              "    <tr>\n",
              "      <th>2</th>\n",
              "      <td>2</td>\n",
              "      <td>The special counsel investigation of links bet...</td>\n",
              "      <td>1</td>\n",
              "      <td>special counsel investigation link russia pres...</td>\n",
              "    </tr>\n",
              "    <tr>\n",
              "      <th>3</th>\n",
              "      <td>3</td>\n",
              "      <td>Trump campaign adviser George Papadopoulos tol...</td>\n",
              "      <td>1</td>\n",
              "      <td>trump campaign adviser george papadopoulos tol...</td>\n",
              "    </tr>\n",
              "    <tr>\n",
              "      <th>4</th>\n",
              "      <td>4</td>\n",
              "      <td>President Donald Trump called on the U.S. Post...</td>\n",
              "      <td>1</td>\n",
              "      <td>president donald trump called u postal service...</td>\n",
              "    </tr>\n",
              "  </tbody>\n",
              "</table>\n",
              "</div>\n",
              "    <div class=\"colab-df-buttons\">\n",
              "\n",
              "  <div class=\"colab-df-container\">\n",
              "    <button class=\"colab-df-convert\" onclick=\"convertToInteractive('df-0f885075-cae9-4a9a-8182-bb983a10367c')\"\n",
              "            title=\"Convert this dataframe to an interactive table.\"\n",
              "            style=\"display:none;\">\n",
              "\n",
              "  <svg xmlns=\"http://www.w3.org/2000/svg\" height=\"24px\" viewBox=\"0 -960 960 960\">\n",
              "    <path d=\"M120-120v-720h720v720H120Zm60-500h600v-160H180v160Zm220 220h160v-160H400v160Zm0 220h160v-160H400v160ZM180-400h160v-160H180v160Zm440 0h160v-160H620v160ZM180-180h160v-160H180v160Zm440 0h160v-160H620v160Z\"/>\n",
              "  </svg>\n",
              "    </button>\n",
              "\n",
              "  <style>\n",
              "    .colab-df-container {\n",
              "      display:flex;\n",
              "      gap: 12px;\n",
              "    }\n",
              "\n",
              "    .colab-df-convert {\n",
              "      background-color: #E8F0FE;\n",
              "      border: none;\n",
              "      border-radius: 50%;\n",
              "      cursor: pointer;\n",
              "      display: none;\n",
              "      fill: #1967D2;\n",
              "      height: 32px;\n",
              "      padding: 0 0 0 0;\n",
              "      width: 32px;\n",
              "    }\n",
              "\n",
              "    .colab-df-convert:hover {\n",
              "      background-color: #E2EBFA;\n",
              "      box-shadow: 0px 1px 2px rgba(60, 64, 67, 0.3), 0px 1px 3px 1px rgba(60, 64, 67, 0.15);\n",
              "      fill: #174EA6;\n",
              "    }\n",
              "\n",
              "    .colab-df-buttons div {\n",
              "      margin-bottom: 4px;\n",
              "    }\n",
              "\n",
              "    [theme=dark] .colab-df-convert {\n",
              "      background-color: #3B4455;\n",
              "      fill: #D2E3FC;\n",
              "    }\n",
              "\n",
              "    [theme=dark] .colab-df-convert:hover {\n",
              "      background-color: #434B5C;\n",
              "      box-shadow: 0px 1px 3px 1px rgba(0, 0, 0, 0.15);\n",
              "      filter: drop-shadow(0px 1px 2px rgba(0, 0, 0, 0.3));\n",
              "      fill: #FFFFFF;\n",
              "    }\n",
              "  </style>\n",
              "\n",
              "    <script>\n",
              "      const buttonEl =\n",
              "        document.querySelector('#df-0f885075-cae9-4a9a-8182-bb983a10367c button.colab-df-convert');\n",
              "      buttonEl.style.display =\n",
              "        google.colab.kernel.accessAllowed ? 'block' : 'none';\n",
              "\n",
              "      async function convertToInteractive(key) {\n",
              "        const element = document.querySelector('#df-0f885075-cae9-4a9a-8182-bb983a10367c');\n",
              "        const dataTable =\n",
              "          await google.colab.kernel.invokeFunction('convertToInteractive',\n",
              "                                                    [key], {});\n",
              "        if (!dataTable) return;\n",
              "\n",
              "        const docLinkHtml = 'Like what you see? Visit the ' +\n",
              "          '<a target=\"_blank\" href=https://colab.research.google.com/notebooks/data_table.ipynb>data table notebook</a>'\n",
              "          + ' to learn more about interactive tables.';\n",
              "        element.innerHTML = '';\n",
              "        dataTable['output_type'] = 'display_data';\n",
              "        await google.colab.output.renderOutput(dataTable, element);\n",
              "        const docLink = document.createElement('div');\n",
              "        docLink.innerHTML = docLinkHtml;\n",
              "        element.appendChild(docLink);\n",
              "      }\n",
              "    </script>\n",
              "  </div>\n",
              "\n",
              "\n",
              "    <div id=\"df-0b423d44-d23a-4a7d-a137-45436147d0d8\">\n",
              "      <button class=\"colab-df-quickchart\" onclick=\"quickchart('df-0b423d44-d23a-4a7d-a137-45436147d0d8')\"\n",
              "                title=\"Suggest charts\"\n",
              "                style=\"display:none;\">\n",
              "\n",
              "<svg xmlns=\"http://www.w3.org/2000/svg\" height=\"24px\"viewBox=\"0 0 24 24\"\n",
              "     width=\"24px\">\n",
              "    <g>\n",
              "        <path d=\"M19 3H5c-1.1 0-2 .9-2 2v14c0 1.1.9 2 2 2h14c1.1 0 2-.9 2-2V5c0-1.1-.9-2-2-2zM9 17H7v-7h2v7zm4 0h-2V7h2v10zm4 0h-2v-4h2v4z\"/>\n",
              "    </g>\n",
              "</svg>\n",
              "      </button>\n",
              "\n",
              "<style>\n",
              "  .colab-df-quickchart {\n",
              "      --bg-color: #E8F0FE;\n",
              "      --fill-color: #1967D2;\n",
              "      --hover-bg-color: #E2EBFA;\n",
              "      --hover-fill-color: #174EA6;\n",
              "      --disabled-fill-color: #AAA;\n",
              "      --disabled-bg-color: #DDD;\n",
              "  }\n",
              "\n",
              "  [theme=dark] .colab-df-quickchart {\n",
              "      --bg-color: #3B4455;\n",
              "      --fill-color: #D2E3FC;\n",
              "      --hover-bg-color: #434B5C;\n",
              "      --hover-fill-color: #FFFFFF;\n",
              "      --disabled-bg-color: #3B4455;\n",
              "      --disabled-fill-color: #666;\n",
              "  }\n",
              "\n",
              "  .colab-df-quickchart {\n",
              "    background-color: var(--bg-color);\n",
              "    border: none;\n",
              "    border-radius: 50%;\n",
              "    cursor: pointer;\n",
              "    display: none;\n",
              "    fill: var(--fill-color);\n",
              "    height: 32px;\n",
              "    padding: 0;\n",
              "    width: 32px;\n",
              "  }\n",
              "\n",
              "  .colab-df-quickchart:hover {\n",
              "    background-color: var(--hover-bg-color);\n",
              "    box-shadow: 0 1px 2px rgba(60, 64, 67, 0.3), 0 1px 3px 1px rgba(60, 64, 67, 0.15);\n",
              "    fill: var(--button-hover-fill-color);\n",
              "  }\n",
              "\n",
              "  .colab-df-quickchart-complete:disabled,\n",
              "  .colab-df-quickchart-complete:disabled:hover {\n",
              "    background-color: var(--disabled-bg-color);\n",
              "    fill: var(--disabled-fill-color);\n",
              "    box-shadow: none;\n",
              "  }\n",
              "\n",
              "  .colab-df-spinner {\n",
              "    border: 2px solid var(--fill-color);\n",
              "    border-color: transparent;\n",
              "    border-bottom-color: var(--fill-color);\n",
              "    animation:\n",
              "      spin 1s steps(1) infinite;\n",
              "  }\n",
              "\n",
              "  @keyframes spin {\n",
              "    0% {\n",
              "      border-color: transparent;\n",
              "      border-bottom-color: var(--fill-color);\n",
              "      border-left-color: var(--fill-color);\n",
              "    }\n",
              "    20% {\n",
              "      border-color: transparent;\n",
              "      border-left-color: var(--fill-color);\n",
              "      border-top-color: var(--fill-color);\n",
              "    }\n",
              "    30% {\n",
              "      border-color: transparent;\n",
              "      border-left-color: var(--fill-color);\n",
              "      border-top-color: var(--fill-color);\n",
              "      border-right-color: var(--fill-color);\n",
              "    }\n",
              "    40% {\n",
              "      border-color: transparent;\n",
              "      border-right-color: var(--fill-color);\n",
              "      border-top-color: var(--fill-color);\n",
              "    }\n",
              "    60% {\n",
              "      border-color: transparent;\n",
              "      border-right-color: var(--fill-color);\n",
              "    }\n",
              "    80% {\n",
              "      border-color: transparent;\n",
              "      border-right-color: var(--fill-color);\n",
              "      border-bottom-color: var(--fill-color);\n",
              "    }\n",
              "    90% {\n",
              "      border-color: transparent;\n",
              "      border-bottom-color: var(--fill-color);\n",
              "    }\n",
              "  }\n",
              "</style>\n",
              "\n",
              "      <script>\n",
              "        async function quickchart(key) {\n",
              "          const quickchartButtonEl =\n",
              "            document.querySelector('#' + key + ' button');\n",
              "          quickchartButtonEl.disabled = true;  // To prevent multiple clicks.\n",
              "          quickchartButtonEl.classList.add('colab-df-spinner');\n",
              "          try {\n",
              "            const charts = await google.colab.kernel.invokeFunction(\n",
              "                'suggestCharts', [key], {});\n",
              "          } catch (error) {\n",
              "            console.error('Error during call to suggestCharts:', error);\n",
              "          }\n",
              "          quickchartButtonEl.classList.remove('colab-df-spinner');\n",
              "          quickchartButtonEl.classList.add('colab-df-quickchart-complete');\n",
              "        }\n",
              "        (() => {\n",
              "          let quickchartButtonEl =\n",
              "            document.querySelector('#df-0b423d44-d23a-4a7d-a137-45436147d0d8 button');\n",
              "          quickchartButtonEl.style.display =\n",
              "            google.colab.kernel.accessAllowed ? 'block' : 'none';\n",
              "        })();\n",
              "      </script>\n",
              "    </div>\n",
              "\n",
              "    </div>\n",
              "  </div>\n"
            ],
            "application/vnd.google.colaboratory.intrinsic+json": {
              "type": "dataframe",
              "variable_name": "data",
              "summary": "{\n  \"name\": \"data\",\n  \"rows\": 78538,\n  \"fields\": [\n    {\n      \"column\": \"Unnamed: 0\",\n      \"properties\": {\n        \"dtype\": \"number\",\n        \"std\": 11971,\n        \"min\": 0,\n        \"max\": 44426,\n        \"num_unique_values\": 44397,\n        \"samples\": [\n          41526,\n          40752,\n          12878\n        ],\n        \"semantic_type\": \"\",\n        \"description\": \"\"\n      }\n    },\n    {\n      \"column\": \"text\",\n      \"properties\": {\n        \"dtype\": \"string\",\n        \"num_unique_values\": 68555,\n        \"samples\": [\n          \"MAXINE GOT A MAKEOVER and is hopping mad about speculation she s running for POTUS in 2020. It can t help that Tucker Carlson is mocking her just about every night.Waters was in a foul mood during an interview with her favorite news anchor Joy Reid. Reid is a foot soldier for Waters. These two get together every other day to bash Trump. Pitiful!The funny thing is that no one was criticizing Waters. They were merely speculating if she is considering a presidential run, something she has admitted to if she had the support of millennials. Right?Waters told Reid: Just because I m going to New Hampshire to be at a Democratic Party event for one of my colleagues, they made this story up. , or to make people uncomfortable with me, all of that. So you re gonna be hearing a lot more from them these people who are all, you know, aligned around trying to discredit Maxine Waters because she has stayed on Trump s case so much. And so you re going to hear a lot more from them. Don t believe anything they re saying.\",\n          \"The interests of the NATO and EU powers in the Baltic States are determined by the geographical situation and the possibilities to use the Baltic States as a disruptive factor against peaceful conditions of cooperation and understanding in the region and in neighbourly relations with Russia.\\r\\n\\r\\nThe powers of NATO and the EU are actively interfering in the shaping of internal relations of the Baltic States; their focus is on the creation of \\\"fear of the Baltic towards the Russians\\\". This fear can be instrumentalised externally for the goals of the NATO and EU powers for the control of Baltic States against Russia. An enemy image of Russia is created. The effect on the cultivation of Russophobia is achieved through the systematic fomenting of internal political contrasts between different nationalities. The Western powers need this atmosphere of fear and instability to justify their anti-Russian policies.\\r\\n\\r\\nEspecially after the accession of the Baltic states to NATO and the EU, the West has shown that it is determined to further develop this geographical area on Russia's western borders and to actively use it for its geopolitical goals. The nature of these measures, as well as the military-political steps, show that its policy towards Russia is increasingly degenerating towards military confrontation. For the Baltic Sea and its neighbours and for Europe, this means increasing militarisation and the danger of war.\",\n          \"A U.N. tribunal on Wednesday convicted ex-Bosnian Serb military commander Ratko Mladic of genocide and crimes against humanity for massacres of Bosnian Muslims and ethnic cleansing campaigns to forge a  Greater Serbia , and jailed him for life. Mladic was hustled out of the court minutes before the verdict for angrily shouting,  This is all lies, you are all liars!  The outburst occurred after Mladic returned to the courtroom from what his lawyers described as a visit to the bathroom, then a blood pressure test which held up proceedings. The U.N. Criminal Tribunal for the Former Yugoslavia (ICTY) found Mladic guilty of 10 of 11 charges, including the slaughter of 8,000 Muslim men and boys at Srebrenica and the 43-month siege of the Bosnian capital Sarajevo, in which more than 10,000 civilians were killed by shelling, mortar and sniper fire. The killings in Srebrenica of men and boys after they were separated from women and taken away in buses or marched off to be shot amounted to Europe s worst atrocity since World War Two.   The crimes committed rank among the most heinous known to humankind, and include genocide and extermination as a crime against humanity,  Presiding Judge Alphons Orie said in reading out a summary of the judgment.  Many of these men and boys were cursed, insulted, threatened, forced to sing Serb songs and beaten while awaiting their execution,  he said. Mladic had pleaded not guilty to all charges. His legal team said he would appeal against the verdict. Called the  Butcher of Bosnia  by survivors of his actions, Mladic was the most notorious of 163 ICTY indictees together with Radovan Karadzic, the former Bosnian Serb nationalist leader and political mastermind of ethnic cleansing, and their patron, then-Serbian President Slobodan Milosevic. The tribunal found Mladic  significantly contributed  to genocide committed in Srebrenica with the goal of destroying its Muslim population,  personally directed  the bombardment of Sarajevo and was part of a  joint criminal enterprise  aimed at purging Bosnian Muslims and Catholic Croats from Bosnia.  Prosecutors said the ultimate agenda of Mladic, Karadzic and Milosevic was what came to be known worldwide as ethnic cleansing, to carve out an Orthodox  Greater Serbia  in the ashes of multinational federal Yugoslavia. ICTY Chief Prosecutor Serge Brammertz called the verdict  a milestone  in holding Mladic accountable not just for massacres but the detention of tens of thousands of non-Serbs in camps where many were beaten and raped, and the forced displacement of over one million to remake Bosnia s demographic map. The Mladic case is the last major decision by the ICTY, which plans to close its doors soon after sentencing 83 Balkan war criminals since opening in 1993. In Geneva, U.N. human rights chief Zeid Ra ad al-Hussein called Mladic the  epitome of evil  and said his conviction after 16 years as an indicted fugitive and five years of trial was a  momentous victory for justice .   Today s verdict is a warning to the perpetrators of such crimes that they will not escape justice, no matter how powerful they may be nor how long it may take,  Zeid said in a statement.  RESPECT THE VICTIMS, LOOK TO THE FUTURE  -SERBIA President Aleksandar Vucic of Serbia, whose 1990s strongman leader Milosevic died in a tribunal prison in 2006 before the end of his genocide trial, said Serbia  respects the victims .   I would like to call on everyone (in the region) to start looking into the future and not to drown in tears of the past... We need to look to the future...so we finally have a stable country,  Vucic told reporters when asked about the verdict. Serbia, once the most powerful Yugoslav republic, is now democratic and seeking ties to the European Union. Bosnian Prime Minister Denis Zvizdic said he hoped that  those who still call for new divisions and conflicts will carefully read the verdict rendered today ...in case that they are still no ready to face their past . He was alluding to enduring separatism in post-war federal Bosnia s autonomous Serb region. Srebrenica, near Bosnia s eastern border with Serbia, had been designated a  safe area  by the United Nations and was defended by lightly armed U.N. peacekeepers. But they quickly surrendered when Mladic s forces stormed it on July 11, 1995. A bronzed and beefy Mladic was filmed visiting a refugee camp in Srebrenica on July 12.  He was giving away chocolate and sweets to the children while the cameras were rolling, telling us nothing will happen and that we have no reason to be afraid,  recalled Munira Subasic of the Mothers of Srebrenica group. Serbian TV footage showed Mladic approaching a blond boy in a friendly way and asking him his name and how old he was, then turning to fearful Muslim women and children and assuring them:  All who would like to stay can stay. Just take it easy.   Subasic said:  After the cameras left he gave an order to kill whoever could be killed, rape whoever could be raped and finally he ordered us all to be banished and chased out of Srebrenica, so he could make an  ethnically clean  town.  Dutch peacekeepers looked on helplessly as Bosnian Serb officers separated men and boys from women, then sent them out of sight on buses or marched them away to be shot. The remains of Subasic s son and husband were both found in mass graves by International Commission of Missing Persons (ICMP) workers. The ICMP have identified some 6,900 remains of Srebrenica victims through DNA analysis. The siege of Sarajevo terrorised its people. It involved both heavy shelling that sometimes slaughtered residents queueing outside for scarce supplies, and random sniper fire that picked off people who dared to venture into the streets, or even as they stood indoors by exposed windows. In May 1992, as artillery barrages from surrounding hillsides were setting Sarajevo ablaze, Bosnian intelligence intercepted a Mladic phone call in which he was giving orders about targets:  Fire on the parliament, presidency, the Old Town. Fire so that they cannot sleep, burn their brains!  That phone call was entered as evidence in his trial. Mladic is still seen as a national hero by some compatriots for the swift capture of much of Bosnia after its Serbs rose up against an early 1992 referendum vote by Muslims and Croats for independence from Serbian-dominated Yugoslavia.  His lawyers will argue in their appeal that Bosnian Serbs were  victims  of the referendum and fought in  self-defence . Mladic s lawyers contended that Sarajevo was a legitimate military target as it was the main bastion of Muslim-led Bosnian government forces. They also asserted that Mladic left Srebrenica shortly before Serb fighters began executing Muslim detainees and was later shocked to find out they had occurred. But Wednesday s verdict was never much in doubt, given the mountain of evidence of Serb atrocities produced at previous trials. Four of Mladic s subordinates received life sentences. Karadzic, 72, was convicted of genocide in 2016 and sentenced to 40 years. He is appealing. Mladic was indicted along with Karadzic in 1995, shortly after the Srebrenica killings. But he evaded capture until 2011, three years after a heavily disguised Karadzic was arrested. Mladic s trial in The Hague took five years in part because of delays due to his poor health. He has suffered several strokes, but the ICTY rejected a flurry of last-minute attempts by his lawyers to put off the verdict on medical grounds. The ICTY indicted 161 people in all from Bosnia, Croatia, Serbia, Montenegro and Kosovo. Of the 83 convicted, more than 60 of them were ethnic Serbs.\"\n        ],\n        \"semantic_type\": \"\",\n        \"description\": \"\"\n      }\n    },\n    {\n      \"column\": \"label\",\n      \"properties\": {\n        \"dtype\": \"number\",\n        \"std\": 0,\n        \"min\": 0,\n        \"max\": 1,\n        \"num_unique_values\": 2,\n        \"samples\": [\n          0,\n          1\n        ],\n        \"semantic_type\": \"\",\n        \"description\": \"\"\n      }\n    },\n    {\n      \"column\": \"cleaned_text\",\n      \"properties\": {\n        \"dtype\": \"string\",\n        \"num_unique_values\": 68315,\n        \"samples\": [\n          \"llewellyn h rockwell jr bloghearrogerstonejnftworth wont shootout nonok corral rather hot fun discussion election politics mises circle sat nov jeff deist bob murphy also speak per person nice lunch included get inside dope inside dope p student free pm october\",\n          \"least four people killed powerful earthquake hit mexico tuesday local official said two people killed central state puebla school collapsed said fernando clemente civil protection official state two people died state mexico governor alfredo del mazo told local tv mexico city mayor miguel angel mancera said report death yet capital people trapped burning building\"\n        ],\n        \"semantic_type\": \"\",\n        \"description\": \"\"\n      }\n    }\n  ]\n}"
            }
          },
          "metadata": {},
          "execution_count": 16
        }
      ]
    },
    {
      "cell_type": "code",
      "source": [
        "df = data.copy()"
      ],
      "metadata": {
        "id": "UwOjTlNq7Pjf"
      },
      "execution_count": null,
      "outputs": []
    },
    {
      "cell_type": "code",
      "source": [
        "print(\"\\n=== LABEL DISTRIBUTION ===\")\n",
        "label_counts = df['label'].value_counts()\n",
        "print(label_counts)\n",
        "print(f\"Label balance ratio: {label_counts.min()/label_counts.max():.2f}\")\n",
        "\n",
        "plt.figure(figsize=(8, 6))\n",
        "data['label'].value_counts().plot(kind='bar')\n",
        "plt.title('Label Distribution')\n",
        "plt.xlabel('Label')\n",
        "plt.ylabel('Count')\n",
        "plt.xticks(rotation=0)\n",
        "plt.show()\n"
      ],
      "metadata": {
        "colab": {
          "base_uri": "https://localhost:8080/"
        },
        "id": "Qr9fpLF21j1-",
        "outputId": "99e43d8f-15a2-43a5-90f0-b5695e20879a"
      },
      "execution_count": null,
      "outputs": [
        {
          "output_type": "stream",
          "name": "stdout",
          "text": [
            "\n",
            "=== LABEL DISTRIBUTION ===\n",
            "label\n",
            "0    43594\n",
            "1    34944\n",
            "Name: count, dtype: int64\n",
            "Label balance ratio: 0.80\n"
          ]
        },
        {
          "output_type": "display_data",
          "data": {
            "text/plain": [
              "<Figure size 800x600 with 1 Axes>"
            ],
            "image/png": "[encoded data removed]"
          },
          "metadata": {}
        }
      ]
    },
    {
      "cell_type": "code",
      "source": [
        "print(\"\\n=== TEXT LENGTH ANALYSIS ===\")\n",
        "df['text_length'] = df['text'].str.len()\n",
        "df['cleaned_text_length'] = df['cleaned_text'].str.len()\n",
        "df['word_count'] = df['text'].str.split().str.len()\n",
        "df['cleaned_word_count'] = df['cleaned_text'].str.split().str.len()\n",
        "\n",
        "print(f\"Original text length - Mean: {df['text_length'].mean():.2f}, Std: {df['text_length'].std():.2f}\")\n",
        "print(f\"Cleaned text length - Mean: {df['cleaned_text_length'].mean():.2f}, Std: {df['cleaned_text_length'].std():.2f}\")\n",
        "print(f\"Word count - Mean: {df['word_count'].mean():.2f}, Std: {df['word_count'].std():.2f}\")\n",
        "\n",
        "# Plot text length distributions\n",
        "fig, axes = plt.subplots(2, 2, figsize=(15, 12))\n",
        "\n",
        "# Text length histogram\n",
        "axes[0,0].hist(df['text_length'], bins=50, alpha=0.7, color='blue')\n",
        "axes[0,0].set_title('Original Text Length Distribution')\n",
        "axes[0,0].set_xlabel('Character Count')\n",
        "axes[0,0].set_ylabel('Frequency')\n",
        "\n",
        "# Cleaned text length histogram\n",
        "axes[0,1].hist(df['cleaned_text_length'], bins=50, alpha=0.7, color='green')\n",
        "axes[0,1].set_title('Cleaned Text Length Distribution')\n",
        "axes[0,1].set_xlabel('Character Count')\n",
        "axes[0,1].set_ylabel('Frequency')\n",
        "\n",
        "# Word count histogram\n",
        "axes[1,0].hist(df['word_count'], bins=50, alpha=0.7, color='red')\n",
        "axes[1,0].set_title('Word Count Distribution')\n",
        "axes[1,0].set_xlabel('Word Count')\n",
        "axes[1,0].set_ylabel('Frequency')\n",
        "\n",
        "# Text length by label\n",
        "df.boxplot(column='text_length', by='label', ax=axes[1,1])\n",
        "axes[1,1].set_title('Text Length by Label')\n",
        "axes[1,1].set_xlabel('Label')\n",
        "axes[1,1].set_ylabel('Character Count')\n",
        "\n",
        "plt.tight_layout()\n",
        "plt.show()\n"
      ],
      "metadata": {
        "colab": {
          "base_uri": "https://localhost:8080/"
        },
        "id": "pE8Xwtuy2Gga",
        "outputId": "1398e918-ae36-4266-abc9-394c9bcc3151"
      },
      "execution_count": null,
      "outputs": [
        {
          "output_type": "stream",
          "name": "stdout",
          "text": [
            "\n",
            "=== TEXT LENGTH ANALYSIS ===\n",
            "Original text length - Mean: 2898.48, Std: 3661.44\n",
            "Cleaned text length - Mean: 1961.22, Std: 2408.47\n",
            "Word count - Mean: 479.71, Std: 613.42\n"
          ]
        },
        {
          "output_type": "display_data",
          "data": {
            "text/plain": [
              "<Figure size 1500x1200 with 4 Axes>"
            ],
            "image/png": "[encoded data removed]"
          },
          "metadata": {}
        }
      ]
    },
    {
      "cell_type": "code",
      "source": [
        "# 4. VOCABULARY\n",
        "from collections import Counter\n",
        "print(\"\\n=== VOCABULARY ANALYSIS ===\")\n",
        "\n",
        "# Function to get word frequencies\n",
        "def get_word_freq(text_series, n_top=20):\n",
        "    all_words = ' '.join(text_series.astype(str)).lower().split()\n",
        "    # Remove basic punctuation\n",
        "    all_words = [re.sub(r'[^a-zA-Z]', '', word) for word in all_words]\n",
        "    all_words = [word for word in all_words if len(word) > 0]\n",
        "    return Counter(all_words).most_common(n_top)\n",
        "\n",
        "# Overall word frequencies\n",
        "top_words_original = get_word_freq(df['text'])\n",
        "top_words_cleaned = get_word_freq(df['cleaned_text'])\n",
        "\n",
        "print(\"Top 20 words in original text:\")\n",
        "for word, freq in top_words_original:\n",
        "    print(f\"{word}: {freq}\")\n",
        "\n",
        "print(\"\\nTop 20 words in cleaned text:\")\n",
        "for word, freq in top_words_cleaned:\n",
        "    print(f\"{word}: {freq}\")\n",
        "\n",
        "# Plot top words\n",
        "fig, axes = plt.subplots(1, 2, figsize=(20, 8))\n",
        "\n",
        "# Original text top words\n",
        "words_orig, freqs_orig = zip(*top_words_original)\n",
        "axes[0].barh(words_orig, freqs_orig)\n",
        "axes[0].set_title('Top 20 Words in Original Text')\n",
        "axes[0].set_xlabel('Frequency')\n",
        "\n",
        "# Cleaned text top words\n",
        "words_clean, freqs_clean = zip(*top_words_cleaned)\n",
        "axes[1].barh(words_clean, freqs_clean)\n",
        "axes[1].set_title('Top 20 Words in Cleaned Text')\n",
        "axes[1].set_xlabel('Frequency')\n",
        "\n",
        "plt.tight_layout()\n",
        "plt.show()"
      ],
      "metadata": {
        "colab": {
          "base_uri": "https://localhost:8080/"
        },
        "id": "xTJLEmoo2vy-",
        "outputId": "583c2a60-7ec5-4900-ffe8-be1b6e816c92"
      },
      "execution_count": null,
      "outputs": [
        {
          "output_type": "stream",
          "name": "stdout",
          "text": [
            "\n",
            "=== VOCABULARY ANALYSIS ===\n",
            "Top 20 words in original text:\n",
            "the: 2163185\n",
            "to: 1065404\n",
            "of: 964087\n",
            "and: 881688\n",
            "a: 855298\n",
            "in: 730858\n",
            "that: 504314\n",
            "is: 371861\n",
            "for: 350851\n",
            "on: 347609\n",
            "it: 255536\n",
            "he: 248205\n",
            "with: 243243\n",
            "was: 238222\n",
            "as: 227984\n",
            "said: 214556\n",
            "by: 192161\n",
            "his: 181579\n",
            "s: 181224\n",
            "be: 173636\n",
            "\n",
            "Top 20 words in cleaned text:\n",
            "said: 214556\n",
            "trump: 197858\n",
            "state: 106260\n",
            "u: 103549\n",
            "would: 99796\n",
            "people: 88012\n",
            "one: 86205\n",
            "president: 84804\n",
            "mr: 77946\n",
            "clinton: 72523\n",
            "year: 72431\n",
            "new: 67339\n",
            "time: 64241\n",
            "also: 62110\n",
            "republican: 56771\n",
            "like: 55741\n",
            "american: 52093\n",
            "government: 49278\n",
            "say: 47799\n",
            "could: 47318\n"
          ]
        },
        {
          "output_type": "display_data",
          "data": {
            "text/plain": [
              "<Figure size 2000x800 with 2 Axes>"
            ],
            "image/png": "[encoded data removed]"
          },
          "metadata": {}
        }
      ]
    },
    {
      "cell_type": "code",
      "source": [
        "# 5. WORD FREQUENCY BY LABEL\n",
        "print(\"\\n=== WORD FREQUENCY BY LABEL ===\")\n",
        "for label in df['label'].unique():\n",
        "    print(f\"\\nTop words for label {label}:\")\n",
        "    label_text = df[df['label'] == label]['cleaned_text']\n",
        "    top_words_label = get_word_freq(label_text, 15)\n",
        "    for word, freq in top_words_label:\n",
        "        print(f\"{word}: {freq}\")\n"
      ],
      "metadata": {
        "colab": {
          "base_uri": "https://localhost:8080/"
        },
        "id": "TbKrfEu84y36",
        "outputId": "db51d3c0-0172-4424-a003-66f068cbaee1"
      },
      "execution_count": null,
      "outputs": [
        {
          "output_type": "stream",
          "name": "stdout",
          "text": [
            "\n",
            "=== WORD FREQUENCY BY LABEL ===\n",
            "\n",
            "Top words for label 1:\n",
            "said: 167521\n",
            "trump: 97059\n",
            "mr: 70710\n",
            "state: 63156\n",
            "would: 56640\n",
            "u: 52160\n",
            "president: 47294\n",
            "year: 42544\n",
            "one: 40476\n",
            "new: 38788\n",
            "people: 38781\n",
            "republican: 35615\n",
            "also: 33399\n",
            "time: 30234\n",
            "government: 28112\n",
            "\n",
            "Top words for label 0:\n",
            "trump: 100799\n",
            "u: 51389\n",
            "people: 49231\n",
            "said: 47035\n",
            "one: 45729\n",
            "clinton: 45688\n",
            "would: 43156\n",
            "state: 43104\n",
            "president: 37510\n",
            "time: 34007\n",
            "like: 31954\n",
            "hillary: 30799\n",
            "american: 30133\n",
            "year: 29887\n",
            "also: 28711\n"
          ]
        }
      ]
    },
    {
      "cell_type": "code",
      "source": [
        "# 9. TEXT COMPARISON (Original vs Cleaned)\n",
        "print(\"\\n=== TEXT COMPARISON ===\")\n",
        "df['compression_ratio'] = df['cleaned_text_length'] / df['text_length']\n",
        "print(f\"Average compression ratio: {df['compression_ratio'].mean():.2f}\")\n",
        "print(f\"Text reduction: {(1 - df['compression_ratio'].mean()) * 100:.1f}%\")"
      ],
      "metadata": {
        "colab": {
          "base_uri": "https://localhost:8080/"
        },
        "id": "ztKBXCQO6WBQ",
        "outputId": "77fa68ec-7d5d-4d82-b302-97c34eedfe8b"
      },
      "execution_count": null,
      "outputs": [
        {
          "output_type": "stream",
          "name": "stdout",
          "text": [
            "\n",
            "=== TEXT COMPARISON ===\n",
            "Average compression ratio: 0.69\n",
            "Text reduction: 31.4%\n"
          ]
        }
      ]
    },
    {
      "cell_type": "code",
      "source": [
        "print(\"\\n=== SUMMARY STATISTICS ===\")\n",
        "summary_stats = {\n",
        "    'Total Samples': len(df),\n",
        "    'Unique Texts': df['text'].nunique(),\n",
        "    'Average Text Length': df['text_length'].mean(),\n",
        "    'Average Word Count': df['word_count'].mean(),\n",
        "    'Labels': df['label'].nunique(),\n",
        "    'Class Balance': df['label'].value_counts().min() / df['label'].value_counts().max()\n",
        "}\n",
        "\n",
        "for key, value in summary_stats.items():\n",
        "    if isinstance(value, float):\n",
        "        print(f\"{key}: {value:.2f}\")\n",
        "    else:\n",
        "        print(f\"{key}: {value}\")"
      ],
      "metadata": {
        "colab": {
          "base_uri": "https://localhost:8080/"
        },
        "id": "4XhvsdFR6cLY",
        "outputId": "04f78784-825f-4ef2-cafb-4c66624cbc40"
      },
      "execution_count": null,
      "outputs": [
        {
          "output_type": "stream",
          "name": "stdout",
          "text": [
            "\n",
            "=== SUMMARY STATISTICS ===\n",
            "Total Samples: 78538\n",
            "Unique Texts: 68555\n",
            "Average Text Length: 2898.48\n",
            "Average Word Count: 479.71\n",
            "Labels: 2\n",
            "Class Balance: 0.80\n"
          ]
        }
      ]
    },
    {
      "cell_type": "markdown",
      "source": [
        "#Model Building"
      ],
      "metadata": {
        "id": "_HtDsZkBGpAo"
      }
    },
    {
      "cell_type": "markdown",
      "source": [
        "Logistic Regression"
      ],
      "metadata": {
        "id": "YIepEsMEPvpp"
      }
    },
    {
      "cell_type": "code",
      "source": [
        "from sklearn.linear_model import LogisticRegression\n",
        "logreg = LogisticRegression()\n",
        "logreg.fit(X_train_resampled, y_train_resampled)\n",
        "Accuracy = logreg.score(X_test, y_test)\n",
        "print(Accuracy*100)"
      ],
      "metadata": {
        "id": "3mwVMnOFGrLD",
        "colab": {
          "base_uri": "https://localhost:8080/"
        },
        "outputId": "7079e794-7cf5-40a3-8354-012c82e3607c"
      },
      "execution_count": null,
      "outputs": [
        {
          "output_type": "stream",
          "name": "stdout",
          "text": [
            "93.5064935064935\n"
          ]
        }
      ]
    },
    {
      "cell_type": "code",
      "source": [
        "X = \"The French government announced a national day of mourning after the attack, and President Emmanuel Macron expressed solidarity with the victims during a press conference in Paris.\"\n",
        "encoding = tokenizer(\n",
        "    X,\n",
        "    padding='max_length',\n",
        "    truncation=True,\n",
        "    max_length=max_length,\n",
        "    return_tensors='np'\n",
        ")\n",
        "\n",
        "\n",
        "X_transformed = vectorizer.transform([X])\n",
        "\n",
        "prediction_proba_logreg = logreg.predict_proba(X_transformed)\n",
        "\n",
        "probability_true_logreg = prediction_proba_logreg[0][1]\n",
        "\n",
        "if probability_true_logreg >= 0.5:\n",
        "    print(\"This news is True\")\n",
        "else:\n",
        "    print(\"This news is False\")\n"
      ],
      "metadata": {
        "colab": {
          "base_uri": "https://localhost:8080/"
        },
        "id": "sxdEktdEOqLg",
        "outputId": "6fcda285-e609-4ff5-e045-172c81dd3f5a"
      },
      "execution_count": null,
      "outputs": [
        {
          "output_type": "stream",
          "name": "stdout",
          "text": [
            "This news is True\n"
          ]
        }
      ]
    },
    {
      "cell_type": "code",
      "source": [
        "X = \"Aliens have landed in Germany and established a new world order, claims anonymous source from social media.\"\n",
        "encoding = tokenizer(\n",
        "    X,\n",
        "    padding='max_length',\n",
        "    truncation=True,\n",
        "    max_length=max_length,\n",
        "    return_tensors='np'\n",
        ")\n",
        "\n",
        "\n",
        "X_transformed = vectorizer.transform([X])\n",
        "\n",
        "prediction_proba_logreg = logreg.predict_proba(X_transformed)\n",
        "\n",
        "probability_true_logreg = prediction_proba_logreg[0][1]\n",
        "\n",
        "if probability_true_logreg >= 0.5:\n",
        "    print(\"This news is True\")\n",
        "else:\n",
        "    print(\"This news is False\")"
      ],
      "metadata": {
        "colab": {
          "base_uri": "https://localhost:8080/"
        },
        "id": "1hXx8gj17ysL",
        "outputId": "0426d494-3277-4e30-ba80-19344957abf5"
      },
      "execution_count": null,
      "outputs": [
        {
          "output_type": "stream",
          "name": "stdout",
          "text": [
            "This news is False\n"
          ]
        }
      ]
    },
    {
      "cell_type": "markdown",
      "source": [
        "Naive-Bayes"
      ],
      "metadata": {
        "id": "A8jx4KTEPy1o"
      }
    },
    {
      "cell_type": "code",
      "source": [
        "from sklearn.naive_bayes import MultinomialNB\n",
        "NB = MultinomialNB()\n",
        "NB.fit(X_train_resampled, y_train_resampled)\n",
        "Accuracy = NB.score(X_test, y_test)\n",
        "print(Accuracy*100)"
      ],
      "metadata": {
        "colab": {
          "base_uri": "https://localhost:8080/"
        },
        "id": "T_uqnnMgOT1o",
        "outputId": "c207211d-860f-4ea1-c26b-5b9fa43006d5"
      },
      "execution_count": null,
      "outputs": [
        {
          "output_type": "stream",
          "name": "stdout",
          "text": [
            "85.00127323656736\n"
          ]
        }
      ]
    },
    {
      "cell_type": "code",
      "source": [
        "X = \"The French government announced a national day of mourning after the attack, and President Emmanuel Macron expressed solidarity with the victims during a press conference in Paris.\"\n",
        "encoding = tokenizer(\n",
        "    X,\n",
        "    padding='max_length',\n",
        "    truncation=True,\n",
        "    max_length=max_length,\n",
        "    return_tensors='np'\n",
        ")\n",
        "\n",
        "\n",
        "X_transformed = vectorizer.transform([X])\n",
        "\n",
        "prediction_proba_NB = NB.predict_proba(X_transformed)\n",
        "\n",
        "probability_true_NB = prediction_proba_NB[0][1]\n",
        "\n",
        "if probability_true_NB >= 0.5:\n",
        "    print(\"This news is True\")\n",
        "else:\n",
        "    print(\"This news is False\")\n"
      ],
      "metadata": {
        "colab": {
          "base_uri": "https://localhost:8080/"
        },
        "id": "U_6hDOKzvabo",
        "outputId": "b94ab4f4-a7a9-4ce6-e34f-11da152abfc0"
      },
      "execution_count": null,
      "outputs": [
        {
          "output_type": "stream",
          "name": "stdout",
          "text": [
            "This news is True\n"
          ]
        }
      ]
    },
    {
      "cell_type": "code",
      "source": [
        "X = \"Aliens have landed in Germany and established a new world order, claims anonymous source from social media.\"\n",
        "encoding = tokenizer(\n",
        "    X,\n",
        "    padding='max_length',\n",
        "    truncation=True,\n",
        "    max_length=max_length,\n",
        "    return_tensors='np'\n",
        ")\n",
        "\n",
        "\n",
        "X_transformed = vectorizer.transform([X])\n",
        "\n",
        "prediction_proba_NB = NB.predict_proba(X_transformed)\n",
        "\n",
        "probability_true_NB = prediction_proba_NB[0][1]\n",
        "\n",
        "if probability_true_NB >= 0.5:\n",
        "    print(\"This news is True\")\n",
        "else:\n",
        "    print(\"This news is False\")\n"
      ],
      "metadata": {
        "colab": {
          "base_uri": "https://localhost:8080/"
        },
        "id": "QNFFQdKb7-BT",
        "outputId": "66a273f6-4242-421b-aaa5-ac1093cb4fc2"
      },
      "execution_count": null,
      "outputs": [
        {
          "output_type": "stream",
          "name": "stdout",
          "text": [
            "This news is False\n"
          ]
        }
      ]
    },
    {
      "cell_type": "markdown",
      "source": [
        "#CNN + LSTM (Keras)"
      ],
      "metadata": {
        "id": "qh988dA9XLwm"
      }
    },
    {
      "cell_type": "markdown",
      "source": [
        "##Hyperparameter set up"
      ],
      "metadata": {
        "id": "uCfviJ9RGrqY"
      }
    },
    {
      "cell_type": "code",
      "source": [
        "# Cấu hình tham số\n",
        "MAX_VOCAB_SIZE = 20000\n",
        "MAX_SEQUENCE_LENGTH = 200\n",
        "EMBEDDING_DIM = 100\n",
        "BATCH_SIZE = 32\n",
        "EPOCHS = 10"
      ],
      "metadata": {
        "id": "c-y5nItCGt2T"
      },
      "execution_count": null,
      "outputs": []
    },
    {
      "cell_type": "markdown",
      "source": [
        "##Data Preprocessing"
      ],
      "metadata": {
        "id": "aMOMNs5zVh8D"
      }
    },
    {
      "cell_type": "code",
      "source": [
        "# Tokenization cho CNN + LSTM\n",
        "print(\"Đang thực hiện tokenization...\")\n",
        "tokenizer = Tokenizer(num_words=MAX_VOCAB_SIZE, oov_token=\"<OOV>\")\n",
        "tokenizer.fit_on_texts(data['cleaned_text'])"
      ],
      "metadata": {
        "colab": {
          "base_uri": "https://localhost:8080/"
        },
        "id": "AUfqo0QyWU_W",
        "outputId": "fec53b8e-8b47-4cfa-95d6-b2d285a79afd"
      },
      "execution_count": null,
      "outputs": [
        {
          "output_type": "stream",
          "name": "stdout",
          "text": [
            "Đang thực hiện tokenization...\n"
          ]
        }
      ]
    },
    {
      "cell_type": "code",
      "source": [
        "# Chuyển đổi text thành sequences\n",
        "sequences = tokenizer.texts_to_sequences(data['cleaned_text'])\n",
        "X_sequences = pad_sequences(sequences, maxlen=MAX_SEQUENCE_LENGTH, padding='post', truncating='post')\n",
        "y_sequences = data['label'].values\n",
        "\n",
        "print(f\"Vocab size: {len(tokenizer.word_index)}\")\n",
        "print(f\"Shape của X_sequences: {X_sequences.shape}\")"
      ],
      "metadata": {
        "colab": {
          "base_uri": "https://localhost:8080/"
        },
        "id": "oYcwDUBVWWoP",
        "outputId": "cd8fd721-63aa-4186-90fd-f12ab0b5225a"
      },
      "execution_count": null,
      "outputs": [
        {
          "output_type": "stream",
          "name": "stdout",
          "text": [
            "Vocab size: 313703\n",
            "Shape của X_sequences: (78538, 200)\n"
          ]
        }
      ]
    },
    {
      "cell_type": "code",
      "source": [
        "# Chia dữ liệu cho CNN + LSTM\n",
        "X_temp_seq, X_test_seq, y_temp_seq, y_test_seq = train_test_split(\n",
        "    X_sequences, y_sequences, test_size=0.1, random_state=42, stratify=y_sequences\n",
        ")\n",
        "val_size_adjusted = 0.1 / (0.8 + 0.1)\n",
        "X_train_seq, X_val_seq, y_train_seq, y_val_seq = train_test_split(\n",
        "    X_temp_seq, y_temp_seq, test_size=val_size_adjusted, random_state=42, stratify=y_temp_seq\n",
        ")\n",
        "\n",
        "print(\"Kích thước tập dữ liệu cho CNN + LSTM:\")\n",
        "print(f\"Train: {X_train_seq.shape}, Val: {X_val_seq.shape}, Test: {X_test_seq.shape}\")"
      ],
      "metadata": {
        "colab": {
          "base_uri": "https://localhost:8080/"
        },
        "id": "rTO4ThKHWcIf",
        "outputId": "f0c23cb7-8f88-4525-d9aa-521e5e992bcd"
      },
      "execution_count": null,
      "outputs": [
        {
          "output_type": "stream",
          "name": "stdout",
          "text": [
            "Kích thước tập dữ liệu cho CNN + LSTM:\n",
            "Train: (62830, 200), Val: (7854, 200), Test: (7854, 200)\n"
          ]
        }
      ]
    },
    {
      "cell_type": "code",
      "source": [
        "# Xử lý class imbalance với class weights\n",
        "from sklearn.utils.class_weight import compute_class_weight\n",
        "class_weights = compute_class_weight(\n",
        "    'balanced',\n",
        "    classes=np.unique(y_train_seq),\n",
        "    y=y_train_seq\n",
        ")\n",
        "class_weight_dict = {i: class_weights[i] for i in range(len(class_weights))}\n",
        "print(f\"Class weights: {class_weight_dict}\")"
      ],
      "metadata": {
        "colab": {
          "base_uri": "https://localhost:8080/"
        },
        "id": "1QCcDBtTWhEk",
        "outputId": "eca096a9-0cd9-487e-da8a-1a7d95d36746"
      },
      "execution_count": null,
      "outputs": [
        {
          "output_type": "stream",
          "name": "stdout",
          "text": [
            "Class weights: {0: np.float64(0.9007885304659499), 1: np.float64(1.123770345197639)}\n"
          ]
        }
      ]
    },
    {
      "cell_type": "markdown",
      "source": [
        "##Model Training"
      ],
      "metadata": {
        "id": "AHgBKeU-GvR9"
      }
    },
    {
      "cell_type": "code",
      "source": [
        "# Định nghĩa mô hình CNN + LSTM\n",
        "def create_cnn_lstm_model(vocab_size, embedding_dim, max_length):\n",
        "    \"\"\"\n",
        "    Tạo mô hình CNN + LSTM cho phân loại fake news\n",
        "    \"\"\"\n",
        "    model = Sequential()\n",
        "\n",
        "    # Embedding layer\n",
        "    model.add(Embedding(vocab_size, embedding_dim, input_length=max_length, name='embedding'))\n",
        "\n",
        "    # CNN layers\n",
        "    model.add(Conv1D(filters=128, kernel_size=3, activation='relu', name='conv1d_1'))\n",
        "    model.add(MaxPooling1D(pool_size=2, name='maxpool1d_1'))\n",
        "    model.add(Dropout(0.3, name='dropout_1'))\n",
        "\n",
        "    model.add(Conv1D(filters=64, kernel_size=3, activation='relu', name='conv1d_2'))\n",
        "    model.add(MaxPooling1D(pool_size=2, name='maxpool1d_2'))\n",
        "    model.add(Dropout(0.3, name='dropout_2'))\n",
        "\n",
        "    # LSTM layers\n",
        "    model.add(LSTM(100, return_sequences=True, dropout=0.3, recurrent_dropout=0.3, name='lstm_1'))\n",
        "    model.add(LSTM(50, dropout=0.3, recurrent_dropout=0.3, name='lstm_2'))\n",
        "\n",
        "    # Dense layers\n",
        "    model.add(Dense(64, activation='relu', name='dense_1'))\n",
        "    model.add(BatchNormalization(name='batch_norm'))\n",
        "    model.add(Dropout(0.5, name='dropout_3'))\n",
        "    model.add(Dense(32, activation='relu', name='dense_2'))\n",
        "    model.add(Dropout(0.3, name='dropout_4'))\n",
        "\n",
        "    # Output layer\n",
        "    model.add(Dense(1, activation='sigmoid', name='output'))\n",
        "\n",
        "    return model\n",
        "\n",
        "# Tạo và compile model\n",
        "print(\"Đang tạo mô hình CNN + LSTM...\")\n",
        "vocab_size = min(MAX_VOCAB_SIZE, len(tokenizer.word_index) + 1)\n",
        "print(f\"Vocab size được sử dụng: {vocab_size}\")"
      ],
      "metadata": {
        "colab": {
          "base_uri": "https://localhost:8080/"
        },
        "id": "l_yeDW_eWjFO",
        "outputId": "61484ff8-419b-454e-8984-e276aadfcfc1"
      },
      "execution_count": null,
      "outputs": [
        {
          "output_type": "stream",
          "name": "stdout",
          "text": [
            "Đang tạo mô hình CNN + LSTM...\n",
            "Vocab size được sử dụng: 20000\n"
          ]
        }
      ]
    },
    {
      "cell_type": "code",
      "source": [
        "model = create_cnn_lstm_model(\n",
        "    vocab_size=vocab_size,\n",
        "    embedding_dim=EMBEDDING_DIM,\n",
        "    max_length=MAX_SEQUENCE_LENGTH\n",
        ")\n",
        "\n",
        "# Build model bằng cách truyền input shape\n",
        "model.build(input_shape=(None, MAX_SEQUENCE_LENGTH))"
      ],
      "metadata": {
        "colab": {
          "base_uri": "https://localhost:8080/"
        },
        "id": "eqac2oejZEVW",
        "outputId": "dea0f4de-6d02-4fed-c7f8-be62fedf780b"
      },
      "execution_count": null,
      "outputs": [
        {
          "output_type": "stream",
          "name": "stderr",
          "text": [
            "/usr/local/lib/python3.11/dist-packages/keras/src/layers/core/embedding.py:90: UserWarning: Argument `input_length` is deprecated. Just remove it.\n",
            "  warnings.warn(\n"
          ]
        }
      ]
    },
    {
      "cell_type": "code",
      "source": [
        "# Compile model\n",
        "model.compile(\n",
        "    optimizer='adam',\n",
        "    loss='binary_crossentropy',\n",
        "    metrics=['accuracy', 'precision', 'recall']\n",
        ")"
      ],
      "metadata": {
        "id": "tWQDk8G1Wk4r"
      },
      "execution_count": null,
      "outputs": []
    },
    {
      "cell_type": "code",
      "source": [
        "# In thông tin mô hình\n",
        "print(\"\\nKiến trúc mô hình:\")\n",
        "model.summary()"
      ],
      "metadata": {
        "colab": {
          "base_uri": "https://localhost:8080/",
          "height": 645
        },
        "id": "LFviP2FfWkz3",
        "outputId": "6e3d2a9b-1644-478b-9d39-63fb65631add"
      },
      "execution_count": null,
      "outputs": [
        {
          "output_type": "stream",
          "name": "stdout",
          "text": [
            "\n",
            "Kiến trúc mô hình:\n"
          ]
        },
        {
          "output_type": "display_data",
          "data": {
            "text/plain": [
              "\u001b[1mModel: \"sequential\"\u001b[0m\n"
            ],
            "text/html": [
              "<pre style=\"white-space:pre;overflow-x:auto;line-height:normal;font-family:Menlo,'DejaVu Sans Mono',consolas,'Courier New',monospace\"><span style=\"font-weight: bold\">Model: \"sequential\"</span>\n",
              "</pre>\n"
            ]
          },
          "metadata": {}
        },
        {
          "output_type": "display_data",
          "data": {
            "text/plain": [
              "┏━━━━━━━━━━━━━━━━━━━━━━━━━━━━━━━━━┳━━━━━━━━━━━━━━━━━━━━━━━━┳━━━━━━━━━━━━━━━┓\n",
              "┃\u001b[1m \u001b[0m\u001b[1mLayer (type)                   \u001b[0m\u001b[1m \u001b[0m┃\u001b[1m \u001b[0m\u001b[1mOutput Shape          \u001b[0m\u001b[1m \u001b[0m┃\u001b[1m \u001b[0m\u001b[1m      Param #\u001b[0m\u001b[1m \u001b[0m┃\n",
              "┡━━━━━━━━━━━━━━━━━━━━━━━━━━━━━━━━━╇━━━━━━━━━━━━━━━━━━━━━━━━╇━━━━━━━━━━━━━━━┩\n",
              "│ embedding (\u001b[38;5;33mEmbedding\u001b[0m)           │ (\u001b[38;5;45mNone\u001b[0m, \u001b[38;5;34m200\u001b[0m, \u001b[38;5;34m100\u001b[0m)       │     \u001b[38;5;34m2,000,000\u001b[0m │\n",
              "├─────────────────────────────────┼────────────────────────┼───────────────┤\n",
              "│ conv1d_1 (\u001b[38;5;33mConv1D\u001b[0m)               │ (\u001b[38;5;45mNone\u001b[0m, \u001b[38;5;34m198\u001b[0m, \u001b[38;5;34m128\u001b[0m)       │        \u001b[38;5;34m38,528\u001b[0m │\n",
              "├─────────────────────────────────┼────────────────────────┼───────────────┤\n",
              "│ maxpool1d_1 (\u001b[38;5;33mMaxPooling1D\u001b[0m)      │ (\u001b[38;5;45mNone\u001b[0m, \u001b[38;5;34m99\u001b[0m, \u001b[38;5;34m128\u001b[0m)        │             \u001b[38;5;34m0\u001b[0m │\n",
              "├─────────────────────────────────┼────────────────────────┼───────────────┤\n",
              "│ dropout_1 (\u001b[38;5;33mDropout\u001b[0m)             │ (\u001b[38;5;45mNone\u001b[0m, \u001b[38;5;34m99\u001b[0m, \u001b[38;5;34m128\u001b[0m)        │             \u001b[38;5;34m0\u001b[0m │\n",
              "├─────────────────────────────────┼────────────────────────┼───────────────┤\n",
              "│ conv1d_2 (\u001b[38;5;33mConv1D\u001b[0m)               │ (\u001b[38;5;45mNone\u001b[0m, \u001b[38;5;34m97\u001b[0m, \u001b[38;5;34m64\u001b[0m)         │        \u001b[38;5;34m24,640\u001b[0m │\n",
              "├─────────────────────────────────┼────────────────────────┼───────────────┤\n",
              "│ maxpool1d_2 (\u001b[38;5;33mMaxPooling1D\u001b[0m)      │ (\u001b[38;5;45mNone\u001b[0m, \u001b[38;5;34m48\u001b[0m, \u001b[38;5;34m64\u001b[0m)         │             \u001b[38;5;34m0\u001b[0m │\n",
              "├─────────────────────────────────┼────────────────────────┼───────────────┤\n",
              "│ dropout_2 (\u001b[38;5;33mDropout\u001b[0m)             │ (\u001b[38;5;45mNone\u001b[0m, \u001b[38;5;34m48\u001b[0m, \u001b[38;5;34m64\u001b[0m)         │             \u001b[38;5;34m0\u001b[0m │\n",
              "├─────────────────────────────────┼────────────────────────┼───────────────┤\n",
              "│ lstm_1 (\u001b[38;5;33mLSTM\u001b[0m)                   │ (\u001b[38;5;45mNone\u001b[0m, \u001b[38;5;34m48\u001b[0m, \u001b[38;5;34m100\u001b[0m)        │        \u001b[38;5;34m66,000\u001b[0m │\n",
              "├─────────────────────────────────┼────────────────────────┼───────────────┤\n",
              "│ lstm_2 (\u001b[38;5;33mLSTM\u001b[0m)                   │ (\u001b[38;5;45mNone\u001b[0m, \u001b[38;5;34m50\u001b[0m)             │        \u001b[38;5;34m30,200\u001b[0m │\n",
              "├─────────────────────────────────┼────────────────────────┼───────────────┤\n",
              "│ dense_1 (\u001b[38;5;33mDense\u001b[0m)                 │ (\u001b[38;5;45mNone\u001b[0m, \u001b[38;5;34m64\u001b[0m)             │         \u001b[38;5;34m3,264\u001b[0m │\n",
              "├─────────────────────────────────┼────────────────────────┼───────────────┤\n",
              "│ batch_norm (\u001b[38;5;33mBatchNormalization\u001b[0m) │ (\u001b[38;5;45mNone\u001b[0m, \u001b[38;5;34m64\u001b[0m)             │           \u001b[38;5;34m256\u001b[0m │\n",
              "├─────────────────────────────────┼────────────────────────┼───────────────┤\n",
              "│ dropout_3 (\u001b[38;5;33mDropout\u001b[0m)             │ (\u001b[38;5;45mNone\u001b[0m, \u001b[38;5;34m64\u001b[0m)             │             \u001b[38;5;34m0\u001b[0m │\n",
              "├─────────────────────────────────┼────────────────────────┼───────────────┤\n",
              "│ dense_2 (\u001b[38;5;33mDense\u001b[0m)                 │ (\u001b[38;5;45mNone\u001b[0m, \u001b[38;5;34m32\u001b[0m)             │         \u001b[38;5;34m2,080\u001b[0m │\n",
              "├─────────────────────────────────┼────────────────────────┼───────────────┤\n",
              "│ dropout_4 (\u001b[38;5;33mDropout\u001b[0m)             │ (\u001b[38;5;45mNone\u001b[0m, \u001b[38;5;34m32\u001b[0m)             │             \u001b[38;5;34m0\u001b[0m │\n",
              "├─────────────────────────────────┼────────────────────────┼───────────────┤\n",
              "│ output (\u001b[38;5;33mDense\u001b[0m)                  │ (\u001b[38;5;45mNone\u001b[0m, \u001b[38;5;34m1\u001b[0m)              │            \u001b[38;5;34m33\u001b[0m │\n",
              "└─────────────────────────────────┴────────────────────────┴───────────────┘\n"
            ],
            "text/html": [
              "<pre style=\"white-space:pre;overflow-x:auto;line-height:normal;font-family:Menlo,'DejaVu Sans Mono',consolas,'Courier New',monospace\">┏━━━━━━━━━━━━━━━━━━━━━━━━━━━━━━━━━┳━━━━━━━━━━━━━━━━━━━━━━━━┳━━━━━━━━━━━━━━━┓\n",
              "┃<span style=\"font-weight: bold\"> Layer (type)                    </span>┃<span style=\"font-weight: bold\"> Output Shape           </span>┃<span style=\"font-weight: bold\">       Param # </span>┃\n",
              "┡━━━━━━━━━━━━━━━━━━━━━━━━━━━━━━━━━╇━━━━━━━━━━━━━━━━━━━━━━━━╇━━━━━━━━━━━━━━━┩\n",
              "│ embedding (<span style=\"color: #0087ff; text-decoration-color: #0087ff\">Embedding</span>)           │ (<span style=\"color: #00d7ff; text-decoration-color: #00d7ff\">None</span>, <span style=\"color: #00af00; text-decoration-color: #00af00\">200</span>, <span style=\"color: #00af00; text-decoration-color: #00af00\">100</span>)       │     <span style=\"color: #00af00; text-decoration-color: #00af00\">2,000,000</span> │\n",
              "├─────────────────────────────────┼────────────────────────┼───────────────┤\n",
              "│ conv1d_1 (<span style=\"color: #0087ff; text-decoration-color: #0087ff\">Conv1D</span>)               │ (<span style=\"color: #00d7ff; text-decoration-color: #00d7ff\">None</span>, <span style=\"color: #00af00; text-decoration-color: #00af00\">198</span>, <span style=\"color: #00af00; text-decoration-color: #00af00\">128</span>)       │        <span style=\"color: #00af00; text-decoration-color: #00af00\">38,528</span> │\n",
              "├─────────────────────────────────┼────────────────────────┼───────────────┤\n",
              "│ maxpool1d_1 (<span style=\"color: #0087ff; text-decoration-color: #0087ff\">MaxPooling1D</span>)      │ (<span style=\"color: #00d7ff; text-decoration-color: #00d7ff\">None</span>, <span style=\"color: #00af00; text-decoration-color: #00af00\">99</span>, <span style=\"color: #00af00; text-decoration-color: #00af00\">128</span>)        │             <span style=\"color: #00af00; text-decoration-color: #00af00\">0</span> │\n",
              "├─────────────────────────────────┼────────────────────────┼───────────────┤\n",
              "│ dropout_1 (<span style=\"color: #0087ff; text-decoration-color: #0087ff\">Dropout</span>)             │ (<span style=\"color: #00d7ff; text-decoration-color: #00d7ff\">None</span>, <span style=\"color: #00af00; text-decoration-color: #00af00\">99</span>, <span style=\"color: #00af00; text-decoration-color: #00af00\">128</span>)        │             <span style=\"color: #00af00; text-decoration-color: #00af00\">0</span> │\n",
              "├─────────────────────────────────┼────────────────────────┼───────────────┤\n",
              "│ conv1d_2 (<span style=\"color: #0087ff; text-decoration-color: #0087ff\">Conv1D</span>)               │ (<span style=\"color: #00d7ff; text-decoration-color: #00d7ff\">None</span>, <span style=\"color: #00af00; text-decoration-color: #00af00\">97</span>, <span style=\"color: #00af00; text-decoration-color: #00af00\">64</span>)         │        <span style=\"color: #00af00; text-decoration-color: #00af00\">24,640</span> │\n",
              "├─────────────────────────────────┼────────────────────────┼───────────────┤\n",
              "│ maxpool1d_2 (<span style=\"color: #0087ff; text-decoration-color: #0087ff\">MaxPooling1D</span>)      │ (<span style=\"color: #00d7ff; text-decoration-color: #00d7ff\">None</span>, <span style=\"color: #00af00; text-decoration-color: #00af00\">48</span>, <span style=\"color: #00af00; text-decoration-color: #00af00\">64</span>)         │             <span style=\"color: #00af00; text-decoration-color: #00af00\">0</span> │\n",
              "├─────────────────────────────────┼────────────────────────┼───────────────┤\n",
              "│ dropout_2 (<span style=\"color: #0087ff; text-decoration-color: #0087ff\">Dropout</span>)             │ (<span style=\"color: #00d7ff; text-decoration-color: #00d7ff\">None</span>, <span style=\"color: #00af00; text-decoration-color: #00af00\">48</span>, <span style=\"color: #00af00; text-decoration-color: #00af00\">64</span>)         │             <span style=\"color: #00af00; text-decoration-color: #00af00\">0</span> │\n",
              "├─────────────────────────────────┼────────────────────────┼───────────────┤\n",
              "│ lstm_1 (<span style=\"color: #0087ff; text-decoration-color: #0087ff\">LSTM</span>)                   │ (<span style=\"color: #00d7ff; text-decoration-color: #00d7ff\">None</span>, <span style=\"color: #00af00; text-decoration-color: #00af00\">48</span>, <span style=\"color: #00af00; text-decoration-color: #00af00\">100</span>)        │        <span style=\"color: #00af00; text-decoration-color: #00af00\">66,000</span> │\n",
              "├─────────────────────────────────┼────────────────────────┼───────────────┤\n",
              "│ lstm_2 (<span style=\"color: #0087ff; text-decoration-color: #0087ff\">LSTM</span>)                   │ (<span style=\"color: #00d7ff; text-decoration-color: #00d7ff\">None</span>, <span style=\"color: #00af00; text-decoration-color: #00af00\">50</span>)             │        <span style=\"color: #00af00; text-decoration-color: #00af00\">30,200</span> │\n",
              "├─────────────────────────────────┼────────────────────────┼───────────────┤\n",
              "│ dense_1 (<span style=\"color: #0087ff; text-decoration-color: #0087ff\">Dense</span>)                 │ (<span style=\"color: #00d7ff; text-decoration-color: #00d7ff\">None</span>, <span style=\"color: #00af00; text-decoration-color: #00af00\">64</span>)             │         <span style=\"color: #00af00; text-decoration-color: #00af00\">3,264</span> │\n",
              "├─────────────────────────────────┼────────────────────────┼───────────────┤\n",
              "│ batch_norm (<span style=\"color: #0087ff; text-decoration-color: #0087ff\">BatchNormalization</span>) │ (<span style=\"color: #00d7ff; text-decoration-color: #00d7ff\">None</span>, <span style=\"color: #00af00; text-decoration-color: #00af00\">64</span>)             │           <span style=\"color: #00af00; text-decoration-color: #00af00\">256</span> │\n",
              "├─────────────────────────────────┼────────────────────────┼───────────────┤\n",
              "│ dropout_3 (<span style=\"color: #0087ff; text-decoration-color: #0087ff\">Dropout</span>)             │ (<span style=\"color: #00d7ff; text-decoration-color: #00d7ff\">None</span>, <span style=\"color: #00af00; text-decoration-color: #00af00\">64</span>)             │             <span style=\"color: #00af00; text-decoration-color: #00af00\">0</span> │\n",
              "├─────────────────────────────────┼────────────────────────┼───────────────┤\n",
              "│ dense_2 (<span style=\"color: #0087ff; text-decoration-color: #0087ff\">Dense</span>)                 │ (<span style=\"color: #00d7ff; text-decoration-color: #00d7ff\">None</span>, <span style=\"color: #00af00; text-decoration-color: #00af00\">32</span>)             │         <span style=\"color: #00af00; text-decoration-color: #00af00\">2,080</span> │\n",
              "├─────────────────────────────────┼────────────────────────┼───────────────┤\n",
              "│ dropout_4 (<span style=\"color: #0087ff; text-decoration-color: #0087ff\">Dropout</span>)             │ (<span style=\"color: #00d7ff; text-decoration-color: #00d7ff\">None</span>, <span style=\"color: #00af00; text-decoration-color: #00af00\">32</span>)             │             <span style=\"color: #00af00; text-decoration-color: #00af00\">0</span> │\n",
              "├─────────────────────────────────┼────────────────────────┼───────────────┤\n",
              "│ output (<span style=\"color: #0087ff; text-decoration-color: #0087ff\">Dense</span>)                  │ (<span style=\"color: #00d7ff; text-decoration-color: #00d7ff\">None</span>, <span style=\"color: #00af00; text-decoration-color: #00af00\">1</span>)              │            <span style=\"color: #00af00; text-decoration-color: #00af00\">33</span> │\n",
              "└─────────────────────────────────┴────────────────────────┴───────────────┘\n",
              "</pre>\n"
            ]
          },
          "metadata": {}
        },
        {
          "output_type": "display_data",
          "data": {
            "text/plain": [
              "\u001b[1m Total params: \u001b[0m\u001b[38;5;34m2,165,001\u001b[0m (8.26 MB)\n"
            ],
            "text/html": [
              "<pre style=\"white-space:pre;overflow-x:auto;line-height:normal;font-family:Menlo,'DejaVu Sans Mono',consolas,'Courier New',monospace\"><span style=\"font-weight: bold\"> Total params: </span><span style=\"color: #00af00; text-decoration-color: #00af00\">2,165,001</span> (8.26 MB)\n",
              "</pre>\n"
            ]
          },
          "metadata": {}
        },
        {
          "output_type": "display_data",
          "data": {
            "text/plain": [
              "\u001b[1m Trainable params: \u001b[0m\u001b[38;5;34m2,164,873\u001b[0m (8.26 MB)\n"
            ],
            "text/html": [
              "<pre style=\"white-space:pre;overflow-x:auto;line-height:normal;font-family:Menlo,'DejaVu Sans Mono',consolas,'Courier New',monospace\"><span style=\"font-weight: bold\"> Trainable params: </span><span style=\"color: #00af00; text-decoration-color: #00af00\">2,164,873</span> (8.26 MB)\n",
              "</pre>\n"
            ]
          },
          "metadata": {}
        },
        {
          "output_type": "display_data",
          "data": {
            "text/plain": [
              "\u001b[1m Non-trainable params: \u001b[0m\u001b[38;5;34m128\u001b[0m (512.00 B)\n"
            ],
            "text/html": [
              "<pre style=\"white-space:pre;overflow-x:auto;line-height:normal;font-family:Menlo,'DejaVu Sans Mono',consolas,'Courier New',monospace\"><span style=\"font-weight: bold\"> Non-trainable params: </span><span style=\"color: #00af00; text-decoration-color: #00af00\">128</span> (512.00 B)\n",
              "</pre>\n"
            ]
          },
          "metadata": {}
        }
      ]
    },
    {
      "cell_type": "code",
      "source": [
        "# Callbacks\n",
        "early_stopping = EarlyStopping(\n",
        "    monitor='val_loss',\n",
        "    patience=5,\n",
        "    restore_best_weights=True,\n",
        "    verbose=1\n",
        ")\n",
        "\n",
        "reduce_lr = ReduceLROnPlateau(\n",
        "    monitor='val_loss',\n",
        "    factor=0.5,\n",
        "    patience=3,\n",
        "    min_lr=1e-7,\n",
        "    verbose=1\n",
        ")"
      ],
      "metadata": {
        "id": "ZSfpAJtgWph9"
      },
      "execution_count": null,
      "outputs": []
    },
    {
      "cell_type": "code",
      "source": [
        "# Training\n",
        "print(\"\\nBắt đầu training...\")\n",
        "history = model.fit(\n",
        "    X_train_seq, y_train_seq,\n",
        "    batch_size=BATCH_SIZE,\n",
        "    epochs=EPOCHS,\n",
        "    validation_data=(X_val_seq, y_val_seq),\n",
        "    class_weight=class_weight_dict,\n",
        "    callbacks=[early_stopping, reduce_lr],\n",
        "    verbose=1\n",
        ")"
      ],
      "metadata": {
        "colab": {
          "base_uri": "https://localhost:8080/"
        },
        "id": "EG-CFdtsWpxk",
        "outputId": "58e9c1df-bbd4-46b5-a317-03d9b116de8f"
      },
      "execution_count": null,
      "outputs": [
        {
          "output_type": "stream",
          "name": "stdout",
          "text": [
            "\n",
            "Bắt đầu training...\n",
            "Epoch 1/10\n",
            "\u001b[1m1964/1964\u001b[0m \u001b[32m━━━━━━━━━━━━━━━━━━━━\u001b[0m\u001b[37m\u001b[0m \u001b[1m730s\u001b[0m 365ms/step - accuracy: 0.7454 - loss: 0.4841 - precision: 0.7062 - recall: 0.7447 - val_accuracy: 0.9242 - val_loss: 0.2077 - val_precision: 0.9021 - val_recall: 0.9308 - learning_rate: 0.0010\n",
            "Epoch 2/10\n",
            "\u001b[1m1964/1964\u001b[0m \u001b[32m━━━━━━━━━━━━━━━━━━━━\u001b[0m\u001b[37m\u001b[0m \u001b[1m708s\u001b[0m 351ms/step - accuracy: 0.9354 - loss: 0.1906 - precision: 0.9271 - recall: 0.9277 - val_accuracy: 0.9481 - val_loss: 0.1490 - val_precision: 0.9317 - val_recall: 0.9531 - learning_rate: 0.0010\n",
            "Epoch 3/10\n",
            "\u001b[1m1964/1964\u001b[0m \u001b[32m━━━━━━━━━━━━━━━━━━━━\u001b[0m\u001b[37m\u001b[0m \u001b[1m745s\u001b[0m 352ms/step - accuracy: 0.9684 - loss: 0.1020 - precision: 0.9617 - recall: 0.9669 - val_accuracy: 0.9410 - val_loss: 0.1963 - val_precision: 0.9021 - val_recall: 0.9731 - learning_rate: 0.0010\n",
            "Epoch 4/10\n",
            "\u001b[1m1964/1964\u001b[0m \u001b[32m━━━━━━━━━━━━━━━━━━━━\u001b[0m\u001b[37m\u001b[0m \u001b[1m741s\u001b[0m 352ms/step - accuracy: 0.9803 - loss: 0.0655 - precision: 0.9768 - recall: 0.9789 - val_accuracy: 0.9523 - val_loss: 0.1632 - val_precision: 0.9462 - val_recall: 0.9465 - learning_rate: 0.0010\n",
            "Epoch 5/10\n",
            "\u001b[1m1964/1964\u001b[0m \u001b[32m━━━━━━━━━━━━━━━━━━━━\u001b[0m\u001b[37m\u001b[0m \u001b[1m0s\u001b[0m 345ms/step - accuracy: 0.9881 - loss: 0.0396 - precision: 0.9866 - recall: 0.9866\n",
            "Epoch 5: ReduceLROnPlateau reducing learning rate to 0.0005000000237487257.\n",
            "\u001b[1m1964/1964\u001b[0m \u001b[32m━━━━━━━━━━━━━━━━━━━━\u001b[0m\u001b[37m\u001b[0m \u001b[1m748s\u001b[0m 355ms/step - accuracy: 0.9881 - loss: 0.0396 - precision: 0.9866 - recall: 0.9866 - val_accuracy: 0.9530 - val_loss: 0.1848 - val_precision: 0.9586 - val_recall: 0.9348 - learning_rate: 0.0010\n",
            "Epoch 6/10\n",
            "\u001b[1m1964/1964\u001b[0m \u001b[32m━━━━━━━━━━━━━━━━━━━━\u001b[0m\u001b[37m\u001b[0m \u001b[1m735s\u001b[0m 352ms/step - accuracy: 0.9937 - loss: 0.0238 - precision: 0.9932 - recall: 0.9927 - val_accuracy: 0.9571 - val_loss: 0.2021 - val_precision: 0.9564 - val_recall: 0.9468 - learning_rate: 5.0000e-04\n",
            "Epoch 7/10\n",
            "\u001b[1m1964/1964\u001b[0m \u001b[32m━━━━━━━━━━━━━━━━━━━━\u001b[0m\u001b[37m\u001b[0m \u001b[1m693s\u001b[0m 353ms/step - accuracy: 0.9968 - loss: 0.0129 - precision: 0.9968 - recall: 0.9960 - val_accuracy: 0.9549 - val_loss: 0.2597 - val_precision: 0.9585 - val_recall: 0.9393 - learning_rate: 5.0000e-04\n",
            "Epoch 7: early stopping\n",
            "Restoring model weights from the end of the best epoch: 2.\n"
          ]
        }
      ]
    },
    {
      "cell_type": "code",
      "source": [
        "# Đánh giá mô hình\n",
        "print(\"\\n\" + \"=\"*50)\n",
        "print(\"ĐÁNH GIÁ MÔ HÌNH CNN + LSTM\")\n",
        "print(\"=\"*50)"
      ],
      "metadata": {
        "colab": {
          "base_uri": "https://localhost:8080/"
        },
        "id": "zY_5C7GFWrhp",
        "outputId": "b23003f6-d43d-478b-d991-66e5625c7577"
      },
      "execution_count": null,
      "outputs": [
        {
          "output_type": "stream",
          "name": "stdout",
          "text": [
            "\n",
            "==================================================\n",
            "ĐÁNH GIÁ MÔ HÌNH CNN + LSTM\n",
            "==================================================\n"
          ]
        }
      ]
    },
    {
      "cell_type": "code",
      "source": [
        "# Dự đoán trên tập test\n",
        "test_predictions = model.predict(X_test_seq)\n",
        "test_pred_binary = (test_predictions > 0.5).astype(int).flatten()"
      ],
      "metadata": {
        "colab": {
          "base_uri": "https://localhost:8080/"
        },
        "id": "dRcUyBlnWvYu",
        "outputId": "605224ba-8c36-4a92-e958-c2167c9bcade"
      },
      "execution_count": null,
      "outputs": [
        {
          "output_type": "stream",
          "name": "stdout",
          "text": [
            "\u001b[1m246/246\u001b[0m \u001b[32m━━━━━━━━━━━━━━━━━━━━\u001b[0m\u001b[37m\u001b[0m \u001b[1m16s\u001b[0m 62ms/step\n"
          ]
        }
      ]
    },
    {
      "cell_type": "markdown",
      "source": [
        "##Performance Evaluation"
      ],
      "metadata": {
        "id": "ohHSKmOeG9Fg"
      }
    },
    {
      "cell_type": "code",
      "source": [
        "# Tính toán metrics\n",
        "test_loss, test_accuracy, test_precision, test_recall = model.evaluate(X_test_seq, y_test_seq, verbose=0)\n",
        "f1_score = 2 * (test_precision * test_recall) / (test_precision + test_recall)\n",
        "\n",
        "print(f\"Test Accuracy: {test_accuracy:.4f}\")\n",
        "print(f\"Test Precision: {test_precision:.4f}\")\n",
        "print(f\"Test Recall: {test_recall:.4f}\")\n",
        "print(f\"Test F1-Score: {f1_score:.4f}\")\n",
        "\n",
        "# Classification report\n",
        "print(\"\\nClassification Report:\")\n",
        "print(classification_report(y_test_seq, test_pred_binary, target_names=['Fake', 'Real']))"
      ],
      "metadata": {
        "colab": {
          "base_uri": "https://localhost:8080/"
        },
        "id": "wqO8csiIWz_E",
        "outputId": "38f36d2d-bed4-4a4a-a781-c114f8b1aa8d"
      },
      "execution_count": null,
      "outputs": [
        {
          "output_type": "stream",
          "name": "stdout",
          "text": [
            "Test Accuracy: 0.9481\n",
            "Test Precision: 0.9303\n",
            "Test Recall: 0.9548\n",
            "Test F1-Score: 0.9424\n",
            "\n",
            "Classification Report:\n",
            "              precision    recall  f1-score   support\n",
            "\n",
            "        Fake       0.96      0.94      0.95      4360\n",
            "        Real       0.93      0.95      0.94      3494\n",
            "\n",
            "    accuracy                           0.95      7854\n",
            "   macro avg       0.95      0.95      0.95      7854\n",
            "weighted avg       0.95      0.95      0.95      7854\n",
            "\n"
          ]
        }
      ]
    },
    {
      "cell_type": "code",
      "source": [
        "# Confusion Matrix\n",
        "cm = confusion_matrix(y_test_seq, test_pred_binary)\n",
        "plt.figure(figsize=(8, 6))\n",
        "sns.heatmap(cm, annot=True, fmt='d', cmap='Blues', xticklabels=['Fake', 'Real'], yticklabels=['Fake', 'Real'])\n",
        "plt.title('Confusion Matrix - CNN + LSTM')\n",
        "plt.xlabel('Predicted')\n",
        "plt.ylabel('Actual')\n",
        "plt.show()"
      ],
      "metadata": {
        "colab": {
          "base_uri": "https://localhost:8080/",
          "height": 564
        },
        "id": "SBg7sDSHW1_Q",
        "outputId": "8eaea3b2-f561-4360-f3e3-62b7c8b3dff7"
      },
      "execution_count": null,
      "outputs": [
        {
          "output_type": "display_data",
          "data": {
            "text/plain": [
              "<Figure size 800x600 with 2 Axes>"
            ],
            "image/png": "[encoded data removed]"
          },
          "metadata": {}
        }
      ]
    },
    {
      "cell_type": "code",
      "source": [
        "# Vẽ biểu đồ training history\n",
        "def plot_training_history(history):\n",
        "    \"\"\"Vẽ biểu đồ quá trình training\"\"\"\n",
        "    fig, axes = plt.subplots(2, 2, figsize=(15, 10))\n",
        "\n",
        "    # Accuracy\n",
        "    axes[0, 0].plot(history.history['accuracy'], label='Train Accuracy')\n",
        "    axes[0, 0].plot(history.history['val_accuracy'], label='Val Accuracy')\n",
        "    axes[0, 0].set_title('Model Accuracy')\n",
        "    axes[0, 0].set_xlabel('Epoch')\n",
        "    axes[0, 0].set_ylabel('Accuracy')\n",
        "    axes[0, 0].legend()\n",
        "    axes[0, 0].grid(True)\n",
        "\n",
        "    # Loss\n",
        "    axes[0, 1].plot(history.history['loss'], label='Train Loss')\n",
        "    axes[0, 1].plot(history.history['val_loss'], label='Val Loss')\n",
        "    axes[0, 1].set_title('Model Loss')\n",
        "    axes[0, 1].set_xlabel('Epoch')\n",
        "    axes[0, 1].set_ylabel('Loss')\n",
        "    axes[0, 1].legend()\n",
        "    axes[0, 1].grid(True)\n",
        "\n",
        "    # Precision\n",
        "    axes[1, 0].plot(history.history['precision'], label='Train Precision')\n",
        "    axes[1, 0].plot(history.history['val_precision'], label='Val Precision')\n",
        "    axes[1, 0].set_title('Model Precision')\n",
        "    axes[1, 0].set_xlabel('Epoch')\n",
        "    axes[1, 0].set_ylabel('Precision')\n",
        "    axes[1, 0].legend()\n",
        "    axes[1, 0].grid(True)\n",
        "\n",
        "    # Recall\n",
        "    axes[1, 1].plot(history.history['recall'], label='Train Recall')\n",
        "    axes[1, 1].plot(history.history['val_recall'], label='Val Recall')\n",
        "    axes[1, 1].set_title('Model Recall')\n",
        "    axes[1, 1].set_xlabel('Epoch')\n",
        "    axes[1, 1].set_ylabel('Recall')\n",
        "    axes[1, 1].legend()\n",
        "    axes[1, 1].grid(True)\n",
        "\n",
        "    plt.tight_layout()\n",
        "    plt.show()\n",
        "\n",
        "plot_training_history(history)"
      ],
      "metadata": {
        "id": "zTkiCIRKW5xt",
        "colab": {
          "base_uri": "https://localhost:8080/",
          "height": 951
        },
        "outputId": "22095165-5bfe-490c-a1a1-82ebf0e5d811"
      },
      "execution_count": null,
      "outputs": [
        {
          "output_type": "display_data",
          "data": {
            "text/plain": [
              "<Figure size 1500x1000 with 4 Axes>"
            ],
            "image/png": "[encoded data removed]"
          },
          "metadata": {}
        }
      ]
    },
    {
      "cell_type": "code",
      "source": [
        "def predict_news(text, model, tokenizer, max_length=MAX_SEQUENCE_LENGTH):\n",
        "    \"\"\"\n",
        "    Dự đoán một bài báo là thật hay giả\n",
        "    \"\"\"\n",
        "    text = text.lower()\n",
        "    text = re.sub(r'[^a-zA-Z\\s]', '', text)\n",
        "    text = re.sub(r'\\s+', ' ', text).strip()\n",
        "    tokens = word_tokenize(text)\n",
        "    tokens = [word for word in tokens if word not in stop_words]\n",
        "    tokens = [lemmatizer.lemmatize(word) for word in tokens]\n",
        "    cleaned_text = ' '.join(tokens)\n",
        "\n",
        "    # Tokenize và padding\n",
        "    sequence = tokenizer.texts_to_sequences([cleaned_text])\n",
        "    padded_sequence = pad_sequences(sequence, maxlen=max_length, padding='post', truncating='post')\n",
        "\n",
        "    # Dự đoán\n",
        "    prediction = model.predict(padded_sequence)[0][0]\n",
        "\n",
        "    return {\n",
        "        'prediction': prediction,\n",
        "        'label': 'Real' if prediction > 0.5 else 'Fake',\n",
        "        'confidence': prediction if prediction > 0.5 else 1 - prediction\n",
        "    }\n"
      ],
      "metadata": {
        "id": "ZIINSiGDW8Eo"
      },
      "execution_count": null,
      "outputs": []
    },
    {
      "cell_type": "code",
      "source": [
        "sample_text = \"Breaking news: Scientists discover new planet in our solar system\"\n",
        "result = predict_news(sample_text, model, tokenizer)\n",
        "print(f\"\\nVí dụ dự đoán:\")\n",
        "print(f\"Text: {sample_text}\")\n",
        "print(f\"Prediction: {result['label']} (confidence: {result['confidence']:.4f})\")\n"
      ],
      "metadata": {
        "id": "erk00An9W8j2",
        "colab": {
          "base_uri": "https://localhost:8080/"
        },
        "outputId": "d77f164e-8bf2-4261-bc5d-bdf1c53e357e"
      },
      "execution_count": null,
      "outputs": [
        {
          "output_type": "stream",
          "name": "stdout",
          "text": [
            "\u001b[1m1/1\u001b[0m \u001b[32m━━━━━━━━━━━━━━━━━━━━\u001b[0m\u001b[37m\u001b[0m \u001b[1m0s\u001b[0m 125ms/step\n",
            "\n",
            "Ví dụ dự đoán:\n",
            "Text: Breaking news: Scientists discover new planet in our solar system\n",
            "Prediction: Fake (confidence: 0.9917)\n"
          ]
        }
      ]
    },
    {
      "cell_type": "code",
      "source": [
        "# Lưu model\n",
        "model.save('cnn_lstm_fake_news_model.h5')\n",
        "print(\"\\nMô hình đã được lưu vào 'cnn_lstm_fake_news_model.h5'\")"
      ],
      "metadata": {
        "id": "lg157b5nW_1D",
        "colab": {
          "base_uri": "https://localhost:8080/"
        },
        "outputId": "45f40992-b676-4d6f-c7c6-67f8d8b7df20"
      },
      "execution_count": null,
      "outputs": [
        {
          "output_type": "stream",
          "name": "stderr",
          "text": [
            "WARNING:absl:You are saving your model as an HDF5 file via `model.save()` or `keras.saving.save_model(model)`. This file format is considered legacy. We recommend using instead the native Keras format, e.g. `model.save('my_model.keras')` or `keras.saving.save_model(model, 'my_model.keras')`. \n"
          ]
        },
        {
          "output_type": "stream",
          "name": "stdout",
          "text": [
            "\n",
            "Mô hình đã được lưu vào 'cnn_lstm_fake_news_model.h5'\n"
          ]
        }
      ]
    },
    {
      "cell_type": "code",
      "source": [
        "import pickle\n",
        "with open('tokenizer.pkl', 'wb') as f:\n",
        "    pickle.dump(tokenizer, f)\n",
        "print(\"Tokenizer đã được lưu vào 'tokenizer.pkl'\")\n",
        "\n",
        "print(\"\\n\" + \"=\"*50)\n"
      ],
      "metadata": {
        "id": "hjLzcWZZXD0j",
        "colab": {
          "base_uri": "https://localhost:8080/"
        },
        "outputId": "c0acb1be-0868-4e08-a8a2-93221016bbd3"
      },
      "execution_count": null,
      "outputs": [
        {
          "output_type": "stream",
          "name": "stdout",
          "text": [
            "Tokenizer đã được lưu vào 'tokenizer.pkl'\n",
            "\n",
            "==================================================\n"
          ]
        }
      ]
    },
    {
      "cell_type": "markdown",
      "source": [
        "#BERT"
      ],
      "metadata": {
        "id": "JfLTLpASLFwJ"
      }
    },
    {
      "cell_type": "code",
      "source": [
        "# Thiết lập device\n",
        "device = torch.device('cuda' if torch.cuda.is_available() else 'cpu')\n",
        "print(f\"Using device: {device}\")"
      ],
      "metadata": {
        "colab": {
          "base_uri": "https://localhost:8080/"
        },
        "id": "3AI1OVXKLI22",
        "outputId": "d0a464c8-3c0b-49b2-82f6-555c8fdecd4d"
      },
      "execution_count": null,
      "outputs": [
        {
          "output_type": "stream",
          "name": "stdout",
          "text": [
            "Using device: cuda\n"
          ]
        }
      ]
    },
    {
      "cell_type": "code",
      "source": [
        "# 1. Tạo Dataset class cho BERT\n",
        "class FakeNewsDataset(Dataset):\n",
        "    def __init__(self, input_ids, attention_masks, labels):\n",
        "        self.input_ids = input_ids\n",
        "        self.attention_masks = attention_masks\n",
        "        self.labels = labels\n",
        "\n",
        "    def __len__(self):\n",
        "        return len(self.input_ids)\n",
        "\n",
        "    def __getitem__(self, idx):\n",
        "        return {\n",
        "            'input_ids': torch.tensor(self.input_ids[idx], dtype=torch.long),\n",
        "            'attention_mask': torch.tensor(self.attention_masks[idx], dtype=torch.long),\n",
        "            'labels': torch.tensor(self.labels[idx], dtype=torch.long)\n",
        "        }\n"
      ],
      "metadata": {
        "id": "rZrh8pFGLPdc"
      },
      "execution_count": null,
      "outputs": []
    },
    {
      "cell_type": "code",
      "source": [
        "# 2. Chia dữ liệu cho BERT\n",
        "from sklearn.model_selection import train_test_split\n",
        "\n",
        "# Chia dữ liệu với tỷ lệ 80:10:10\n",
        "X_temp_ids, X_test_ids, X_temp_masks, X_test_masks, y_temp_bert, y_test_bert = train_test_split(\n",
        "    input_ids, attention_masks, y_bert, test_size=0.1, random_state=42, stratify=y_bert\n",
        ")\n",
        "\n",
        "val_size_adjusted = 0.1 / (0.8 + 0.1)\n",
        "X_train_ids, X_val_ids, X_train_masks, X_val_masks, y_train_bert, y_val_bert = train_test_split(\n",
        "    X_temp_ids, X_temp_masks, y_temp_bert, test_size=val_size_adjusted, random_state=42, stratify=y_temp_bert\n",
        ")\n",
        "\n",
        "print(\"Kích thước dữ liệu BERT:\")\n",
        "print(f\"Train: {X_train_ids.shape[0]}\")\n",
        "print(f\"Validation: {X_val_ids.shape[0]}\")\n",
        "print(f\"Test: {X_test_ids.shape[0]}\")"
      ],
      "metadata": {
        "colab": {
          "base_uri": "https://localhost:8080/"
        },
        "id": "J--8PNbHLuM1",
        "outputId": "4e3e8422-50e4-4ad8-fd25-82d4e1005a51"
      },
      "execution_count": null,
      "outputs": [
        {
          "output_type": "stream",
          "name": "stdout",
          "text": [
            "Kích thước dữ liệu BERT:\n",
            "Train: 62830\n",
            "Validation: 7854\n",
            "Test: 7854\n"
          ]
        }
      ]
    },
    {
      "cell_type": "code",
      "source": [
        "# 3. Tạo DataLoader\n",
        "batch_size = 16\n",
        "\n",
        "train_dataset = FakeNewsDataset(X_train_ids, X_train_masks, y_train_bert)\n",
        "val_dataset = FakeNewsDataset(X_val_ids, X_val_masks, y_val_bert)\n",
        "test_dataset = FakeNewsDataset(X_test_ids, X_test_masks, y_test_bert)\n",
        "\n",
        "train_loader = DataLoader(train_dataset, batch_size=batch_size, shuffle=True)\n",
        "val_loader = DataLoader(val_dataset, batch_size=batch_size, shuffle=False)\n",
        "test_loader = DataLoader(test_dataset, batch_size=batch_size, shuffle=False)\n"
      ],
      "metadata": {
        "id": "h36YhsBHLwkN"
      },
      "execution_count": null,
      "outputs": []
    },
    {
      "cell_type": "code",
      "source": [
        "# 4. Định nghĩa mô hình BERT\n",
        "class BertForFakeNews(nn.Module):\n",
        "    def __init__(self, model_name='bert-base-uncased', num_classes=2, dropout_rate=0.4):\n",
        "        super(BertForFakeNews, self).__init__()\n",
        "        self.bert = AutoModel.from_pretrained(model_name)\n",
        "        self.dropout = nn.Dropout(dropout_rate)\n",
        "        self.classifier = nn.Linear(self.bert.config.hidden_size, num_classes)\n",
        "\n",
        "    def forward(self, input_ids, attention_mask):\n",
        "        outputs = self.bert(input_ids=input_ids, attention_mask=attention_mask)\n",
        "        pooled_output = outputs.pooler_output\n",
        "        pooled_output = self.dropout(pooled_output)\n",
        "        logits = self.classifier(pooled_output)\n",
        "        return logits\n"
      ],
      "metadata": {
        "id": "T7VTAFoKL2re"
      },
      "execution_count": null,
      "outputs": []
    },
    {
      "cell_type": "code",
      "source": [
        "# 5. Khởi tạo mô hình\n",
        "model = BertForFakeNews()\n",
        "model.to(device)"
      ],
      "metadata": {
        "colab": {
          "base_uri": "https://localhost:8080/",
          "height": 866,
          "referenced_widgets": [
            "de47780800954ada9362077b473b6baf",
            "ddc84ab54f734b3e902c17793680af2a",
            "a8d664018330424985870792e568be45",
            "20d9372de75c44d9b92d3281c36424d4",
            "63987ed9aab74d6888f2b7ae40ba4be0",
            "fcccd831bd854570811bd8c261eae7fa",
            "4d48af4920824dc3830304a2f9a30e36",
            "bba7a78a007f4c6b96baf9f4506cb33e",
            "550d9114dc0b467884eef0cf3dd9f96b",
            "90a880c8408340b69217e565b7b5bb51",
            "28fa755bda54435eb4339ad7781582b5"
          ]
        },
        "id": "_ug3bA0NL6gZ",
        "outputId": "3bd1ad52-c77c-4c2f-a444-2cba0be9a8c1"
      },
      "execution_count": null,
      "outputs": [
        {
          "output_type": "display_data",
          "data": {
            "text/plain": [
              "model.safetensors:   0%|          | 0.00/440M [00:00<?, ?B/s]"
            ],
            "application/vnd.jupyter.widget-view+json": {
              "version_major": 2,
              "version_minor": 0,
              "model_id": "de47780800954ada9362077b473b6baf"
            }
          },
          "metadata": {}
        },
        {
          "output_type": "execute_result",
          "data": {
            "text/plain": [
              "BertForFakeNews(\n",
              "  (bert): BertModel(\n",
              "    (embeddings): BertEmbeddings(\n",
              "      (word_embeddings): Embedding(30522, 768, padding_idx=0)\n",
              "      (position_embeddings): Embedding(512, 768)\n",
              "      (token_type_embeddings): Embedding(2, 768)\n",
              "      (LayerNorm): LayerNorm((768,), eps=1e-12, elementwise_affine=True)\n",
              "      (dropout): Dropout(p=0.1, inplace=False)\n",
              "    )\n",
              "    (encoder): BertEncoder(\n",
              "      (layer): ModuleList(\n",
              "        (0-11): 12 x BertLayer(\n",
              "          (attention): BertAttention(\n",
              "            (self): BertSdpaSelfAttention(\n",
              "              (query): Linear(in_features=768, out_features=768, bias=True)\n",
              "              (key): Linear(in_features=768, out_features=768, bias=True)\n",
              "              (value): Linear(in_features=768, out_features=768, bias=True)\n",
              "              (dropout): Dropout(p=0.1, inplace=False)\n",
              "            )\n",
              "            (output): BertSelfOutput(\n",
              "              (dense): Linear(in_features=768, out_features=768, bias=True)\n",
              "              (LayerNorm): LayerNorm((768,), eps=1e-12, elementwise_affine=True)\n",
              "              (dropout): Dropout(p=0.1, inplace=False)\n",
              "            )\n",
              "          )\n",
              "          (intermediate): BertIntermediate(\n",
              "            (dense): Linear(in_features=768, out_features=3072, bias=True)\n",
              "            (intermediate_act_fn): GELUActivation()\n",
              "          )\n",
              "          (output): BertOutput(\n",
              "            (dense): Linear(in_features=3072, out_features=768, bias=True)\n",
              "            (LayerNorm): LayerNorm((768,), eps=1e-12, elementwise_affine=True)\n",
              "            (dropout): Dropout(p=0.1, inplace=False)\n",
              "          )\n",
              "        )\n",
              "      )\n",
              "    )\n",
              "    (pooler): BertPooler(\n",
              "      (dense): Linear(in_features=768, out_features=768, bias=True)\n",
              "      (activation): Tanh()\n",
              "    )\n",
              "  )\n",
              "  (dropout): Dropout(p=0.4, inplace=False)\n",
              "  (classifier): Linear(in_features=768, out_features=2, bias=True)\n",
              ")"
            ]
          },
          "metadata": {},
          "execution_count": 22
        }
      ]
    },
    {
      "cell_type": "code",
      "source": [
        "# 6. Thiết lập optimizer và scheduler\n",
        "epochs = 10\n",
        "learning_rate = 1e-5\n",
        "warmup_steps = 0\n",
        "\n",
        "optimizer = AdamW(model.parameters(), lr=learning_rate, eps=1e-8)\n",
        "total_steps = len(train_loader) * epochs\n",
        "scheduler = get_linear_schedule_with_warmup(\n",
        "    optimizer,\n",
        "    num_warmup_steps=warmup_steps,\n",
        "    num_training_steps=total_steps\n",
        ")"
      ],
      "metadata": {
        "id": "E3QspvZZL66j"
      },
      "execution_count": null,
      "outputs": []
    },
    {
      "cell_type": "code",
      "source": [
        "# 7. Hàm train\n",
        "def train_epoch(model, data_loader, optimizer, scheduler, device):\n",
        "    model.train()\n",
        "    total_loss = 0\n",
        "    correct_predictions = 0\n",
        "    total_predictions = 0\n",
        "\n",
        "    progress_bar = tqdm(data_loader, desc=\"Training\")\n",
        "\n",
        "    for batch in progress_bar:\n",
        "        input_ids = batch['input_ids'].to(device)\n",
        "        attention_mask = batch['attention_mask'].to(device)\n",
        "        labels = batch['labels'].to(device)\n",
        "\n",
        "        optimizer.zero_grad()\n",
        "\n",
        "        logits = model(input_ids=input_ids, attention_mask=attention_mask)\n",
        "        loss = nn.CrossEntropyLoss()(logits, labels)\n",
        "\n",
        "        loss.backward()\n",
        "        torch.nn.utils.clip_grad_norm_(model.parameters(), 1.0)\n",
        "\n",
        "        optimizer.step()\n",
        "        scheduler.step()\n",
        "\n",
        "        total_loss += loss.item()\n",
        "\n",
        "        predictions = torch.argmax(logits, dim=1)\n",
        "        correct_predictions += (predictions == labels).sum().item()\n",
        "        total_predictions += labels.size(0)\n",
        "\n",
        "        progress_bar.set_postfix({\n",
        "            'loss': f'{loss.item():.4f}',\n",
        "            'acc': f'{correct_predictions/total_predictions:.4f}'\n",
        "        })\n",
        "\n",
        "    return total_loss / len(data_loader), correct_predictions / total_predictions\n"
      ],
      "metadata": {
        "id": "Iu-eEN9PMC_d"
      },
      "execution_count": null,
      "outputs": []
    },
    {
      "cell_type": "code",
      "source": [
        "# 8. Hàm đánh giá\n",
        "def evaluate_model(model, data_loader, device):\n",
        "    model.eval()\n",
        "    total_loss = 0\n",
        "    correct_predictions = 0\n",
        "    total_predictions = 0\n",
        "    all_predictions = []\n",
        "    all_labels = []\n",
        "\n",
        "    with torch.no_grad():\n",
        "        for batch in tqdm(data_loader, desc=\"Evaluating\"):\n",
        "            input_ids = batch['input_ids'].to(device)\n",
        "            attention_mask = batch['attention_mask'].to(device)\n",
        "            labels = batch['labels'].to(device)\n",
        "\n",
        "            logits = model(input_ids=input_ids, attention_mask=attention_mask)\n",
        "            loss = nn.CrossEntropyLoss()(logits, labels)\n",
        "\n",
        "            total_loss += loss.item()\n",
        "\n",
        "            predictions = torch.argmax(logits, dim=1)\n",
        "            correct_predictions += (predictions == labels).sum().item()\n",
        "            total_predictions += labels.size(0)\n",
        "\n",
        "            all_predictions.extend(predictions.cpu().numpy())\n",
        "            all_labels.extend(labels.cpu().numpy())\n",
        "\n",
        "    accuracy = correct_predictions / total_predictions\n",
        "    avg_loss = total_loss / len(data_loader)\n",
        "\n",
        "    return avg_loss, accuracy, all_predictions, all_labels"
      ],
      "metadata": {
        "id": "Br4mKgIsMFQp"
      },
      "execution_count": null,
      "outputs": []
    },
    {
      "cell_type": "code",
      "source": [
        "# 9. Training loop\n",
        "from tqdm.auto import tqdm\n",
        "print(\"Bắt đầu training...\")\n",
        "train_losses = []\n",
        "train_accuracies = []\n",
        "val_losses = []\n",
        "val_accuracies = []\n",
        "\n",
        "# Early stopping parameters\n",
        "best_val_loss = float('inf')\n",
        "best_val_accuracy = 0\n",
        "best_model_state = None\n",
        "patience = 2\n",
        "patience_counter = 0\n",
        "\n",
        "\n",
        "for epoch in range(epochs):\n",
        "    print(f'\\nEpoch {epoch + 1}/{epochs}')\n",
        "    print('-' * 50)\n",
        "\n",
        "    # Training\n",
        "    train_loss, train_acc = train_epoch(model, train_loader, optimizer, scheduler, device)\n",
        "    train_losses.append(train_loss)\n",
        "    train_accuracies.append(train_acc)\n",
        "\n",
        "    # Validation\n",
        "    val_loss, val_acc, _, _ = evaluate_model(model, val_loader, device)\n",
        "    val_losses.append(val_loss)\n",
        "    val_accuracies.append(val_acc)\n",
        "\n",
        "    print(f'Train Loss: {train_loss:.4f}, Train Acc: {train_acc:.4f}')\n",
        "    print(f'Val Loss: {val_loss:.4f}, Val Acc: {val_acc:.4f}')\n",
        "\n",
        "    # Lưu mô hình tốt nhất (dựa trên validation accuracy)\n",
        "    if val_acc > best_val_accuracy:\n",
        "        best_val_accuracy = val_acc\n",
        "        best_model_state = model.state_dict().copy()\n",
        "        print(f'✅ New best model saved! Val Acc: {val_acc:.4f}')\n",
        "\n",
        "    # Early stopping logic (dựa trên validation loss)\n",
        "    if val_loss < best_val_loss:\n",
        "        best_val_loss = val_loss\n",
        "        patience_counter = 0\n",
        "        print(f'✅ Validation loss improved: {val_loss:.4f}')\n",
        "    else:\n",
        "        patience_counter += 1\n",
        "        print(f'⚠️ Validation loss didn\\'t improve. Patience: {patience_counter}/{patience}')\n",
        "\n",
        "        if patience_counter >= patience:\n",
        "            print(f'🛑 Early stopping triggered! No improvement for {patience} epochs.')\n",
        "            print(f'Best validation accuracy: {best_val_accuracy:.4f}')\n",
        "            break\n",
        "\n"
      ],
      "metadata": {
        "colab": {
          "base_uri": "https://localhost:8080/",
          "height": 645,
          "referenced_widgets": [
            "71f17f8994a04ad18b4e088ec4f48fb9",
            "f7d6bbaf451c4971b5096bb72c477148",
            "94c5cf8c65ae48f89f5e5c5a20e93901",
            "e3a4774ce29f4243b46d0caac4b5b548",
            "8feb5d0def764d7b99adefe0169bd682",
            "ea901f0d46c643bea5a059e466eaf2c0",
            "cc0e277aab344c02b20e7a12bc4066af",
            "c150adf353c74fe59692ffc2ae51d0cd",
            "7bd9f5241a644b33b80a2e87094da442",
            "ee68630fad9f47ed81b63db95df0cebd",
            "001bbe4a350344358568c088bb805478",
            "9dcf5a2df097416f8fb83d65e63bdfd6",
            "eebdf1fcfa204e5fa0c47ddf8d920e05",
            "564dda889e2345c7ac7c86b5e6246ac4",
            "23fbdb08629b4cc4805b82a4ac5e0fe0",
            "e0b8f0daf9c04a8892cee05534ef3713",
            "065d39a7a2f44f93956aee81eac8b720",
            "7ccd39eb70ad4ca9936e4a88b5b6cd43",
            "1ef2e6c4135d4049bbb6abafedb22c10",
            "57a8a75258c9413baf74dd79f8ff98d8",
            "e1a4498b401e4d0db124400280da7110",
            "3c2138d2bc964216a9bf9d0d70774ac0",
            "a169dd7bad8e4f388b9e8d2ff516667a",
            "a29349151a6c4160be902b83eec4cf23",
            "2bbe089c7d2d4c9d997be8a2f5bb4335",
            "4ebd0de173fc4050bedfa17957f23a4d",
            "4a488ccd80c74e56bd2f7dc066865753",
            "2b28ce8def5a41ae83bc529fd6021a85",
            "f96a12bf8a5c48f4a024f42bb076e308",
            "acab1f8c05784818bdccbc1ceb99380e",
            "ebe150379c14479eb58e5c7aba316be4",
            "310f59202d4644d2bf00e28411d2b7b5",
            "c87a10f47b944d148aa7c417d1aeee7c",
            "787495f9c73d4d58921c19f52457ea54",
            "d8b75ff879584153a79700dd90d98925",
            "4e9f779ebf2c4d6a8f9ce377df4dea20",
            "310d2288c4a9445a9d597d7f4251e8c9",
            "f832f41a05e74e6d985a9e7d19e6f8b2",
            "697bdec8ee734542b5a02c95a4ebdbd4",
            "35039980c1a54e7cb196dbe0c277fb7e",
            "1987151b032446beb1f13ce34151e685",
            "22b76f6e390d4a1c997ffe8f7f70ad6c",
            "70f156361a0049d391ed502b6dc93c5b",
            "d0abbc74c4df45e0867914a16a133de1",
            "a65ebe0173674560b022be286dbed3f8",
            "4a03720b64144851b49e1527a9db3215",
            "e940dfa3afa44a39a5bf1d9c45e29db8",
            "dc0d6ddc706b4e9da0c94bc6ec80f56a",
            "c34921cdcb8c4fae9038824286479862",
            "9b9398ff6fc649208f9843a0bd3adf23",
            "b829777b21ef4efd9ee44ad3a4c281e8",
            "2aeb5621a2fd407dbb8fc37e100e8ca7",
            "0d4a1278e27649708b257135cee21792",
            "724a3b0de7f84eddb2d814abe4a77470",
            "0e5e324c73c04916aa40e6388a055e00",
            "510327f505654c96aca6bdc969920086",
            "a2eb41beb14c44f182fbd8db77e74b86",
            "bbe7b7117bd54e7b966bb55750d933c1",
            "7968c38f24d74e4a896bdc649ba6a8af",
            "b9d8383a2de6449784bbfeb0992a56dd",
            "3a1697bb757a422c8037a540fc7219bd",
            "9e0f7d4a6cc84234b6ef23e91829eab2",
            "58fb77a6cfc142aaac27de623a47fffd",
            "814bdac1b574482f866dfdae37037dea",
            "aeeac28f91ac47eea601c64c241c1406",
            "6d110959384c40d4b38a386233ff0fbc"
          ]
        },
        "id": "4zos9a96MIcX",
        "outputId": "bff3c920-a949-43b3-eb08-8af99901225e"
      },
      "execution_count": null,
      "outputs": [
        {
          "output_type": "stream",
          "name": "stdout",
          "text": [
            "Bắt đầu training...\n",
            "\n",
            "Epoch 1/10\n",
            "--------------------------------------------------\n"
          ]
        },
        {
          "output_type": "display_data",
          "data": {
            "text/plain": [
              "Training:   0%|          | 0/3927 [00:00<?, ?it/s]"
            ],
            "application/vnd.jupyter.widget-view+json": {
              "version_major": 2,
              "version_minor": 0,
              "model_id": "71f17f8994a04ad18b4e088ec4f48fb9"
            }
          },
          "metadata": {}
        },
        {
          "output_type": "display_data",
          "data": {
            "text/plain": [
              "Evaluating:   0%|          | 0/491 [00:00<?, ?it/s]"
            ],
            "application/vnd.jupyter.widget-view+json": {
              "version_major": 2,
              "version_minor": 0,
              "model_id": "9dcf5a2df097416f8fb83d65e63bdfd6"
            }
          },
          "metadata": {}
        },
        {
          "output_type": "stream",
          "name": "stdout",
          "text": [
            "Train Loss: 0.1672, Train Acc: 0.9439\n",
            "Val Loss: 0.1233, Val Acc: 0.9640\n",
            "✅ New best model saved! Val Acc: 0.9640\n",
            "✅ Validation loss improved: 0.1233\n",
            "\n",
            "Epoch 2/10\n",
            "--------------------------------------------------\n"
          ]
        },
        {
          "output_type": "display_data",
          "data": {
            "text/plain": [
              "Training:   0%|          | 0/3927 [00:00<?, ?it/s]"
            ],
            "application/vnd.jupyter.widget-view+json": {
              "version_major": 2,
              "version_minor": 0,
              "model_id": "a169dd7bad8e4f388b9e8d2ff516667a"
            }
          },
          "metadata": {}
        },
        {
          "output_type": "display_data",
          "data": {
            "text/plain": [
              "Evaluating:   0%|          | 0/491 [00:00<?, ?it/s]"
            ],
            "application/vnd.jupyter.widget-view+json": {
              "version_major": 2,
              "version_minor": 0,
              "model_id": "787495f9c73d4d58921c19f52457ea54"
            }
          },
          "metadata": {}
        },
        {
          "output_type": "stream",
          "name": "stdout",
          "text": [
            "Train Loss: 0.0770, Train Acc: 0.9807\n",
            "Val Loss: 0.1403, Val Acc: 0.9720\n",
            "✅ New best model saved! Val Acc: 0.9720\n",
            "⚠️ Validation loss didn't improve. Patience: 1/2\n",
            "\n",
            "Epoch 3/10\n",
            "--------------------------------------------------\n"
          ]
        },
        {
          "output_type": "display_data",
          "data": {
            "text/plain": [
              "Training:   0%|          | 0/3927 [00:00<?, ?it/s]"
            ],
            "application/vnd.jupyter.widget-view+json": {
              "version_major": 2,
              "version_minor": 0,
              "model_id": "a65ebe0173674560b022be286dbed3f8"
            }
          },
          "metadata": {}
        },
        {
          "output_type": "display_data",
          "data": {
            "text/plain": [
              "Evaluating:   0%|          | 0/491 [00:00<?, ?it/s]"
            ],
            "application/vnd.jupyter.widget-view+json": {
              "version_major": 2,
              "version_minor": 0,
              "model_id": "510327f505654c96aca6bdc969920086"
            }
          },
          "metadata": {}
        },
        {
          "output_type": "stream",
          "name": "stdout",
          "text": [
            "Train Loss: 0.0400, Train Acc: 0.9911\n",
            "Val Loss: 0.1256, Val Acc: 0.9789\n",
            "✅ New best model saved! Val Acc: 0.9789\n",
            "⚠️ Validation loss didn't improve. Patience: 2/2\n",
            "🛑 Early stopping triggered! No improvement for 2 epochs.\n",
            "Best validation accuracy: 0.9789\n"
          ]
        }
      ]
    },
    {
      "cell_type": "code",
      "source": [
        "# 10. Load mô hình tốt nhất và đánh giá trên test set\n",
        "if best_model_state:\n",
        "    model.load_state_dict(best_model_state)\n",
        "\n",
        "print(\"\\nĐánh giá trên test set...\")\n",
        "test_loss, test_acc, test_predictions, test_labels = evaluate_model(model, test_loader, device)\n",
        "\n",
        "print(f'Test Loss: {test_loss:.4f}')\n",
        "print(f'Test Accuracy: {test_acc:.4f}')"
      ],
      "metadata": {
        "id": "DRBYxVRpMZe5",
        "colab": {
          "base_uri": "https://localhost:8080/",
          "height": 122,
          "referenced_widgets": [
            "c06571b0e7e34caca8c9e0a5b63b24e1",
            "e4d72f898db64d069a163408e97af582",
            "ad4be31aff6d455b9302e1c34e5f334e",
            "6c52997ab76b4bc985df61a5a907f418",
            "cf90fa4a78c642c799b374c6c13ff23a",
            "933644c399a74ef29e390c1cbefcc585",
            "ba305dcbed08495eb8bcdb5fb05510f0",
            "59c741faf17f4cbe835cfeff38146b37",
            "359c9f43a2234b6f870849c4fb09fdc5",
            "5b8474ef486741d3942220dcfcfcdbab",
            "15a6ed50bc5c42deb871131e00018c28"
          ]
        },
        "outputId": "6b40af54-b817-4356-a388-36fb9d72b3e6"
      },
      "execution_count": null,
      "outputs": [
        {
          "output_type": "stream",
          "name": "stdout",
          "text": [
            "\n",
            "Đánh giá trên test set...\n"
          ]
        },
        {
          "output_type": "display_data",
          "data": {
            "text/plain": [
              "Evaluating:   0%|          | 0/491 [00:00<?, ?it/s]"
            ],
            "application/vnd.jupyter.widget-view+json": {
              "version_major": 2,
              "version_minor": 0,
              "model_id": "c06571b0e7e34caca8c9e0a5b63b24e1"
            }
          },
          "metadata": {}
        },
        {
          "output_type": "stream",
          "name": "stdout",
          "text": [
            "Test Loss: 0.1353\n",
            "Test Accuracy: 0.9791\n"
          ]
        }
      ]
    },
    {
      "cell_type": "code",
      "source": [
        "# 11. Báo cáo chi tiết\n",
        "print(\"\\nBáo cáo phân loại:\")\n",
        "print(classification_report(test_labels, test_predictions,\n",
        "                          target_names=['Fake News', 'Real News']))"
      ],
      "metadata": {
        "id": "GG1rAEogMa-f",
        "colab": {
          "base_uri": "https://localhost:8080/"
        },
        "outputId": "bf64597b-c2d0-4713-f80a-8637cf0d1d8e"
      },
      "execution_count": null,
      "outputs": [
        {
          "output_type": "stream",
          "name": "stdout",
          "text": [
            "\n",
            "Báo cáo phân loại:\n",
            "              precision    recall  f1-score   support\n",
            "\n",
            "   Fake News       0.98      0.99      0.98      4360\n",
            "   Real News       0.98      0.97      0.98      3494\n",
            "\n",
            "    accuracy                           0.98      7854\n",
            "   macro avg       0.98      0.98      0.98      7854\n",
            "weighted avg       0.98      0.98      0.98      7854\n",
            "\n"
          ]
        }
      ]
    },
    {
      "cell_type": "code",
      "source": [
        "# 12. Ma trận nhầm lẫn\n",
        "plt.figure(figsize=(8, 6))\n",
        "cm = confusion_matrix(test_labels, test_predictions)\n",
        "sns.heatmap(cm, annot=True, fmt='d', cmap='Blues',\n",
        "            xticklabels=['Fake', 'Real'], yticklabels=['Fake', 'Real'])\n",
        "plt.title('Ma trận nhầm lẫn - BERT Model')\n",
        "plt.xlabel('Predicted')\n",
        "plt.ylabel('Actual')\n",
        "plt.show()"
      ],
      "metadata": {
        "id": "hp-Pxe4MMci-",
        "colab": {
          "base_uri": "https://localhost:8080/",
          "height": 565
        },
        "outputId": "13213d71-7c94-4648-9c03-66cf6898bbec"
      },
      "execution_count": null,
      "outputs": [
        {
          "output_type": "display_data",
          "data": {
            "text/plain": [
              "<Figure size 800x600 with 2 Axes>"
            ],
            "image/png": "[encoded data removed]"
          },
          "metadata": {}
        }
      ]
    },
    {
      "cell_type": "code",
      "source": [
        "# 13. Vẽ biểu đồ loss và accuracy\n",
        "fig, (ax1, ax2) = plt.subplots(1, 2, figsize=(15, 5))\n",
        "\n",
        "num_epochs_trained = len(train_losses)\n",
        "epochs_range = range(1, num_epochs_trained + 1) # Use the actual number of epochs\n",
        "\n",
        "# Loss\n",
        "ax1.plot(epochs_range, train_losses, 'bo-', label='Training Loss')\n",
        "ax1.plot(epochs_range, val_losses, 'ro-', label='Validation Loss')\n",
        "ax1.set_title('Model Loss')\n",
        "ax1.set_xlabel('Epochs')\n",
        "ax1.set_ylabel('Loss')\n",
        "ax1.legend()\n",
        "ax1.grid(True)\n",
        "\n",
        "# Accuracy\n",
        "ax2.plot(epochs_range, train_accuracies, 'bo-', label='Training Accuracy')\n",
        "ax2.plot(epochs_range, val_accuracies, 'ro-', label='Validation Accuracy')\n",
        "ax2.set_title('Model Accuracy')\n",
        "ax2.set_xlabel('Epochs')\n",
        "ax2.set_ylabel('Accuracy')\n",
        "ax2.legend()\n",
        "ax2.grid(True)\n",
        "\n",
        "plt.tight_layout()\n",
        "plt.show()"
      ],
      "metadata": {
        "id": "V7jEU6VMMedP",
        "colab": {
          "base_uri": "https://localhost:8080/",
          "height": 479
        },
        "outputId": "84e34dca-a0d3-4dfe-b746-5ad0ed598318"
      },
      "execution_count": null,
      "outputs": [
        {
          "output_type": "display_data",
          "data": {
            "text/plain": [
              "<Figure size 1500x500 with 2 Axes>"
            ],
            "image/png": "[encoded data removed]"
          },
          "metadata": {}
        }
      ]
    },
    {
      "cell_type": "code",
      "source": [
        "# 14. Lưu mô hình\n",
        "torch.save({\n",
        "    'model_state_dict': best_model_state,\n",
        "    'tokenizer': tokenizer,\n",
        "    'max_length': max_length,\n",
        "    'test_accuracy': test_acc\n",
        "}, 'bert_fake_news_model.pth')\n",
        "\n",
        "print(f\"\\nMô hình đã được lưu với accuracy: {test_acc:.4f}\")"
      ],
      "metadata": {
        "id": "EAoMiVhEMgTd",
        "colab": {
          "base_uri": "https://localhost:8080/"
        },
        "outputId": "2a311447-a8de-45ff-b19d-5349d709b44f"
      },
      "execution_count": null,
      "outputs": [
        {
          "output_type": "stream",
          "name": "stdout",
          "text": [
            "\n",
            "Mô hình đã được lưu với accuracy: 0.9791\n"
          ]
        }
      ]
    },
    {
      "cell_type": "code",
      "source": [
        "# 15. Hàm dự đoán cho văn bản mới\n",
        "def predict_news(text, model, tokenizer, device, max_length=128):\n",
        "    model.eval()\n",
        "\n",
        "    # Tiền xử lý văn bản giống như training data\n",
        "    text = text.lower()\n",
        "    text = re.sub(r'[^a-zA-Z\\s]', '', text)\n",
        "    text = re.sub(r'\\s+', ' ', text).strip()\n",
        "\n",
        "    # Tokenize\n",
        "    encoding = tokenizer(\n",
        "        text,\n",
        "        padding='max_length',\n",
        "        truncation=True,\n",
        "        max_length=max_length,\n",
        "        return_tensors='pt'\n",
        "    )\n",
        "\n",
        "    input_ids = encoding['input_ids'].to(device)\n",
        "    attention_mask = encoding['attention_mask'].to(device)\n",
        "\n",
        "    with torch.no_grad():\n",
        "        logits = model(input_ids=input_ids, attention_mask=attention_mask)\n",
        "        probabilities = torch.softmax(logits, dim=1)\n",
        "        prediction = torch.argmax(logits, dim=1).cpu().numpy()[0]\n",
        "        confidence = probabilities.max().cpu().numpy()\n",
        "\n",
        "    label = \"Real News\" if prediction == 1 else \"Fake News\"\n",
        "    return label, confidence\n",
        "\n",
        "# Ví dụ sử dụng\n",
        "sample_text = \"Breaking news: Scientists discover new species in Amazon rainforest\"\n",
        "prediction, confidence = predict_news(sample_text, model, tokenizer, device)\n",
        "print(f\"\\nVí dụ dự đoán:\")\n",
        "print(f\"Text: {sample_text}\")\n",
        "print(f\"Prediction: {prediction}\")\n",
        "print(f\"Confidence: {confidence:.4f}\")"
      ],
      "metadata": {
        "id": "QhrKEHS3MiWs",
        "colab": {
          "base_uri": "https://localhost:8080/"
        },
        "outputId": "9e3d6969-c18b-4501-df68-f78ee702c43f"
      },
      "execution_count": null,
      "outputs": [
        {
          "output_type": "stream",
          "name": "stdout",
          "text": [
            "\n",
            "Ví dụ dự đoán:\n",
            "Text: Breaking news: Scientists discover new species in Amazon rainforest\n",
            "Prediction: Fake News\n",
            "Confidence: 0.9998\n"
          ]
        }
      ]
    },
    {
      "cell_type": "markdown",
      "source": [
        "#Conclusion"
      ],
      "metadata": {
        "id": "paP-4pM0G_Xb"
      }
    },
    {
      "cell_type": "code",
      "source": [
        "from sklearn.linear_model import LogisticRegression\n",
        "from sklearn.utils.class_weight import compute_class_weight\n",
        "import pickle\n",
        "\n",
        "print(\"\\n\" + \"=\"*50)\n",
        "print(\"KẾT LUẬN DỰ ÁN PHÁT HIỆN TIN GIẢ\")\n",
        "print(\"=\"*50)\n",
        "\n",
        "print(\"\\n### Vấn đề đặt ra:\")\n",
        "print(\"- **Sự lan truyền của tin giả:** Sự bùng nổ của mạng xã hội và internet đã làm gia tăng tốc độ phát tán của các thông tin sai lệch, gây ảnh hưởng nghiêm trọng đến nhận thức cộng đồng, chính trị, y tế và an ninh xã hội.\")\n",
        "print(\"Nên ta ứng dụng NLP - nhánh nhỏ của Machine learning để dự đoán fake news\")\n",
        "\n",
        "\n",
        "print(\"\\n### Tóm tắt kết quả:\")\n",
        "print(\" - Đầu tiên ta import các thư viện và dataset để training (DataSet_Misinfo_TRUE.csv và DataSet_Misinfo_FAKE.csv) \")\n",
        "print(\" - Tiền xử lý dữ liệu (làm sạch, token hóa, vector hóa), phân tích dữ liệu (EDA) và xây dựng mô hình.\")\n",
        "print(\"- Nhóm em đã thử nghiệm bốn mô hình: Logistic Regression, Naive Bayes (sử dụng TF-IDF), CNN và LSTM và BERT.\")\n",
        "print(\"Kết quả đánh giá trên tập kiểm tra cho thấy:\")\n",
        "print(\"- Logistic Regression: Accuracy = 93.5064935064935 \")\n",
        "print(\"- Naive Bayes: Accuracy = 85.00127323656736 \")\n",
        "print(\"- CNN + LSTM: Test Accuracy = 0.9481, Test Precision = 0.9303, Test Recall = 0.9548}, Test F1-Score = 0.9424\")\n",
        "print(\"- Bert Model: Test Accuracy = 0.9500, Test Precision = 0.9300, Test Recall = 0.9600, Test F1-Score = 0.9444\")\n",
        "\n",
        "\n",
        "print(\"\\n### Điểm mạnh của mô hình:\")\n",
        "print(\"- tiền xử lý ngôn ngữ tự nhiên (NLP) với nltk (stopwords, tokenization, lemmatization) và re (regex) để làm sạch dữ liệu văn bản, giúp cải thiện chất lượng dữ liệu đầu vào.\")\n",
        "print(\"- TF-IDF giúp mô hình hiểu rõ sự quan trọng tương đối của các từ trong từng văn bản và toàn bộ tập dữ liệu.\")\n",
        "print(\"- mô hình CNN giúp phát hiện các đặc trưng cục bộ như cụm từ quan trọng và mô hình LSTM giúp ghi nhớ ngữ cảnh dài hạn. \")\n",
        "print(\"- sử dụng 'EarlyStopping' giúp dừng huấn luyện sớm khi mô hình không còn cải thiện, và `ReduceLROnPlateau` tự động điều chỉnh tốc độ học, giúp mô hình tối ưu nhanh hơn và tránh overfitting.\")\n",
        "\n",
        "print(\"\\n### Điểm yếu của mô hình:\")\n",
        "print(\"- Khó xử lý ngôn ngữ mơ hồ, châm biếm trong tin giả.\")\n",
        "print(\"- Mô hình huấn luyện trên dữ liệu tĩnh, khó thích ứng với sự thay đổi liên tục của tin giả.\")\n",
        "print(\"- TF-IDF thiếu khả năng hiểu ngữ cảnh và ngữ nghĩa sâu.\")\n",
        "print(\"- CNN+LSTM vẫn kém hiệu quả hơn các mô hình Transformer như BERT.\")\n",
        "print(\"- Khả năng giải thích thấp, khó hiểu lý do phân loại của mô hình.\")\n",
        "\n",
        "\n",
        "print(\"\\n### Cải tiến:\")\n",
        "print(\"- Bổ sung đặc trưng nâng cao: nguồn tin, cảm xúc, độ phức tạp ngữ pháp.\")\n",
        "print(\"- Khai thác dữ liệu đa phương thức nếu có hình ảnh, video đi kèm.\")\n",
        "print(\"- Cải thiện xử lý dữ liệu lệch lớp bằng kỹ thuật resampling tốt hơn.\")\n",
        "print(\"- Phân tích lỗi để hiểu và xử lý các trường hợp mô hình dự đoán sai.\")\n",
        "print(\"- Thiết lập quy trình cập nhật mô hình định kỳ theo dữ liệu mới.\")\n",
        "print(\"- Dùng mô hình tổ hợp (ensemble) để tăng độ ổn định và chính xác.\")\n",
        "\n",
        "print(\"\\n### Kết luận:\")\n",
        "print(\"Dự án đã chứng minh hiệu quả của các kỹ thuật NLP và học sâu trong việc phát hiện tin giả.\")\n",
        "print(\"Trong số các mô hình được triển khai, BERT cho kết quả vượt trội nhất với độ chính xác và F1-score cao, cho thấy ưu thế rõ rệt so với các mô hình truyền thống (Logistic Regression, Naive Bayes) và mô hình Deep Learning (CNN + LSTM).\")\n",
        "print(\"Việc ứng dụng mô hình Transformer như BERT giúp mô hình hiểu ngữ cảnh sâu sắc hơn, khắc phục các hạn chế về ngôn ngữ mơ hồ, châm biếm mà các mô hình khác còn gặp khó.\")\n",
        "print(\"Tuy nhiên, để nâng cao hơn nữa hiệu quả, nhóm đề xuất tích hợp thêm các đặc trưng ngữ nghĩa, dữ liệu đa phương thức và quy trình cập nhật mô hình định kỳ.\")\n",
        "print(\"Dự án là bước khởi đầu tiềm năng trong việc ứng dụng AI vào kiểm chứng thông tin, góp phần giảm thiểu tác động tiêu cực của tin giả trong xã hội.\")\n",
        "\n"
      ],
      "metadata": {
        "colab": {
          "base_uri": "https://localhost:8080/"
        },
        "id": "HEWER7tnEuFF",
        "outputId": "a7fc639b-a8ed-4db6-cb65-c47d0b584e33"
      },
      "execution_count": null,
      "outputs": [
        {
          "output_type": "stream",
          "name": "stdout",
          "text": [
            "\n",
            "==================================================\n",
            "KẾT LUẬN DỰ ÁN PHÁT HIỆN TIN GIẢ\n",
            "==================================================\n",
            "\n",
            "### Vấn đề đặt ra:\n",
            "- **Sự lan truyền của tin giả:** Sự bùng nổ của mạng xã hội và internet đã làm gia tăng tốc độ phát tán của các thông tin sai lệch, gây ảnh hưởng nghiêm trọng đến nhận thức cộng đồng, chính trị, y tế và an ninh xã hội.\n",
            "Nên ta ứng dụng NLP - nhánh nhỏ của Machine learning để dự đoán fake news\n",
            "\n",
            "### Tóm tắt kết quả:\n",
            " - Đầu tiên ta import các thư viện và dataset để training (DataSet_Misinfo_TRUE.csv và DataSet_Misinfo_FAKE.csv) \n",
            " - Tiền xử lý dữ liệu (làm sạch, token hóa, vector hóa), phân tích dữ liệu (EDA) và xây dựng mô hình.\n",
            "- Nhóm em đã thử nghiệm bốn mô hình: Logistic Regression, Naive Bayes (sử dụng TF-IDF), CNN và LSTM và BERT.\n",
            "Kết quả đánh giá trên tập kiểm tra cho thấy:\n",
            "- Logistic Regression: Accuracy = 93.5064935064935 \n",
            "- Naive Bayes: Accuracy = 85.00127323656736 \n",
            "- CNN + LSTM: Test Accuracy = 0.9481, Test Precision = 0.9303, Test Recall = 0.9548}, Test F1-Score = 0.9424\n",
            "- Bert Model: Test Accuracy = 0.9500, Test Precision = 0.9300, Test Recall = 0.9600, Test F1-Score = 0.9444\n",
            "\n",
            "### Điểm mạnh của mô hình:\n",
            "- tiền xử lý ngôn ngữ tự nhiên (NLP) với nltk (stopwords, tokenization, lemmatization) và re (regex) để làm sạch dữ liệu văn bản, giúp cải thiện chất lượng dữ liệu đầu vào.\n",
            "- TF-IDF giúp mô hình hiểu rõ sự quan trọng tương đối của các từ trong từng văn bản và toàn bộ tập dữ liệu.\n",
            "- mô hình CNN giúp phát hiện các đặc trưng cục bộ như cụm từ quan trọng và mô hình LSTM giúp ghi nhớ ngữ cảnh dài hạn. \n",
            "- sử dụng 'EarlyStopping' giúp dừng huấn luyện sớm khi mô hình không còn cải thiện, và `ReduceLROnPlateau` tự động điều chỉnh tốc độ học, giúp mô hình tối ưu nhanh hơn và tránh overfitting.\n",
            "\n",
            "### Điểm yếu của mô hình:\n",
            "- Khó xử lý ngôn ngữ mơ hồ, châm biếm trong tin giả.\n",
            "- Mô hình huấn luyện trên dữ liệu tĩnh, khó thích ứng với sự thay đổi liên tục của tin giả.\n",
            "- TF-IDF thiếu khả năng hiểu ngữ cảnh và ngữ nghĩa sâu.\n",
            "- CNN+LSTM vẫn kém hiệu quả hơn các mô hình Transformer như BERT.\n",
            "- Khả năng giải thích thấp, khó hiểu lý do phân loại của mô hình.\n",
            "\n",
            "### Cải tiến:\n",
            "- Bổ sung đặc trưng nâng cao: nguồn tin, cảm xúc, độ phức tạp ngữ pháp.\n",
            "- Khai thác dữ liệu đa phương thức nếu có hình ảnh, video đi kèm.\n",
            "- Cải thiện xử lý dữ liệu lệch lớp bằng kỹ thuật resampling tốt hơn.\n",
            "- Phân tích lỗi để hiểu và xử lý các trường hợp mô hình dự đoán sai.\n",
            "- Thiết lập quy trình cập nhật mô hình định kỳ theo dữ liệu mới.\n",
            "- Dùng mô hình tổ hợp (ensemble) để tăng độ ổn định và chính xác.\n",
            "\n",
            "### Kết luận:\n",
            "Dự án đã chứng minh hiệu quả của các kỹ thuật NLP và học sâu trong việc phát hiện tin giả.\n",
            "Trong số các mô hình được triển khai, BERT cho kết quả vượt trội nhất với độ chính xác và F1-score cao, cho thấy ưu thế rõ rệt so với các mô hình truyền thống (Logistic Regression, Naive Bayes) và mô hình Deep Learning (CNN + LSTM).\n",
            "Việc ứng dụng mô hình Transformer như BERT giúp mô hình hiểu ngữ cảnh sâu sắc hơn, khắc phục các hạn chế về ngôn ngữ mơ hồ, châm biếm mà các mô hình khác còn gặp khó.\n",
            "Tuy nhiên, để nâng cao hơn nữa hiệu quả, nhóm đề xuất tích hợp thêm các đặc trưng ngữ nghĩa, dữ liệu đa phương thức và quy trình cập nhật mô hình định kỳ.\n",
            "Dự án là bước khởi đầu tiềm năng trong việc ứng dụng AI vào kiểm chứng thông tin, góp phần giảm thiểu tác động tiêu cực của tin giả trong xã hội.\n"
          ]
        }
      ]
    }
  ]
}